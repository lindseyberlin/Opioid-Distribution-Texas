{
 "cells": [
  {
   "cell_type": "code",
   "execution_count": 65,
   "metadata": {},
   "outputs": [],
   "source": [
    "# Imports\n",
    "\n",
    "# Data import and manipulation\n",
    "import pandas as pd\n",
    "# Math\n",
    "import numpy as np\n",
    "# Let's go ahead and seed the notebook, for reproducibility\n",
    "np.random.seed(113)\n",
    "\n",
    "# Some statistics, including some checks for normality and skew\n",
    "from scipy import stats\n",
    "from scipy.stats import norm, skew\n",
    "\n",
    "# And now, all the visualization libraries\n",
    "import plotly.express as px\n",
    "import plotly.graph_objects as go\n",
    "import matplotlib.pyplot as plt\n",
    "import seaborn as sns\n",
    "plt.style.use('seaborn-darkgrid')\n",
    "sns.set()"
   ]
  },
  {
   "cell_type": "code",
   "execution_count": 66,
   "metadata": {},
   "outputs": [],
   "source": [
    "# First, the Washington Post data\n",
    "# Specifying some dtypes as 'objects' for faster input\n",
    "dtypes = {\n",
    "    \"BUYER_COUNTY\": \"object\",\n",
    "    \"DOSAGE_UNIT\": \"float64\",\n",
    "    \"TRANSACTION_DATE\" : \"object\"\n",
    "}\n",
    "# Reading in columns for modeling\n",
    "wp_data = pd.read_csv(\"data/arcos-tx-statewide-itemized.tsv\",\n",
    "                   sep='\\t',\n",
    "                   usecols=[\"BUYER_COUNTY\", \"DOSAGE_UNIT\", \"TRANSACTION_DATE\"],\n",
    "                   dtype=dtypes)"
   ]
  },
  {
   "cell_type": "code",
   "execution_count": 67,
   "metadata": {},
   "outputs": [],
   "source": [
    "# Transforming the WP data's date into datetime\n",
    "# Need to add leading zeros for months with 1 digit, so each date has 8 digits\n",
    "wp_data[\"TRANSACTION_DATE\"] = wp_data[\"TRANSACTION_DATE\"].str.zfill(8)\n",
    "# And then actually transforming the data type\n",
    "wp_data[\"TRANSACTION_DATE\"] = pd.to_datetime(wp_data[\"TRANSACTION_DATE\"],\n",
    "                                            format='%m%d%Y')"
   ]
  },
  {
   "cell_type": "code",
   "execution_count": 68,
   "metadata": {},
   "outputs": [],
   "source": [
    "# Let's also make a column for the years of each transaction\n",
    "wp_data[\"YEAR\"] = wp_data[\"TRANSACTION_DATE\"].dt.year"
   ]
  },
  {
   "cell_type": "code",
   "execution_count": 69,
   "metadata": {},
   "outputs": [],
   "source": [
    "# Now we don't need the transaction date, and it's going to get confusing \n",
    "# with the aggregation, so let's drop that column\n",
    "wp_data.drop(columns=\"TRANSACTION_DATE\", inplace=True)"
   ]
  },
  {
   "cell_type": "code",
   "execution_count": 70,
   "metadata": {},
   "outputs": [],
   "source": [
    "# Renaming the columns to be a bit simpler\n",
    "wp_data.rename(columns={\"BUYER_COUNTY\": \"COUNTY\"},\n",
    "              inplace=True)"
   ]
  },
  {
   "cell_type": "code",
   "execution_count": 71,
   "metadata": {
    "scrolled": true
   },
   "outputs": [
    {
     "data": {
      "text/html": [
       "<div>\n",
       "<style scoped>\n",
       "    .dataframe tbody tr th:only-of-type {\n",
       "        vertical-align: middle;\n",
       "    }\n",
       "\n",
       "    .dataframe tbody tr th {\n",
       "        vertical-align: top;\n",
       "    }\n",
       "\n",
       "    .dataframe thead th {\n",
       "        text-align: right;\n",
       "    }\n",
       "</style>\n",
       "<table border=\"1\" class=\"dataframe\">\n",
       "  <thead>\n",
       "    <tr style=\"text-align: right;\">\n",
       "      <th></th>\n",
       "      <th>COUNTY</th>\n",
       "      <th>DOSAGE_UNIT</th>\n",
       "      <th>YEAR</th>\n",
       "    </tr>\n",
       "  </thead>\n",
       "  <tbody>\n",
       "    <tr>\n",
       "      <th>0</th>\n",
       "      <td>GREGG</td>\n",
       "      <td>500.0</td>\n",
       "      <td>2006</td>\n",
       "    </tr>\n",
       "    <tr>\n",
       "      <th>1</th>\n",
       "      <td>JEFFERSON</td>\n",
       "      <td>500.0</td>\n",
       "      <td>2006</td>\n",
       "    </tr>\n",
       "    <tr>\n",
       "      <th>2</th>\n",
       "      <td>JEFFERSON</td>\n",
       "      <td>400.0</td>\n",
       "      <td>2006</td>\n",
       "    </tr>\n",
       "    <tr>\n",
       "      <th>3</th>\n",
       "      <td>JEFFERSON</td>\n",
       "      <td>100.0</td>\n",
       "      <td>2007</td>\n",
       "    </tr>\n",
       "    <tr>\n",
       "      <th>4</th>\n",
       "      <td>JEFFERSON</td>\n",
       "      <td>100.0</td>\n",
       "      <td>2007</td>\n",
       "    </tr>\n",
       "    <tr>\n",
       "      <th>5</th>\n",
       "      <td>JEFFERSON</td>\n",
       "      <td>300.0</td>\n",
       "      <td>2007</td>\n",
       "    </tr>\n",
       "    <tr>\n",
       "      <th>6</th>\n",
       "      <td>EL PASO</td>\n",
       "      <td>500.0</td>\n",
       "      <td>2007</td>\n",
       "    </tr>\n",
       "    <tr>\n",
       "      <th>7</th>\n",
       "      <td>HARRIS</td>\n",
       "      <td>3000.0</td>\n",
       "      <td>2007</td>\n",
       "    </tr>\n",
       "    <tr>\n",
       "      <th>8</th>\n",
       "      <td>HARRIS</td>\n",
       "      <td>1500.0</td>\n",
       "      <td>2006</td>\n",
       "    </tr>\n",
       "    <tr>\n",
       "      <th>9</th>\n",
       "      <td>HARRIS</td>\n",
       "      <td>500.0</td>\n",
       "      <td>2006</td>\n",
       "    </tr>\n",
       "  </tbody>\n",
       "</table>\n",
       "</div>"
      ],
      "text/plain": [
       "      COUNTY  DOSAGE_UNIT  YEAR\n",
       "0      GREGG        500.0  2006\n",
       "1  JEFFERSON        500.0  2006\n",
       "2  JEFFERSON        400.0  2006\n",
       "3  JEFFERSON        100.0  2007\n",
       "4  JEFFERSON        100.0  2007\n",
       "5  JEFFERSON        300.0  2007\n",
       "6    EL PASO        500.0  2007\n",
       "7     HARRIS       3000.0  2007\n",
       "8     HARRIS       1500.0  2006\n",
       "9     HARRIS        500.0  2006"
      ]
     },
     "execution_count": 71,
     "metadata": {},
     "output_type": "execute_result"
    }
   ],
   "source": [
    "wp_data.head(10)"
   ]
  },
  {
   "cell_type": "code",
   "execution_count": 72,
   "metadata": {
    "scrolled": true
   },
   "outputs": [
    {
     "name": "stdout",
     "output_type": "stream",
     "text": [
      "<class 'pandas.core.frame.DataFrame'>\n",
      "RangeIndex: 12108468 entries, 0 to 12108467\n",
      "Data columns (total 3 columns):\n",
      "COUNTY         object\n",
      "DOSAGE_UNIT    float64\n",
      "YEAR           int64\n",
      "dtypes: float64(1), int64(1), object(1)\n",
      "memory usage: 277.1+ MB\n"
     ]
    }
   ],
   "source": [
    "wp_data.info()"
   ]
  },
  {
   "cell_type": "code",
   "execution_count": 73,
   "metadata": {},
   "outputs": [],
   "source": [
    "# For reasons I cannot fathom, extracting the year doesn't keep it as a \n",
    "# datetime object, which I need for the index\n",
    "wp_data[\"YEAR\"] = pd.to_datetime(wp_data[\"YEAR\"], format='%Y')"
   ]
  },
  {
   "cell_type": "code",
   "execution_count": 74,
   "metadata": {},
   "outputs": [],
   "source": [
    "# Probably not going to use this, but woo pivot tables\n",
    "wp_pivot = pd.pivot_table(wp_data, index=\"COUNTY\",\n",
    "                          columns=\"YEAR\",\n",
    "                          values=\"DOSAGE_UNIT\", aggfunc=[np.sum])"
   ]
  },
  {
   "cell_type": "code",
   "execution_count": 75,
   "metadata": {
    "scrolled": true
   },
   "outputs": [
    {
     "data": {
      "text/html": [
       "<div>\n",
       "<style scoped>\n",
       "    .dataframe tbody tr th:only-of-type {\n",
       "        vertical-align: middle;\n",
       "    }\n",
       "\n",
       "    .dataframe tbody tr th {\n",
       "        vertical-align: top;\n",
       "    }\n",
       "\n",
       "    .dataframe thead tr th {\n",
       "        text-align: left;\n",
       "    }\n",
       "\n",
       "    .dataframe thead tr:last-of-type th {\n",
       "        text-align: right;\n",
       "    }\n",
       "</style>\n",
       "<table border=\"1\" class=\"dataframe\">\n",
       "  <thead>\n",
       "    <tr>\n",
       "      <th></th>\n",
       "      <th colspan=\"7\" halign=\"left\">sum</th>\n",
       "    </tr>\n",
       "    <tr>\n",
       "      <th>YEAR</th>\n",
       "      <th>2006-01-01</th>\n",
       "      <th>2007-01-01</th>\n",
       "      <th>2008-01-01</th>\n",
       "      <th>2009-01-01</th>\n",
       "      <th>2010-01-01</th>\n",
       "      <th>2011-01-01</th>\n",
       "      <th>2012-01-01</th>\n",
       "    </tr>\n",
       "    <tr>\n",
       "      <th>COUNTY</th>\n",
       "      <th></th>\n",
       "      <th></th>\n",
       "      <th></th>\n",
       "      <th></th>\n",
       "      <th></th>\n",
       "      <th></th>\n",
       "      <th></th>\n",
       "    </tr>\n",
       "  </thead>\n",
       "  <tbody>\n",
       "    <tr>\n",
       "      <th>ANDERSON</th>\n",
       "      <td>2209130.0</td>\n",
       "      <td>2148570.0</td>\n",
       "      <td>2296470.0</td>\n",
       "      <td>2348990.0</td>\n",
       "      <td>2445130.0</td>\n",
       "      <td>2740100.0</td>\n",
       "      <td>2672540.0</td>\n",
       "    </tr>\n",
       "    <tr>\n",
       "      <th>ANDREWS</th>\n",
       "      <td>246600.0</td>\n",
       "      <td>274080.0</td>\n",
       "      <td>320200.0</td>\n",
       "      <td>331510.0</td>\n",
       "      <td>367330.0</td>\n",
       "      <td>415720.0</td>\n",
       "      <td>481510.0</td>\n",
       "    </tr>\n",
       "    <tr>\n",
       "      <th>ANGELINA</th>\n",
       "      <td>3070975.0</td>\n",
       "      <td>3472800.0</td>\n",
       "      <td>4016760.0</td>\n",
       "      <td>4286080.0</td>\n",
       "      <td>4319439.0</td>\n",
       "      <td>4789710.0</td>\n",
       "      <td>4693270.0</td>\n",
       "    </tr>\n",
       "    <tr>\n",
       "      <th>ARANSAS</th>\n",
       "      <td>734500.0</td>\n",
       "      <td>948950.0</td>\n",
       "      <td>989600.0</td>\n",
       "      <td>1014920.0</td>\n",
       "      <td>1110790.0</td>\n",
       "      <td>1206540.0</td>\n",
       "      <td>1294570.0</td>\n",
       "    </tr>\n",
       "    <tr>\n",
       "      <th>ARCHER</th>\n",
       "      <td>NaN</td>\n",
       "      <td>200.0</td>\n",
       "      <td>NaN</td>\n",
       "      <td>NaN</td>\n",
       "      <td>NaN</td>\n",
       "      <td>NaN</td>\n",
       "      <td>100.0</td>\n",
       "    </tr>\n",
       "  </tbody>\n",
       "</table>\n",
       "</div>"
      ],
      "text/plain": [
       "                sum                                                         \\\n",
       "YEAR     2006-01-01 2007-01-01 2008-01-01 2009-01-01 2010-01-01 2011-01-01   \n",
       "COUNTY                                                                       \n",
       "ANDERSON  2209130.0  2148570.0  2296470.0  2348990.0  2445130.0  2740100.0   \n",
       "ANDREWS    246600.0   274080.0   320200.0   331510.0   367330.0   415720.0   \n",
       "ANGELINA  3070975.0  3472800.0  4016760.0  4286080.0  4319439.0  4789710.0   \n",
       "ARANSAS    734500.0   948950.0   989600.0  1014920.0  1110790.0  1206540.0   \n",
       "ARCHER          NaN      200.0        NaN        NaN        NaN        NaN   \n",
       "\n",
       "                     \n",
       "YEAR     2012-01-01  \n",
       "COUNTY               \n",
       "ANDERSON  2672540.0  \n",
       "ANDREWS    481510.0  \n",
       "ANGELINA  4693270.0  \n",
       "ARANSAS   1294570.0  \n",
       "ARCHER        100.0  "
      ]
     },
     "execution_count": 75,
     "metadata": {},
     "output_type": "execute_result"
    }
   ],
   "source": [
    "wp_pivot.head()"
   ]
  },
  {
   "cell_type": "code",
   "execution_count": 76,
   "metadata": {},
   "outputs": [],
   "source": [
    "# Creating an aggregated multi-index dataframe\n",
    "wp_agg = wp_data.groupby([\"YEAR\", \"COUNTY\"]).agg(\n",
    "    {\"DOSAGE_UNIT\": \"sum\"})"
   ]
  },
  {
   "cell_type": "code",
   "execution_count": 77,
   "metadata": {
    "scrolled": true
   },
   "outputs": [
    {
     "data": {
      "text/html": [
       "<div>\n",
       "<style scoped>\n",
       "    .dataframe tbody tr th:only-of-type {\n",
       "        vertical-align: middle;\n",
       "    }\n",
       "\n",
       "    .dataframe tbody tr th {\n",
       "        vertical-align: top;\n",
       "    }\n",
       "\n",
       "    .dataframe thead th {\n",
       "        text-align: right;\n",
       "    }\n",
       "</style>\n",
       "<table border=\"1\" class=\"dataframe\">\n",
       "  <thead>\n",
       "    <tr style=\"text-align: right;\">\n",
       "      <th></th>\n",
       "      <th></th>\n",
       "      <th>DOSAGE_UNIT</th>\n",
       "    </tr>\n",
       "    <tr>\n",
       "      <th>YEAR</th>\n",
       "      <th>COUNTY</th>\n",
       "      <th></th>\n",
       "    </tr>\n",
       "  </thead>\n",
       "  <tbody>\n",
       "    <tr>\n",
       "      <th rowspan=\"10\" valign=\"top\">2006-01-01</th>\n",
       "      <th>ANDERSON</th>\n",
       "      <td>2209130.0</td>\n",
       "    </tr>\n",
       "    <tr>\n",
       "      <th>ANDREWS</th>\n",
       "      <td>246600.0</td>\n",
       "    </tr>\n",
       "    <tr>\n",
       "      <th>ANGELINA</th>\n",
       "      <td>3070975.0</td>\n",
       "    </tr>\n",
       "    <tr>\n",
       "      <th>ARANSAS</th>\n",
       "      <td>734500.0</td>\n",
       "    </tr>\n",
       "    <tr>\n",
       "      <th>ARMSTRONG</th>\n",
       "      <td>14500.0</td>\n",
       "    </tr>\n",
       "    <tr>\n",
       "      <th>ATASCOSA</th>\n",
       "      <td>1139180.0</td>\n",
       "    </tr>\n",
       "    <tr>\n",
       "      <th>AUSTIN</th>\n",
       "      <td>503500.0</td>\n",
       "    </tr>\n",
       "    <tr>\n",
       "      <th>BAILEY</th>\n",
       "      <td>111080.0</td>\n",
       "    </tr>\n",
       "    <tr>\n",
       "      <th>BANDERA</th>\n",
       "      <td>250070.0</td>\n",
       "    </tr>\n",
       "    <tr>\n",
       "      <th>BASTROP</th>\n",
       "      <td>1402040.0</td>\n",
       "    </tr>\n",
       "  </tbody>\n",
       "</table>\n",
       "</div>"
      ],
      "text/plain": [
       "                      DOSAGE_UNIT\n",
       "YEAR       COUNTY                \n",
       "2006-01-01 ANDERSON     2209130.0\n",
       "           ANDREWS       246600.0\n",
       "           ANGELINA     3070975.0\n",
       "           ARANSAS       734500.0\n",
       "           ARMSTRONG      14500.0\n",
       "           ATASCOSA     1139180.0\n",
       "           AUSTIN        503500.0\n",
       "           BAILEY        111080.0\n",
       "           BANDERA       250070.0\n",
       "           BASTROP      1402040.0"
      ]
     },
     "execution_count": 77,
     "metadata": {},
     "output_type": "execute_result"
    }
   ],
   "source": [
    "wp_agg.head(10)"
   ]
  },
  {
   "cell_type": "code",
   "execution_count": 78,
   "metadata": {},
   "outputs": [],
   "source": [
    "# Now, the TX DSHS data\n",
    "dshs_data = pd.read_csv(\"data/TXDSHS/TXDeaths_by_County_Data_NullsRemoved.csv\")"
   ]
  },
  {
   "cell_type": "code",
   "execution_count": 79,
   "metadata": {
    "scrolled": true
   },
   "outputs": [
    {
     "data": {
      "text/html": [
       "<div>\n",
       "<style scoped>\n",
       "    .dataframe tbody tr th:only-of-type {\n",
       "        vertical-align: middle;\n",
       "    }\n",
       "\n",
       "    .dataframe tbody tr th {\n",
       "        vertical-align: top;\n",
       "    }\n",
       "\n",
       "    .dataframe thead th {\n",
       "        text-align: right;\n",
       "    }\n",
       "</style>\n",
       "<table border=\"1\" class=\"dataframe\">\n",
       "  <thead>\n",
       "    <tr style=\"text-align: right;\">\n",
       "      <th></th>\n",
       "      <th>County Name</th>\n",
       "      <th>Number of Deaths</th>\n",
       "      <th>Type of Death1</th>\n",
       "      <th>Year (copy)</th>\n",
       "      <th>Latitude (generated)</th>\n",
       "      <th>Longitude (generated)</th>\n",
       "    </tr>\n",
       "  </thead>\n",
       "  <tbody>\n",
       "    <tr>\n",
       "      <th>0</th>\n",
       "      <td>Zavala</td>\n",
       "      <td>0.0</td>\n",
       "      <td>Accidental Poisoning Deaths where Opioids Were...</td>\n",
       "      <td>2006</td>\n",
       "      <td>28.866</td>\n",
       "      <td>-99.761</td>\n",
       "    </tr>\n",
       "    <tr>\n",
       "      <th>1</th>\n",
       "      <td>Zapata</td>\n",
       "      <td>0.0</td>\n",
       "      <td>Accidental Poisoning Deaths where Opioids Were...</td>\n",
       "      <td>2006</td>\n",
       "      <td>26.971</td>\n",
       "      <td>-99.203</td>\n",
       "    </tr>\n",
       "    <tr>\n",
       "      <th>2</th>\n",
       "      <td>Young</td>\n",
       "      <td>2.5</td>\n",
       "      <td>Accidental Poisoning Deaths where Opioids Were...</td>\n",
       "      <td>2006</td>\n",
       "      <td>33.175</td>\n",
       "      <td>-98.687</td>\n",
       "    </tr>\n",
       "    <tr>\n",
       "      <th>3</th>\n",
       "      <td>Yoakum</td>\n",
       "      <td>0.0</td>\n",
       "      <td>Accidental Poisoning Deaths where Opioids Were...</td>\n",
       "      <td>2006</td>\n",
       "      <td>33.173</td>\n",
       "      <td>-102.829</td>\n",
       "    </tr>\n",
       "    <tr>\n",
       "      <th>4</th>\n",
       "      <td>Wood</td>\n",
       "      <td>2.5</td>\n",
       "      <td>Accidental Poisoning Deaths where Opioids Were...</td>\n",
       "      <td>2006</td>\n",
       "      <td>32.783</td>\n",
       "      <td>-95.407</td>\n",
       "    </tr>\n",
       "  </tbody>\n",
       "</table>\n",
       "</div>"
      ],
      "text/plain": [
       "  County Name  Number of Deaths  \\\n",
       "0      Zavala               0.0   \n",
       "1      Zapata               0.0   \n",
       "2       Young               2.5   \n",
       "3      Yoakum               0.0   \n",
       "4        Wood               2.5   \n",
       "\n",
       "                                      Type of Death1  Year (copy)  \\\n",
       "0  Accidental Poisoning Deaths where Opioids Were...         2006   \n",
       "1  Accidental Poisoning Deaths where Opioids Were...         2006   \n",
       "2  Accidental Poisoning Deaths where Opioids Were...         2006   \n",
       "3  Accidental Poisoning Deaths where Opioids Were...         2006   \n",
       "4  Accidental Poisoning Deaths where Opioids Were...         2006   \n",
       "\n",
       "   Latitude (generated)  Longitude (generated)  \n",
       "0                28.866                -99.761  \n",
       "1                26.971                -99.203  \n",
       "2                33.175                -98.687  \n",
       "3                33.173               -102.829  \n",
       "4                32.783                -95.407  "
      ]
     },
     "execution_count": 79,
     "metadata": {},
     "output_type": "execute_result"
    }
   ],
   "source": [
    "# Remember, 2.5 in the Number of Deaths column is actually a placeholder,\n",
    "# based on the average, since deaths between 1 and 9 per county were \n",
    "# suppressed for privacy reasons\n",
    "dshs_data.head()"
   ]
  },
  {
   "cell_type": "code",
   "execution_count": 80,
   "metadata": {},
   "outputs": [
    {
     "name": "stdout",
     "output_type": "stream",
     "text": [
      "<class 'pandas.core.frame.DataFrame'>\n",
      "RangeIndex: 1778 entries, 0 to 1777\n",
      "Data columns (total 6 columns):\n",
      "County Name              1778 non-null object\n",
      "Number of Deaths         1778 non-null float64\n",
      "Type of Death1           1778 non-null object\n",
      "Year (copy)              1778 non-null int64\n",
      "Latitude (generated)     1778 non-null float64\n",
      "Longitude (generated)    1778 non-null float64\n",
      "dtypes: float64(3), int64(1), object(2)\n",
      "memory usage: 83.4+ KB\n"
     ]
    }
   ],
   "source": [
    "dshs_data.info()"
   ]
  },
  {
   "cell_type": "code",
   "execution_count": 81,
   "metadata": {},
   "outputs": [],
   "source": [
    "# Need to do a bit of clean up here\n",
    "# Dropping columns we don't need\n",
    "dshs_data.drop(columns=[\"Type of Death1\", \"Latitude (generated)\",\n",
    "                        \"Longitude (generated)\"], inplace=True)\n",
    "# Making sure all of the county names in that column are uppercase\n",
    "dshs_data[\"County Name\"] = dshs_data[\"County Name\"].str.upper()\n",
    "# Renaming the columns to be the same as the WP data\n",
    "dshs_data.rename(columns={\"County Name\": \"COUNTY\",\n",
    "                          \"Year (copy)\": \"YEAR\",\n",
    "                          \"Number of Deaths\": \"NUM_DEATHS\"},\n",
    "                 inplace=True)"
   ]
  },
  {
   "cell_type": "code",
   "execution_count": 82,
   "metadata": {},
   "outputs": [],
   "source": [
    "dshs_data[\"YEAR\"] = pd.to_datetime(dshs_data[\"YEAR\"], format='%Y')"
   ]
  },
  {
   "cell_type": "code",
   "execution_count": 83,
   "metadata": {},
   "outputs": [],
   "source": [
    "# Creating an aggregated multi-index dataframe, but now for DSHS data\n",
    "dshs_agg = dshs_data.groupby([\"YEAR\", \"COUNTY\"]).agg(\n",
    "    {\"NUM_DEATHS\": \"sum\"})\n",
    "dshs_test = dshs_data.groupby([\"YEAR\"]).agg(\n",
    "    {\"COUNTY\": \"all\",\"NUM_DEATHS\": \"sum\"})"
   ]
  },
  {
   "cell_type": "code",
   "execution_count": 84,
   "metadata": {
    "scrolled": false
   },
   "outputs": [
    {
     "data": {
      "text/plain": [
       "(1778, 1)"
      ]
     },
     "execution_count": 84,
     "metadata": {},
     "output_type": "execute_result"
    }
   ],
   "source": [
    "dshs_agg.shape"
   ]
  },
  {
   "cell_type": "code",
   "execution_count": 85,
   "metadata": {},
   "outputs": [],
   "source": [
    "# And now to merge!\n",
    "merged_data = dshs_agg.merge(wp_agg, how='left', \n",
    "                             left_index=True, right_index=True)"
   ]
  },
  {
   "cell_type": "code",
   "execution_count": 86,
   "metadata": {
    "scrolled": false
   },
   "outputs": [
    {
     "data": {
      "text/html": [
       "<div>\n",
       "<style scoped>\n",
       "    .dataframe tbody tr th:only-of-type {\n",
       "        vertical-align: middle;\n",
       "    }\n",
       "\n",
       "    .dataframe tbody tr th {\n",
       "        vertical-align: top;\n",
       "    }\n",
       "\n",
       "    .dataframe thead th {\n",
       "        text-align: right;\n",
       "    }\n",
       "</style>\n",
       "<table border=\"1\" class=\"dataframe\">\n",
       "  <thead>\n",
       "    <tr style=\"text-align: right;\">\n",
       "      <th></th>\n",
       "      <th></th>\n",
       "      <th>NUM_DEATHS</th>\n",
       "      <th>DOSAGE_UNIT</th>\n",
       "    </tr>\n",
       "    <tr>\n",
       "      <th>YEAR</th>\n",
       "      <th>COUNTY</th>\n",
       "      <th></th>\n",
       "      <th></th>\n",
       "    </tr>\n",
       "  </thead>\n",
       "  <tbody>\n",
       "    <tr>\n",
       "      <th rowspan=\"20\" valign=\"top\">2006-01-01</th>\n",
       "      <th>ANDERSON</th>\n",
       "      <td>2.5</td>\n",
       "      <td>2209130.0</td>\n",
       "    </tr>\n",
       "    <tr>\n",
       "      <th>ANDREWS</th>\n",
       "      <td>0.0</td>\n",
       "      <td>246600.0</td>\n",
       "    </tr>\n",
       "    <tr>\n",
       "      <th>ANGELINA</th>\n",
       "      <td>2.5</td>\n",
       "      <td>3070975.0</td>\n",
       "    </tr>\n",
       "    <tr>\n",
       "      <th>ARANSAS</th>\n",
       "      <td>2.5</td>\n",
       "      <td>734500.0</td>\n",
       "    </tr>\n",
       "    <tr>\n",
       "      <th>ARCHER</th>\n",
       "      <td>0.0</td>\n",
       "      <td>NaN</td>\n",
       "    </tr>\n",
       "    <tr>\n",
       "      <th>ARMSTRONG</th>\n",
       "      <td>0.0</td>\n",
       "      <td>14500.0</td>\n",
       "    </tr>\n",
       "    <tr>\n",
       "      <th>ATASCOSA</th>\n",
       "      <td>0.0</td>\n",
       "      <td>1139180.0</td>\n",
       "    </tr>\n",
       "    <tr>\n",
       "      <th>AUSTIN</th>\n",
       "      <td>0.0</td>\n",
       "      <td>503500.0</td>\n",
       "    </tr>\n",
       "    <tr>\n",
       "      <th>BAILEY</th>\n",
       "      <td>0.0</td>\n",
       "      <td>111080.0</td>\n",
       "    </tr>\n",
       "    <tr>\n",
       "      <th>BANDERA</th>\n",
       "      <td>2.5</td>\n",
       "      <td>250070.0</td>\n",
       "    </tr>\n",
       "    <tr>\n",
       "      <th>BASTROP</th>\n",
       "      <td>2.5</td>\n",
       "      <td>1402040.0</td>\n",
       "    </tr>\n",
       "    <tr>\n",
       "      <th>BAYLOR</th>\n",
       "      <td>0.0</td>\n",
       "      <td>93800.0</td>\n",
       "    </tr>\n",
       "    <tr>\n",
       "      <th>BEE</th>\n",
       "      <td>0.0</td>\n",
       "      <td>461540.0</td>\n",
       "    </tr>\n",
       "    <tr>\n",
       "      <th>BELL</th>\n",
       "      <td>2.5</td>\n",
       "      <td>3871330.0</td>\n",
       "    </tr>\n",
       "    <tr>\n",
       "      <th>BEXAR</th>\n",
       "      <td>80.0</td>\n",
       "      <td>27838715.0</td>\n",
       "    </tr>\n",
       "    <tr>\n",
       "      <th>BLANCO</th>\n",
       "      <td>0.0</td>\n",
       "      <td>104860.0</td>\n",
       "    </tr>\n",
       "    <tr>\n",
       "      <th>BORDEN</th>\n",
       "      <td>0.0</td>\n",
       "      <td>NaN</td>\n",
       "    </tr>\n",
       "    <tr>\n",
       "      <th>BOSQUE</th>\n",
       "      <td>0.0</td>\n",
       "      <td>433390.0</td>\n",
       "    </tr>\n",
       "    <tr>\n",
       "      <th>BOWIE</th>\n",
       "      <td>2.5</td>\n",
       "      <td>3613780.0</td>\n",
       "    </tr>\n",
       "    <tr>\n",
       "      <th>BRAZORIA</th>\n",
       "      <td>18.0</td>\n",
       "      <td>6317690.0</td>\n",
       "    </tr>\n",
       "  </tbody>\n",
       "</table>\n",
       "</div>"
      ],
      "text/plain": [
       "                      NUM_DEATHS  DOSAGE_UNIT\n",
       "YEAR       COUNTY                            \n",
       "2006-01-01 ANDERSON          2.5    2209130.0\n",
       "           ANDREWS           0.0     246600.0\n",
       "           ANGELINA          2.5    3070975.0\n",
       "           ARANSAS           2.5     734500.0\n",
       "           ARCHER            0.0          NaN\n",
       "           ARMSTRONG         0.0      14500.0\n",
       "           ATASCOSA          0.0    1139180.0\n",
       "           AUSTIN            0.0     503500.0\n",
       "           BAILEY            0.0     111080.0\n",
       "           BANDERA           2.5     250070.0\n",
       "           BASTROP           2.5    1402040.0\n",
       "           BAYLOR            0.0      93800.0\n",
       "           BEE               0.0     461540.0\n",
       "           BELL              2.5    3871330.0\n",
       "           BEXAR            80.0   27838715.0\n",
       "           BLANCO            0.0     104860.0\n",
       "           BORDEN            0.0          NaN\n",
       "           BOSQUE            0.0     433390.0\n",
       "           BOWIE             2.5    3613780.0\n",
       "           BRAZORIA         18.0    6317690.0"
      ]
     },
     "execution_count": 86,
     "metadata": {},
     "output_type": "execute_result"
    }
   ],
   "source": [
    "merged_data.head(20)"
   ]
  },
  {
   "cell_type": "code",
   "execution_count": 87,
   "metadata": {},
   "outputs": [],
   "source": [
    "# Now, to fill nulls in the dosage unit (where no pills were shipped)\n",
    "merged_data[\"DOSAGE_UNIT\"].fillna(value=0, inplace=True)"
   ]
  },
  {
   "cell_type": "code",
   "execution_count": 88,
   "metadata": {
    "scrolled": true
   },
   "outputs": [
    {
     "name": "stdout",
     "output_type": "stream",
     "text": [
      "<class 'pandas.core.frame.DataFrame'>\n",
      "MultiIndex: 1778 entries, (2006-01-01 00:00:00, ANDERSON) to (2012-01-01 00:00:00, ZAVALA)\n",
      "Data columns (total 2 columns):\n",
      "NUM_DEATHS     1778 non-null float64\n",
      "DOSAGE_UNIT    1778 non-null float64\n",
      "dtypes: float64(2)\n",
      "memory usage: 115.1+ KB\n"
     ]
    }
   ],
   "source": [
    "merged_data.info()"
   ]
  },
  {
   "cell_type": "code",
   "execution_count": 89,
   "metadata": {},
   "outputs": [
    {
     "data": {
      "text/html": [
       "<div>\n",
       "<style scoped>\n",
       "    .dataframe tbody tr th:only-of-type {\n",
       "        vertical-align: middle;\n",
       "    }\n",
       "\n",
       "    .dataframe tbody tr th {\n",
       "        vertical-align: top;\n",
       "    }\n",
       "\n",
       "    .dataframe thead th {\n",
       "        text-align: right;\n",
       "    }\n",
       "</style>\n",
       "<table border=\"1\" class=\"dataframe\">\n",
       "  <thead>\n",
       "    <tr style=\"text-align: right;\">\n",
       "      <th></th>\n",
       "      <th>COUNTY</th>\n",
       "      <th>NUM_DEATHS</th>\n",
       "      <th>DOSAGE_UNIT</th>\n",
       "    </tr>\n",
       "    <tr>\n",
       "      <th>YEAR</th>\n",
       "      <th></th>\n",
       "      <th></th>\n",
       "      <th></th>\n",
       "    </tr>\n",
       "  </thead>\n",
       "  <tbody>\n",
       "    <tr>\n",
       "      <th>2006-01-01</th>\n",
       "      <td>ANDERSON</td>\n",
       "      <td>2.5</td>\n",
       "      <td>2209130.0</td>\n",
       "    </tr>\n",
       "    <tr>\n",
       "      <th>2006-01-01</th>\n",
       "      <td>ANDREWS</td>\n",
       "      <td>0.0</td>\n",
       "      <td>246600.0</td>\n",
       "    </tr>\n",
       "    <tr>\n",
       "      <th>2006-01-01</th>\n",
       "      <td>ANGELINA</td>\n",
       "      <td>2.5</td>\n",
       "      <td>3070975.0</td>\n",
       "    </tr>\n",
       "    <tr>\n",
       "      <th>2006-01-01</th>\n",
       "      <td>ARANSAS</td>\n",
       "      <td>2.5</td>\n",
       "      <td>734500.0</td>\n",
       "    </tr>\n",
       "    <tr>\n",
       "      <th>2006-01-01</th>\n",
       "      <td>ARCHER</td>\n",
       "      <td>0.0</td>\n",
       "      <td>0.0</td>\n",
       "    </tr>\n",
       "  </tbody>\n",
       "</table>\n",
       "</div>"
      ],
      "text/plain": [
       "              COUNTY  NUM_DEATHS  DOSAGE_UNIT\n",
       "YEAR                                         \n",
       "2006-01-01  ANDERSON         2.5    2209130.0\n",
       "2006-01-01   ANDREWS         0.0     246600.0\n",
       "2006-01-01  ANGELINA         2.5    3070975.0\n",
       "2006-01-01   ARANSAS         2.5     734500.0\n",
       "2006-01-01    ARCHER         0.0          0.0"
      ]
     },
     "execution_count": 89,
     "metadata": {},
     "output_type": "execute_result"
    }
   ],
   "source": [
    "# I do want to copy this merged dataset with different index levels\n",
    "# Because often, multi-indexes are annoying\n",
    "# Here is a copy with the year as the index\n",
    "year_index = merged_data.reset_index(level=1)\n",
    "year_index.head()"
   ]
  },
  {
   "cell_type": "code",
   "execution_count": 102,
   "metadata": {
    "scrolled": true
   },
   "outputs": [
    {
     "data": {
      "text/html": [
       "<div>\n",
       "<style scoped>\n",
       "    .dataframe tbody tr th:only-of-type {\n",
       "        vertical-align: middle;\n",
       "    }\n",
       "\n",
       "    .dataframe tbody tr th {\n",
       "        vertical-align: top;\n",
       "    }\n",
       "\n",
       "    .dataframe thead th {\n",
       "        text-align: right;\n",
       "    }\n",
       "</style>\n",
       "<table border=\"1\" class=\"dataframe\">\n",
       "  <thead>\n",
       "    <tr style=\"text-align: right;\">\n",
       "      <th></th>\n",
       "      <th>YEAR</th>\n",
       "      <th>COUNTY</th>\n",
       "      <th>NUM_DEATHS</th>\n",
       "      <th>DOSAGE_UNIT</th>\n",
       "    </tr>\n",
       "  </thead>\n",
       "  <tbody>\n",
       "    <tr>\n",
       "      <th>0</th>\n",
       "      <td>2006-01-01</td>\n",
       "      <td>ANDERSON</td>\n",
       "      <td>2.5</td>\n",
       "      <td>2209130.0</td>\n",
       "    </tr>\n",
       "    <tr>\n",
       "      <th>1</th>\n",
       "      <td>2006-01-01</td>\n",
       "      <td>ANDREWS</td>\n",
       "      <td>0.0</td>\n",
       "      <td>246600.0</td>\n",
       "    </tr>\n",
       "    <tr>\n",
       "      <th>2</th>\n",
       "      <td>2006-01-01</td>\n",
       "      <td>ANGELINA</td>\n",
       "      <td>2.5</td>\n",
       "      <td>3070975.0</td>\n",
       "    </tr>\n",
       "    <tr>\n",
       "      <th>3</th>\n",
       "      <td>2006-01-01</td>\n",
       "      <td>ARANSAS</td>\n",
       "      <td>2.5</td>\n",
       "      <td>734500.0</td>\n",
       "    </tr>\n",
       "    <tr>\n",
       "      <th>4</th>\n",
       "      <td>2006-01-01</td>\n",
       "      <td>ARCHER</td>\n",
       "      <td>0.0</td>\n",
       "      <td>0.0</td>\n",
       "    </tr>\n",
       "  </tbody>\n",
       "</table>\n",
       "</div>"
      ],
      "text/plain": [
       "        YEAR    COUNTY  NUM_DEATHS  DOSAGE_UNIT\n",
       "0 2006-01-01  ANDERSON         2.5    2209130.0\n",
       "1 2006-01-01   ANDREWS         0.0     246600.0\n",
       "2 2006-01-01  ANGELINA         2.5    3070975.0\n",
       "3 2006-01-01   ARANSAS         2.5     734500.0\n",
       "4 2006-01-01    ARCHER         0.0          0.0"
      ]
     },
     "execution_count": 102,
     "metadata": {},
     "output_type": "execute_result"
    }
   ],
   "source": [
    "# And a copy with a regular numbered index\n",
    "reset_index = merged_data.reset_index()\n",
    "reset_index.head()"
   ]
  },
  {
   "cell_type": "markdown",
   "metadata": {},
   "source": [
    "### Investigating the Relationship"
   ]
  },
  {
   "cell_type": "code",
   "execution_count": 92,
   "metadata": {},
   "outputs": [
    {
     "data": {
      "image/png": "[encoded data removed]",
      "text/plain": [
       "<Figure size 720x360 with 2 Axes>"
      ]
     },
     "metadata": {},
     "output_type": "display_data"
    }
   ],
   "source": [
    "# Let's see the distribution of each variable, before preprocessing\n",
    "fig1, axes = plt.subplots(1, 2, figsize=(10,5), constrained_layout=True)\n",
    "\n",
    "fig1_1 = merged_data[\"DOSAGE_UNIT\"].hist(ax=axes[0])\n",
    "fig1_2 = merged_data[\"NUM_DEATHS\"].hist(ax=axes[1])\n",
    "\n",
    "fig1_1.title.set_text(\"Pills Recieved\")\n",
    "fig1_2.title.set_text(\"Opioid Overdose Deaths\")\n",
    "\n",
    "fig1_1.set_xlabel(\"Number of Pills, in Millions\")\n",
    "fig1_2.set_xlabel(\"Number of Opioid Deaths\")\n",
    "fig1.suptitle(\"Histograms (Texas, 2006-2012)\")\n",
    "\n",
    "plt.show()"
   ]
  },
  {
   "cell_type": "code",
   "execution_count": 93,
   "metadata": {
    "scrolled": false
   },
   "outputs": [
    {
     "data": {
      "image/png": "[encoded data removed]",
      "text/plain": [
       "<Figure size 576x432 with 1 Axes>"
      ]
     },
     "metadata": {},
     "output_type": "display_data"
    }
   ],
   "source": [
    "# Let's also investigate the relationship\n",
    "plt.figure(figsize=(8, 6))\n",
    "\n",
    "plt.scatter(x=merged_data[\"DOSAGE_UNIT\"], y=merged_data[\"NUM_DEATHS\"])\n",
    "\n",
    "plt.xticks(np.arange(0, 200000000, step=50000000),\n",
    "           labels=(\"0\", \"50M\", \"100M\", \"150M\"))\n",
    "plt.ylabel(\"Number of Opioid Deaths\")\n",
    "plt.xlabel(\"Number of Opioid Pills Received\")\n",
    "plt.title(\"Opioid Pills Recieved Versus Opioid Overdose Deaths (Texas, 2006-2012)\")\n",
    "plt.show()"
   ]
  },
  {
   "cell_type": "code",
   "execution_count": 53,
   "metadata": {
    "scrolled": false
   },
   "outputs": [
    {
     "data": {
      "image/png": "[encoded data removed]",
      "text/plain": [
       "<Figure size 864x432 with 2 Axes>"
      ]
     },
     "metadata": {},
     "output_type": "display_data"
    }
   ],
   "source": [
    "# Plotting another distribution plot, plus a Q-Q plot to check skew\n",
    "f, (ax1, ax2) = plt.subplots(1,2, figsize=(12,6))\n",
    "\n",
    "# By setting fit=norm, we can better compare to a normal distribution\n",
    "sns.distplot(merged_data[\"DOSAGE_UNIT\"], fit=norm, ax=ax1)\n",
    "stats.probplot(merged_data[\"DOSAGE_UNIT\"], plot=ax2)\n",
    "\n",
    "ax1.set_title(\"Distribution of Opioid Pills Recieved\")\n",
    "ax1.set(xlabel=\"Number of Pills, in Millions\", ylabel=\"Frequency\")\n",
    "\n",
    "plt.show()\n",
    "# As you can see, very skewed"
   ]
  },
  {
   "cell_type": "code",
   "execution_count": 48,
   "metadata": {},
   "outputs": [],
   "source": [
    "from sklearn.preprocessing import MinMaxScaler\n",
    "\n",
    "scaler = MinMaxScaler()"
   ]
  },
  {
   "cell_type": "code",
   "execution_count": 46,
   "metadata": {},
   "outputs": [
    {
     "data": {
      "image/png": "[encoded data removed]",
      "text/plain": [
       "<Figure size 720x360 with 2 Axes>"
      ]
     },
     "metadata": {
      "needs_background": "light"
     },
     "output_type": "display_data"
    }
   ],
   "source": [
    "# Let's see the distribution of each variable, now that we've processed\n",
    "fig2, axes = plt.subplots(1, 2, figsize=(10,5), constrained_layout=True)\n",
    "\n",
    "fig2_1 = merged_data[\"DOSAGE_UNIT_LOG\"].hist(ax=axes[0])\n",
    "fig2_2 = merged_data[\"NUM_DEATHS_LOG\"].hist(ax=axes[1])\n",
    "\n",
    "fig2_1.title.set_text(\"Pills Recieved\")\n",
    "fig2_2.title.set_text(\"Opioid Overdose Deaths\")\n",
    "\n",
    "fig2_1.set_xlabel(\"Number of Pills, in Millions, Logged\")\n",
    "fig2_2.set_xlabel(\"Number of Opioid Deaths. Logged\")\n",
    "fig2.suptitle(\"Histograms\")\n",
    "\n",
    "plt.show()"
   ]
  },
  {
   "cell_type": "code",
   "execution_count": 100,
   "metadata": {},
   "outputs": [
    {
     "data": {
      "image/png": "[encoded data removed]",
      "text/plain": [
       "<Figure size 720x432 with 2 Axes>"
      ]
     },
     "metadata": {},
     "output_type": "display_data"
    }
   ],
   "source": [
    "plt.figure(figsize=(10,6))\n",
    "\n",
    "plt.subplot(2,1,1)\n",
    "year_index[\"DOSAGE_UNIT\"].plot()\n",
    "plt.ylabel(\"Number of Pills, Millions\")\n",
    "\n",
    "plt.subplot(2,1,2)\n",
    "year_index[\"NUM_DEATHS\"].plot()\n",
    "plt.ylabel(\"Number of Deaths\")\n",
    "\n",
    "plt.show()"
   ]
  },
  {
   "cell_type": "code",
   "execution_count": null,
   "metadata": {},
   "outputs": [],
   "source": []
  },
  {
   "cell_type": "code",
   "execution_count": null,
   "metadata": {},
   "outputs": [],
   "source": []
  },
  {
   "cell_type": "code",
   "execution_count": null,
   "metadata": {},
   "outputs": [],
   "source": []
  },
  {
   "cell_type": "code",
   "execution_count": null,
   "metadata": {},
   "outputs": [],
   "source": []
  }
 ],
 "metadata": {
  "kernelspec": {
   "display_name": "Python 3",
   "language": "python",
   "name": "python3"
  },
  "language_info": {
   "codemirror_mode": {
    "name": "ipython",
    "version": 3
   },
   "file_extension": ".py",
   "mimetype": "text/x-python",
   "name": "python",
   "nbconvert_exporter": "python",
   "pygments_lexer": "ipython3",
   "version": "3.7.3"
  }
 },
 "nbformat": 4,
 "nbformat_minor": 2
}
