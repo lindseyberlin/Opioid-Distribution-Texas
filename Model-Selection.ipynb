{
 "cells": [
  {
   "cell_type": "markdown",
   "metadata": {},
   "source": [
    "# Goal\n",
    "\n",
    "My modeling goal within this notebook is to take the Washington Post dataset, specifically the number of pills sent to each county, and ask - So What?\n",
    "\n",
    "In other words, can the pills sent into a county predict a metric that's used to measure the opioid crisis, namely the number of opioid deaths in that county?"
   ]
  },
  {
   "cell_type": "code",
   "execution_count": 1,
   "metadata": {},
   "outputs": [],
   "source": [
    "# Imports (I know, there are a lot)\n",
    "\n",
    "# Data import and manipulation\n",
    "import pandas as pd\n",
    "# Math\n",
    "import numpy as np\n",
    "# Let's go ahead and seed the notebook, for reproducibility\n",
    "np.random.seed(113)\n",
    "\n",
    "# Some statistics, including some checks for normality, skew and correlation\n",
    "from scipy import stats\n",
    "from scipy.stats import norm, skew, spearmanr\n",
    "\n",
    "# Modeling, processing and metrics\n",
    "from sklearn import preprocessing\n",
    "from sklearn.model_selection import train_test_split\n",
    "from sklearn.linear_model import LogisticRegression\n",
    "from sklearn.tree import DecisionTreeClassifier\n",
    "from sklearn.metrics import confusion_matrix, classification_report\n",
    "from sklearn.ensemble import RandomForestClassifier\n",
    "# unique_label allows the confusion matrix to automatically label itself\n",
    "from sklearn.utils.multiclass import unique_labels\n",
    "# XGBoosted modeling library\n",
    "import xgboost as xgb\n",
    "\n",
    "# Visualization libraries\n",
    "import matplotlib.pyplot as plt\n",
    "import seaborn as sns\n",
    "# Augmenting sklearn models with visualizations built for them\n",
    "from yellowbrick.regressor import ResidualsPlot\n",
    "from yellowbrick.features import Rank1D, Rank2D\n",
    "# Visualization style setting\n",
    "plt.style.use('seaborn-darkgrid')\n",
    "sns.set()\n",
    "\n",
    "# Interactive widgets\n",
    "import ipywidgets as widgets\n",
    "from ipywidgets import interact, interact_manual"
   ]
  },
  {
   "cell_type": "code",
   "execution_count": 2,
   "metadata": {},
   "outputs": [],
   "source": [
    "# Before we begin, defining a few functions to visually evaluate the models\n",
    "def vis_cm(y_true, y_pred):\n",
    "    # Takes true values first, then predicted values\n",
    "    c_mat = confusion_matrix(y_true, y_pred)\n",
    "\n",
    "    plt.subplots()\n",
    "    # Visualizes the matrix\n",
    "    sns.heatmap(c_mat, annot=True, cmap=\"Blues\", fmt='g')\n",
    "\n",
    "    # Adds title and axis labels\n",
    "    plt.title('Confusion Matrix')\n",
    "    plt.ylabel('True Label')\n",
    "    plt.xlabel('Predicted Label')\n",
    "\n",
    "    # Adds appropriate axis scales\n",
    "    class_names = unique_labels(y_true, y_pred)\n",
    "    tick_marks = np.arange(len(class_names))\n",
    "    # The +.5 here just centers the labels, red or white, since it's 2x2\n",
    "    plt.xticks(tick_marks + .5, class_names)\n",
    "    plt.yticks(tick_marks + .5, class_names)\n",
    "\n",
    "    plt.show()\n",
    "\n",
    "# Printing scores for each model\n",
    "def print_scores(model, X_train, X_test, y_train, y_test, y_pred):\n",
    "    print(\"Training Accuracy: {}\".format(model.score(X_train, y_train)))\n",
    "    print(\"Testing Accuracy: {}\".format(model.score(X_test, y_test)))\n",
    "    print(classification_report(y_test, y_pred))"
   ]
  },
  {
   "cell_type": "code",
   "execution_count": 3,
   "metadata": {
    "scrolled": false
   },
   "outputs": [
    {
     "data": {
      "text/html": [
       "<div>\n",
       "<style scoped>\n",
       "    .dataframe tbody tr th:only-of-type {\n",
       "        vertical-align: middle;\n",
       "    }\n",
       "\n",
       "    .dataframe tbody tr th {\n",
       "        vertical-align: top;\n",
       "    }\n",
       "\n",
       "    .dataframe thead th {\n",
       "        text-align: right;\n",
       "    }\n",
       "</style>\n",
       "<table border=\"1\" class=\"dataframe\">\n",
       "  <thead>\n",
       "    <tr style=\"text-align: right;\">\n",
       "      <th></th>\n",
       "      <th>COUNTY</th>\n",
       "      <th>YEAR</th>\n",
       "      <th>TOTAL_POPULATION</th>\n",
       "      <th>TOTAL_PILLS</th>\n",
       "      <th>TOTAL_OVERDOSE_DEATHS</th>\n",
       "    </tr>\n",
       "  </thead>\n",
       "  <tbody>\n",
       "    <tr>\n",
       "      <th>0</th>\n",
       "      <td>ANDERSON</td>\n",
       "      <td>2006</td>\n",
       "      <td>57386</td>\n",
       "      <td>2209130.0</td>\n",
       "      <td>2.5</td>\n",
       "    </tr>\n",
       "    <tr>\n",
       "      <th>1</th>\n",
       "      <td>ANDREWS</td>\n",
       "      <td>2006</td>\n",
       "      <td>13195</td>\n",
       "      <td>246600.0</td>\n",
       "      <td>0.0</td>\n",
       "    </tr>\n",
       "    <tr>\n",
       "      <th>2</th>\n",
       "      <td>ANGELINA</td>\n",
       "      <td>2006</td>\n",
       "      <td>83810</td>\n",
       "      <td>3070975.0</td>\n",
       "      <td>2.5</td>\n",
       "    </tr>\n",
       "    <tr>\n",
       "      <th>3</th>\n",
       "      <td>ARANSAS</td>\n",
       "      <td>2006</td>\n",
       "      <td>23395</td>\n",
       "      <td>734500.0</td>\n",
       "      <td>2.5</td>\n",
       "    </tr>\n",
       "    <tr>\n",
       "      <th>4</th>\n",
       "      <td>ARCHER</td>\n",
       "      <td>2006</td>\n",
       "      <td>9063</td>\n",
       "      <td>0.0</td>\n",
       "      <td>0.0</td>\n",
       "    </tr>\n",
       "  </tbody>\n",
       "</table>\n",
       "</div>"
      ],
      "text/plain": [
       "     COUNTY  YEAR  TOTAL_POPULATION  TOTAL_PILLS  TOTAL_OVERDOSE_DEATHS\n",
       "0  ANDERSON  2006             57386    2209130.0                    2.5\n",
       "1   ANDREWS  2006             13195     246600.0                    0.0\n",
       "2  ANGELINA  2006             83810    3070975.0                    2.5\n",
       "3   ARANSAS  2006             23395     734500.0                    2.5\n",
       "4    ARCHER  2006              9063          0.0                    0.0"
      ]
     },
     "execution_count": 3,
     "metadata": {},
     "output_type": "execute_result"
    }
   ],
   "source": [
    "# Note - I'm just going to start with Pills, to see if I can build a model\n",
    "# that can predict overdose deaths with just the number of pills from the\n",
    "# Washington Post/DEA dataset. May add other variables later\n",
    "data = pd.read_csv(\"data/TX_County_By_Year.csv\", \n",
    "                   usecols=[\"COUNTY\", \"YEAR\", \"TOTAL_POPULATION\", \n",
    "                            \"TOTAL_PILLS\", \"TOTAL_OVERDOSE_DEATHS\"])\n",
    "data.head()"
   ]
  },
  {
   "cell_type": "code",
   "execution_count": 4,
   "metadata": {
    "scrolled": false
   },
   "outputs": [
    {
     "name": "stdout",
     "output_type": "stream",
     "text": [
      "<class 'pandas.core.frame.DataFrame'>\n",
      "RangeIndex: 1778 entries, 0 to 1777\n",
      "Data columns (total 5 columns):\n",
      "COUNTY                   1778 non-null object\n",
      "YEAR                     1778 non-null int64\n",
      "TOTAL_POPULATION         1778 non-null int64\n",
      "TOTAL_PILLS              1778 non-null float64\n",
      "TOTAL_OVERDOSE_DEATHS    1778 non-null float64\n",
      "dtypes: float64(2), int64(2), object(1)\n",
      "memory usage: 69.5+ KB\n"
     ]
    }
   ],
   "source": [
    "data.info()"
   ]
  },
  {
   "cell_type": "code",
   "execution_count": 5,
   "metadata": {
    "scrolled": true
   },
   "outputs": [
    {
     "data": {
      "text/html": [
       "<div>\n",
       "<style scoped>\n",
       "    .dataframe tbody tr th:only-of-type {\n",
       "        vertical-align: middle;\n",
       "    }\n",
       "\n",
       "    .dataframe tbody tr th {\n",
       "        vertical-align: top;\n",
       "    }\n",
       "\n",
       "    .dataframe thead th {\n",
       "        text-align: right;\n",
       "    }\n",
       "</style>\n",
       "<table border=\"1\" class=\"dataframe\">\n",
       "  <thead>\n",
       "    <tr style=\"text-align: right;\">\n",
       "      <th></th>\n",
       "      <th>YEAR</th>\n",
       "      <th>TOTAL_POPULATION</th>\n",
       "      <th>TOTAL_PILLS</th>\n",
       "      <th>TOTAL_OVERDOSE_DEATHS</th>\n",
       "    </tr>\n",
       "  </thead>\n",
       "  <tbody>\n",
       "    <tr>\n",
       "      <th>count</th>\n",
       "      <td>1778.000000</td>\n",
       "      <td>1.778000e+03</td>\n",
       "      <td>1.778000e+03</td>\n",
       "      <td>1778.000000</td>\n",
       "    </tr>\n",
       "    <tr>\n",
       "      <th>mean</th>\n",
       "      <td>2009.000000</td>\n",
       "      <td>9.745832e+04</td>\n",
       "      <td>3.055180e+06</td>\n",
       "      <td>2.889483</td>\n",
       "    </tr>\n",
       "    <tr>\n",
       "      <th>std</th>\n",
       "      <td>2.000563</td>\n",
       "      <td>3.472073e+05</td>\n",
       "      <td>1.179600e+07</td>\n",
       "      <td>15.573713</td>\n",
       "    </tr>\n",
       "    <tr>\n",
       "      <th>min</th>\n",
       "      <td>2006.000000</td>\n",
       "      <td>6.100000e+01</td>\n",
       "      <td>0.000000e+00</td>\n",
       "      <td>0.000000</td>\n",
       "    </tr>\n",
       "    <tr>\n",
       "      <th>25%</th>\n",
       "      <td>2007.000000</td>\n",
       "      <td>6.644750e+03</td>\n",
       "      <td>1.220800e+05</td>\n",
       "      <td>0.000000</td>\n",
       "    </tr>\n",
       "    <tr>\n",
       "      <th>50%</th>\n",
       "      <td>2009.000000</td>\n",
       "      <td>1.824500e+04</td>\n",
       "      <td>4.788050e+05</td>\n",
       "      <td>0.000000</td>\n",
       "    </tr>\n",
       "    <tr>\n",
       "      <th>75%</th>\n",
       "      <td>2011.000000</td>\n",
       "      <td>4.898000e+04</td>\n",
       "      <td>1.855902e+06</td>\n",
       "      <td>2.500000</td>\n",
       "    </tr>\n",
       "    <tr>\n",
       "      <th>max</th>\n",
       "      <td>2012.000000</td>\n",
       "      <td>4.264193e+06</td>\n",
       "      <td>1.830127e+08</td>\n",
       "      <td>309.000000</td>\n",
       "    </tr>\n",
       "  </tbody>\n",
       "</table>\n",
       "</div>"
      ],
      "text/plain": [
       "              YEAR  TOTAL_POPULATION   TOTAL_PILLS  TOTAL_OVERDOSE_DEATHS\n",
       "count  1778.000000      1.778000e+03  1.778000e+03            1778.000000\n",
       "mean   2009.000000      9.745832e+04  3.055180e+06               2.889483\n",
       "std       2.000563      3.472073e+05  1.179600e+07              15.573713\n",
       "min    2006.000000      6.100000e+01  0.000000e+00               0.000000\n",
       "25%    2007.000000      6.644750e+03  1.220800e+05               0.000000\n",
       "50%    2009.000000      1.824500e+04  4.788050e+05               0.000000\n",
       "75%    2011.000000      4.898000e+04  1.855902e+06               2.500000\n",
       "max    2012.000000      4.264193e+06  1.830127e+08             309.000000"
      ]
     },
     "execution_count": 5,
     "metadata": {},
     "output_type": "execute_result"
    }
   ],
   "source": [
    "data.describe()"
   ]
  },
  {
   "cell_type": "markdown",
   "metadata": {},
   "source": [
    "### Investigating the Relationship"
   ]
  },
  {
   "cell_type": "code",
   "execution_count": 6,
   "metadata": {
    "scrolled": false
   },
   "outputs": [
    {
     "data": {
      "image/png": "[encoded data removed]",
      "text/plain": [
       "<Figure size 720x360 with 2 Axes>"
      ]
     },
     "metadata": {
      "needs_background": "light"
     },
     "output_type": "display_data"
    }
   ],
   "source": [
    "# Let's see the distribution of each variable\n",
    "fig1, axes = plt.subplots(1, 2, figsize=(10,5), constrained_layout=True)\n",
    "\n",
    "fig1_1 = data[\"TOTAL_PILLS\"].hist(ax=axes[0])\n",
    "fig1_2 = data[\"TOTAL_OVERDOSE_DEATHS\"].hist(ax=axes[1])\n",
    "\n",
    "fig1_1.title.set_text(\"Pills Recieved\")\n",
    "fig1_2.title.set_text(\"Opioid Overdose Deaths\")\n",
    "\n",
    "fig1_1.set_xlabel(\"Number of Pills, in Millions\")\n",
    "fig1_2.set_xlabel(\"Number of Opioid Deaths\")\n",
    "fig1.suptitle(\"Histograms (Texas, 2006-2012)\")\n",
    "\n",
    "plt.show()"
   ]
  },
  {
   "cell_type": "code",
   "execution_count": 7,
   "metadata": {},
   "outputs": [
    {
     "data": {
      "text/plain": [
       "[2006, 2007, 2008, 2009, 2010, 2011, 2012]"
      ]
     },
     "execution_count": 7,
     "metadata": {},
     "output_type": "execute_result"
    }
   ],
   "source": [
    "# Defining a list of applicable years, for our widgets\n",
    "years = list(range(2006,2013))\n",
    "years"
   ]
  },
  {
   "cell_type": "code",
   "execution_count": 8,
   "metadata": {
    "scrolled": false
   },
   "outputs": [
    {
     "data": {
      "application/vnd.jupyter.widget-view+json": {
       "model_id": "5c8d58ddafa247b0be89be601440d5db",
       "version_major": 2,
       "version_minor": 0
      },
      "text/plain": [
       "interactive(children=(Dropdown(description='year', options=(2006, 2007, 2008, 2009, 2010, 2011, 2012), value=2…"
      ]
     },
     "metadata": {},
     "output_type": "display_data"
    }
   ],
   "source": [
    "# Let's also investigate the relationship\n",
    "@interact\n",
    "def plot_pills_vs_deaths(year=years):\n",
    "    sub_df = data.loc[data[\"YEAR\"] == year]\n",
    "    \n",
    "    plt.figure(figsize=(8, 6))\n",
    "\n",
    "    plt.scatter(x=sub_df[\"TOTAL_PILLS\"], y=sub_df[\"TOTAL_OVERDOSE_DEATHS\"])\n",
    "\n",
    "    plt.xticks(np.arange(0, 200000000, step=50000000),\n",
    "               labels=(\"0\", \"50M\", \"100M\", \"150M\"))\n",
    "    plt.ylabel(\"Number of Opioid Deaths\")\n",
    "    plt.xlabel(\"Number of Opioid Pills Received\")\n",
    "    plt.title(\"Opioid Pills Recieved Versus Opioid Overdose Deaths - Texas, \" + str(year))\n",
    "    plt.show()"
   ]
  },
  {
   "cell_type": "code",
   "execution_count": 9,
   "metadata": {
    "scrolled": false
   },
   "outputs": [
    {
     "data": {
      "application/vnd.jupyter.widget-view+json": {
       "model_id": "1831955271654cd4ac6434878181734f",
       "version_major": 2,
       "version_minor": 0
      },
      "text/plain": [
       "interactive(children=(IntSlider(value=2006, description='year', max=2012, min=2006), Output()), _dom_classes=(…"
      ]
     },
     "metadata": {},
     "output_type": "display_data"
    },
    {
     "data": {
      "text/plain": [
       "<function __main__.plot_distribution_skew(year=[2006, 2007, 2008, 2009, 2010, 2011, 2012])>"
      ]
     },
     "execution_count": 9,
     "metadata": {},
     "output_type": "execute_result"
    }
   ],
   "source": [
    "# Plotting another distribution plot, plus a Q-Q plot to check skew\n",
    "def plot_distribution_skew(year=years):\n",
    "    sub_df = data.loc[data[\"YEAR\"] == year]\n",
    "\n",
    "    f, (ax1, ax2) = plt.subplots(1, 2, figsize=(12, 6))\n",
    "\n",
    "    # By setting fit=norm, we can better compare to a normal distribution\n",
    "    sns.distplot(sub_df[\"TOTAL_PILLS\"], fit=norm, ax=ax1)\n",
    "    stats.probplot(sub_df[\"TOTAL_PILLS\"], plot=ax2)\n",
    "\n",
    "    ax1.set_title(\"Distribution of Opioid Pills Recieved in \" + str(year))\n",
    "    ax1.set(xlabel=\"Number of Pills, in Millions\", ylabel=\"Frequency\")\n",
    "\n",
    "    plt.show()\n",
    "\n",
    "\n",
    "interact(plot_distribution_skew,\n",
    "         year=widgets.IntSlider(min=2006, max=2012, step=1))\n",
    "# As you can see, pretty skewed - many outliers"
   ]
  },
  {
   "cell_type": "code",
   "execution_count": 10,
   "metadata": {
    "scrolled": true
   },
   "outputs": [
    {
     "name": "stdout",
     "output_type": "stream",
     "text": [
      "Spearman's correlation: 0.643\n"
     ]
    }
   ],
   "source": [
    "# Most importantly, let's investigate correlation between these two variables\n",
    "# Since our data is non-parametric and not noramally distributed, so using\n",
    "# Spearman's correlation coefficient instead of Pearson's\n",
    "\n",
    "corr, _ = spearmanr(data[\"TOTAL_PILLS\"], data[\"TOTAL_OVERDOSE_DEATHS\"])\n",
    "print(\"Spearman's correlation: %.3f\" % corr)"
   ]
  },
  {
   "cell_type": "markdown",
   "metadata": {},
   "source": [
    "A Spearman correlation coefficient of .643 shows a fairly strong positive correlation, but does not show that our data is highly correlated. In short, while you can play around with the annual data scatterplot and infer a linear relationship between our predictor and target variables, they're not so strongly correlated that they have an inherent monotonic relationship - in other words, they are related but not super closely."
   ]
  },
  {
   "cell_type": "markdown",
   "metadata": {},
   "source": [
    "### Moving to Classification\n",
    "\n",
    "So! My data is very much not normal, and I did some behind-the-scenes work trying to normalize this data which did not turn out well. Instead, I'm going to turn this into a classification problem - can the model predict if the number of opioid deaths is above or equals 10? 10 will be my cutoff because it's above my 75% quartile, and the original data was suppressed under 9 (2.5 is a placeholder for that suppressed data, so realistically each '2.5' could be a value between 1 and 9)."
   ]
  },
  {
   "cell_type": "code",
   "execution_count": 11,
   "metadata": {
    "scrolled": true
   },
   "outputs": [
    {
     "data": {
      "text/html": [
       "<div>\n",
       "<style scoped>\n",
       "    .dataframe tbody tr th:only-of-type {\n",
       "        vertical-align: middle;\n",
       "    }\n",
       "\n",
       "    .dataframe tbody tr th {\n",
       "        vertical-align: top;\n",
       "    }\n",
       "\n",
       "    .dataframe thead th {\n",
       "        text-align: right;\n",
       "    }\n",
       "</style>\n",
       "<table border=\"1\" class=\"dataframe\">\n",
       "  <thead>\n",
       "    <tr style=\"text-align: right;\">\n",
       "      <th></th>\n",
       "      <th>COUNTY</th>\n",
       "      <th>YEAR</th>\n",
       "      <th>TOTAL_POPULATION</th>\n",
       "      <th>TOTAL_PILLS</th>\n",
       "      <th>TOTAL_OVERDOSE_DEATHS</th>\n",
       "      <th>TARGET</th>\n",
       "    </tr>\n",
       "  </thead>\n",
       "  <tbody>\n",
       "    <tr>\n",
       "      <th>0</th>\n",
       "      <td>ANDERSON</td>\n",
       "      <td>2006</td>\n",
       "      <td>57386</td>\n",
       "      <td>2209130.0</td>\n",
       "      <td>2.5</td>\n",
       "      <td>False</td>\n",
       "    </tr>\n",
       "    <tr>\n",
       "      <th>1</th>\n",
       "      <td>ANDREWS</td>\n",
       "      <td>2006</td>\n",
       "      <td>13195</td>\n",
       "      <td>246600.0</td>\n",
       "      <td>0.0</td>\n",
       "      <td>False</td>\n",
       "    </tr>\n",
       "    <tr>\n",
       "      <th>2</th>\n",
       "      <td>ANGELINA</td>\n",
       "      <td>2006</td>\n",
       "      <td>83810</td>\n",
       "      <td>3070975.0</td>\n",
       "      <td>2.5</td>\n",
       "      <td>False</td>\n",
       "    </tr>\n",
       "    <tr>\n",
       "      <th>3</th>\n",
       "      <td>ARANSAS</td>\n",
       "      <td>2006</td>\n",
       "      <td>23395</td>\n",
       "      <td>734500.0</td>\n",
       "      <td>2.5</td>\n",
       "      <td>False</td>\n",
       "    </tr>\n",
       "    <tr>\n",
       "      <th>4</th>\n",
       "      <td>ARCHER</td>\n",
       "      <td>2006</td>\n",
       "      <td>9063</td>\n",
       "      <td>0.0</td>\n",
       "      <td>0.0</td>\n",
       "      <td>False</td>\n",
       "    </tr>\n",
       "  </tbody>\n",
       "</table>\n",
       "</div>"
      ],
      "text/plain": [
       "     COUNTY  YEAR  TOTAL_POPULATION  TOTAL_PILLS  TOTAL_OVERDOSE_DEATHS  \\\n",
       "0  ANDERSON  2006             57386    2209130.0                    2.5   \n",
       "1   ANDREWS  2006             13195     246600.0                    0.0   \n",
       "2  ANGELINA  2006             83810    3070975.0                    2.5   \n",
       "3   ARANSAS  2006             23395     734500.0                    2.5   \n",
       "4    ARCHER  2006              9063          0.0                    0.0   \n",
       "\n",
       "   TARGET  \n",
       "0   False  \n",
       "1   False  \n",
       "2   False  \n",
       "3   False  \n",
       "4   False  "
      ]
     },
     "execution_count": 11,
     "metadata": {},
     "output_type": "execute_result"
    }
   ],
   "source": [
    "data[\"TARGET\"] = data[\"TOTAL_OVERDOSE_DEATHS\"] >= 10\n",
    "data.head()"
   ]
  },
  {
   "cell_type": "code",
   "execution_count": 12,
   "metadata": {
    "scrolled": true
   },
   "outputs": [
    {
     "data": {
      "text/plain": [
       "False    1686\n",
       "True       92\n",
       "Name: TARGET, dtype: int64"
      ]
     },
     "execution_count": 12,
     "metadata": {},
     "output_type": "execute_result"
    }
   ],
   "source": [
    "# Checking the class balance\n",
    "data[\"TARGET\"].value_counts()"
   ]
  },
  {
   "cell_type": "code",
   "execution_count": 13,
   "metadata": {},
   "outputs": [],
   "source": [
    "# Let's go ahead and remove Total Overdose Deaths\n",
    "data.drop(columns=\"TOTAL_OVERDOSE_DEATHS\", inplace=True)"
   ]
  },
  {
   "cell_type": "code",
   "execution_count": 14,
   "metadata": {},
   "outputs": [],
   "source": [
    "# Before we move on, I want to scale the Total Pills by the population to \n",
    "# arrive at a per-capita rate. My thought is that this will be a much better \n",
    "# at least initial scaler of the data, so it doesn't exaggerate large counties\n",
    "data[\"PILLS_PC\"] = data[\"TOTAL_PILLS\"] / data[\"TOTAL_POPULATION\"]"
   ]
  },
  {
   "cell_type": "code",
   "execution_count": 15,
   "metadata": {},
   "outputs": [],
   "source": [
    "data[\"TARGET\"] = data[\"TARGET\"].astype(\"category\")\n",
    "data[\"TARGET\"] = data[\"TARGET\"].cat.codes"
   ]
  },
  {
   "cell_type": "code",
   "execution_count": 16,
   "metadata": {
    "scrolled": false
   },
   "outputs": [
    {
     "data": {
      "text/html": [
       "<div>\n",
       "<style scoped>\n",
       "    .dataframe tbody tr th:only-of-type {\n",
       "        vertical-align: middle;\n",
       "    }\n",
       "\n",
       "    .dataframe tbody tr th {\n",
       "        vertical-align: top;\n",
       "    }\n",
       "\n",
       "    .dataframe thead th {\n",
       "        text-align: right;\n",
       "    }\n",
       "</style>\n",
       "<table border=\"1\" class=\"dataframe\">\n",
       "  <thead>\n",
       "    <tr style=\"text-align: right;\">\n",
       "      <th></th>\n",
       "      <th>COUNTY</th>\n",
       "      <th>YEAR</th>\n",
       "      <th>TOTAL_POPULATION</th>\n",
       "      <th>TOTAL_PILLS</th>\n",
       "      <th>TARGET</th>\n",
       "      <th>PILLS_PC</th>\n",
       "    </tr>\n",
       "  </thead>\n",
       "  <tbody>\n",
       "    <tr>\n",
       "      <th>0</th>\n",
       "      <td>ANDERSON</td>\n",
       "      <td>2006</td>\n",
       "      <td>57386</td>\n",
       "      <td>2209130.0</td>\n",
       "      <td>0</td>\n",
       "      <td>38.495975</td>\n",
       "    </tr>\n",
       "    <tr>\n",
       "      <th>1</th>\n",
       "      <td>ANDREWS</td>\n",
       "      <td>2006</td>\n",
       "      <td>13195</td>\n",
       "      <td>246600.0</td>\n",
       "      <td>0</td>\n",
       "      <td>18.688897</td>\n",
       "    </tr>\n",
       "    <tr>\n",
       "      <th>2</th>\n",
       "      <td>ANGELINA</td>\n",
       "      <td>2006</td>\n",
       "      <td>83810</td>\n",
       "      <td>3070975.0</td>\n",
       "      <td>0</td>\n",
       "      <td>36.642107</td>\n",
       "    </tr>\n",
       "    <tr>\n",
       "      <th>3</th>\n",
       "      <td>ARANSAS</td>\n",
       "      <td>2006</td>\n",
       "      <td>23395</td>\n",
       "      <td>734500.0</td>\n",
       "      <td>0</td>\n",
       "      <td>31.395597</td>\n",
       "    </tr>\n",
       "    <tr>\n",
       "      <th>4</th>\n",
       "      <td>ARCHER</td>\n",
       "      <td>2006</td>\n",
       "      <td>9063</td>\n",
       "      <td>0.0</td>\n",
       "      <td>0</td>\n",
       "      <td>0.000000</td>\n",
       "    </tr>\n",
       "  </tbody>\n",
       "</table>\n",
       "</div>"
      ],
      "text/plain": [
       "     COUNTY  YEAR  TOTAL_POPULATION  TOTAL_PILLS  TARGET   PILLS_PC\n",
       "0  ANDERSON  2006             57386    2209130.0       0  38.495975\n",
       "1   ANDREWS  2006             13195     246600.0       0  18.688897\n",
       "2  ANGELINA  2006             83810    3070975.0       0  36.642107\n",
       "3   ARANSAS  2006             23395     734500.0       0  31.395597\n",
       "4    ARCHER  2006              9063          0.0       0   0.000000"
      ]
     },
     "execution_count": 16,
     "metadata": {},
     "output_type": "execute_result"
    }
   ],
   "source": [
    "data.head()"
   ]
  },
  {
   "cell_type": "code",
   "execution_count": 17,
   "metadata": {
    "scrolled": true
   },
   "outputs": [
    {
     "data": {
      "text/html": [
       "<div>\n",
       "<style scoped>\n",
       "    .dataframe tbody tr th:only-of-type {\n",
       "        vertical-align: middle;\n",
       "    }\n",
       "\n",
       "    .dataframe tbody tr th {\n",
       "        vertical-align: top;\n",
       "    }\n",
       "\n",
       "    .dataframe thead th {\n",
       "        text-align: right;\n",
       "    }\n",
       "</style>\n",
       "<table border=\"1\" class=\"dataframe\">\n",
       "  <thead>\n",
       "    <tr style=\"text-align: right;\">\n",
       "      <th></th>\n",
       "      <th>YEAR</th>\n",
       "      <th>TOTAL_POPULATION</th>\n",
       "      <th>TOTAL_PILLS</th>\n",
       "      <th>TARGET</th>\n",
       "      <th>PILLS_PC</th>\n",
       "    </tr>\n",
       "  </thead>\n",
       "  <tbody>\n",
       "    <tr>\n",
       "      <th>count</th>\n",
       "      <td>1778.000000</td>\n",
       "      <td>1.778000e+03</td>\n",
       "      <td>1.778000e+03</td>\n",
       "      <td>1778.000000</td>\n",
       "      <td>1778.000000</td>\n",
       "    </tr>\n",
       "    <tr>\n",
       "      <th>mean</th>\n",
       "      <td>2009.000000</td>\n",
       "      <td>9.745832e+04</td>\n",
       "      <td>3.055180e+06</td>\n",
       "      <td>0.051744</td>\n",
       "      <td>27.628911</td>\n",
       "    </tr>\n",
       "    <tr>\n",
       "      <th>std</th>\n",
       "      <td>2.000563</td>\n",
       "      <td>3.472073e+05</td>\n",
       "      <td>1.179600e+07</td>\n",
       "      <td>0.221571</td>\n",
       "      <td>18.509325</td>\n",
       "    </tr>\n",
       "    <tr>\n",
       "      <th>min</th>\n",
       "      <td>2006.000000</td>\n",
       "      <td>6.100000e+01</td>\n",
       "      <td>0.000000e+00</td>\n",
       "      <td>0.000000</td>\n",
       "      <td>0.000000</td>\n",
       "    </tr>\n",
       "    <tr>\n",
       "      <th>25%</th>\n",
       "      <td>2007.000000</td>\n",
       "      <td>6.644750e+03</td>\n",
       "      <td>1.220800e+05</td>\n",
       "      <td>0.000000</td>\n",
       "      <td>15.005555</td>\n",
       "    </tr>\n",
       "    <tr>\n",
       "      <th>50%</th>\n",
       "      <td>2009.000000</td>\n",
       "      <td>1.824500e+04</td>\n",
       "      <td>4.788050e+05</td>\n",
       "      <td>0.000000</td>\n",
       "      <td>26.125323</td>\n",
       "    </tr>\n",
       "    <tr>\n",
       "      <th>75%</th>\n",
       "      <td>2011.000000</td>\n",
       "      <td>4.898000e+04</td>\n",
       "      <td>1.855902e+06</td>\n",
       "      <td>0.000000</td>\n",
       "      <td>38.866253</td>\n",
       "    </tr>\n",
       "    <tr>\n",
       "      <th>max</th>\n",
       "      <td>2012.000000</td>\n",
       "      <td>4.264193e+06</td>\n",
       "      <td>1.830127e+08</td>\n",
       "      <td>1.000000</td>\n",
       "      <td>119.518327</td>\n",
       "    </tr>\n",
       "  </tbody>\n",
       "</table>\n",
       "</div>"
      ],
      "text/plain": [
       "              YEAR  TOTAL_POPULATION   TOTAL_PILLS       TARGET     PILLS_PC\n",
       "count  1778.000000      1.778000e+03  1.778000e+03  1778.000000  1778.000000\n",
       "mean   2009.000000      9.745832e+04  3.055180e+06     0.051744    27.628911\n",
       "std       2.000563      3.472073e+05  1.179600e+07     0.221571    18.509325\n",
       "min    2006.000000      6.100000e+01  0.000000e+00     0.000000     0.000000\n",
       "25%    2007.000000      6.644750e+03  1.220800e+05     0.000000    15.005555\n",
       "50%    2009.000000      1.824500e+04  4.788050e+05     0.000000    26.125323\n",
       "75%    2011.000000      4.898000e+04  1.855902e+06     0.000000    38.866253\n",
       "max    2012.000000      4.264193e+06  1.830127e+08     1.000000   119.518327"
      ]
     },
     "execution_count": 17,
     "metadata": {},
     "output_type": "execute_result"
    }
   ],
   "source": [
    "data.describe()"
   ]
  },
  {
   "cell_type": "code",
   "execution_count": 18,
   "metadata": {
    "scrolled": false
   },
   "outputs": [
    {
     "data": {
      "image/png": "[encoded data removed]",
      "text/plain": [
       "<Figure size 576x432 with 1 Axes>"
      ]
     },
     "metadata": {
      "needs_background": "light"
     },
     "output_type": "display_data"
    }
   ],
   "source": [
    "# Let's see the distribution of this new per capita variable\n",
    "plt.figure(figsize=(8,6))\n",
    "plt.hist(data[\"PILLS_PC\"])\n",
    "\n",
    "plt.title(\"Pills Recieved, Per Capita (Texas, 2006-2012)\")\n",
    "plt.xlabel(\"Rate of Pills Per Person\")\n",
    "plt.ylabel(\"Frequency\")\n",
    "\n",
    "plt.show()"
   ]
  },
  {
   "cell_type": "markdown",
   "metadata": {},
   "source": [
    "### Initial Model - Logistic Regression\n",
    "\n",
    "Since our problem is binary (will the number of overdose deaths be above 10 in a county that year), let's start with logistic regression."
   ]
  },
  {
   "cell_type": "code",
   "execution_count": 19,
   "metadata": {},
   "outputs": [],
   "source": [
    "#Creating variables for our predictor (pills) and our target (overdose deaths)\n",
    "y_init = data[\"TARGET\"]\n",
    "X_init = np.array(data[\"PILLS_PC\"]).reshape(-1,1)"
   ]
  },
  {
   "cell_type": "code",
   "execution_count": 20,
   "metadata": {},
   "outputs": [],
   "source": [
    "# Creating a train/test split to retain data to test our model\n",
    "X_init_train, X_init_test, y_init_train, y_init_test = train_test_split(\n",
    "    X_init, y_init, test_size=0.25, random_state=113, stratify=y_init)"
   ]
  },
  {
   "cell_type": "code",
   "execution_count": 21,
   "metadata": {},
   "outputs": [],
   "source": [
    "# Going ahead and setting class weight as balanced, since the target classes\n",
    "# are so unbalanced (95% vs 5%, practically)\n",
    "init_logreg = LogisticRegression(class_weight=\"balanced\",\n",
    "                            solver=\"lbfgs\", \n",
    "                            random_state=113)\n",
    "\n",
    "# Fitting our model to our training data\n",
    "init_logreg.fit(X_init_train, y_init_train)\n",
    "# Storing the predicted values\n",
    "init_log_preds = init_logreg.predict(X_init_test)"
   ]
  },
  {
   "cell_type": "code",
   "execution_count": 22,
   "metadata": {
    "scrolled": false
   },
   "outputs": [
    {
     "name": "stdout",
     "output_type": "stream",
     "text": [
      "Training Accuracy: 0.5993998499624906\n",
      "Testing Accuracy: 0.597752808988764\n",
      "              precision    recall  f1-score   support\n",
      "\n",
      "           0       0.96      0.60      0.74       422\n",
      "           1       0.07      0.52      0.12        23\n",
      "\n",
      "   micro avg       0.60      0.60      0.60       445\n",
      "   macro avg       0.51      0.56      0.43       445\n",
      "weighted avg       0.91      0.60      0.71       445\n",
      "\n"
     ]
    },
    {
     "data": {
      "image/png": "[encoded data removed]",
      "text/plain": [
       "<Figure size 432x288 with 2 Axes>"
      ]
     },
     "metadata": {
      "needs_background": "light"
     },
     "output_type": "display_data"
    }
   ],
   "source": [
    "# Using our pre-defined functions to evaluate our model\n",
    "print_scores(init_logreg, X_init_train, X_init_test,\n",
    "               y_init_train, y_init_test, init_log_preds)\n",
    "vis_cm(y_init_test, init_log_preds)"
   ]
  },
  {
   "cell_type": "markdown",
   "metadata": {},
   "source": [
    "Oof. That is... not great. But, this is using only one predictor variable, and is a simple logistic regression model."
   ]
  },
  {
   "cell_type": "markdown",
   "metadata": {},
   "source": [
    "### Another Model: Decision Tree\n",
    "\n",
    "Let's try a different type of model, to see if model selection alone can improve our model based on this data."
   ]
  },
  {
   "cell_type": "code",
   "execution_count": 23,
   "metadata": {},
   "outputs": [],
   "source": [
    "# Starting with a balanced class weight and setting a depth limit\n",
    "init_dec_tree = DecisionTreeClassifier(max_depth=5,\n",
    "                                  class_weight=\"balanced\",\n",
    "                                  random_state=113)\n",
    "\n",
    "init_dec_tree.fit(X_init_train, y_init_train)\n",
    "init_tree_preds = init_dec_tree.predict(X_init_test)"
   ]
  },
  {
   "cell_type": "code",
   "execution_count": 24,
   "metadata": {
    "scrolled": false
   },
   "outputs": [
    {
     "name": "stdout",
     "output_type": "stream",
     "text": [
      "Training Accuracy: 0.6241560390097525\n",
      "Testing Accuracy: 0.5662921348314607\n",
      "              precision    recall  f1-score   support\n",
      "\n",
      "           0       0.98      0.55      0.71       422\n",
      "           1       0.09      0.78      0.16        23\n",
      "\n",
      "   micro avg       0.57      0.57      0.57       445\n",
      "   macro avg       0.53      0.67      0.43       445\n",
      "weighted avg       0.93      0.57      0.68       445\n",
      "\n"
     ]
    },
    {
     "data": {
      "image/png": "[encoded data removed]",
      "text/plain": [
       "<Figure size 432x288 with 2 Axes>"
      ]
     },
     "metadata": {
      "needs_background": "light"
     },
     "output_type": "display_data"
    }
   ],
   "source": [
    "print_scores(init_dec_tree, X_init_train, X_init_test,\n",
    "             y_init_train, y_init_test, init_tree_preds)\n",
    "vis_cm(y_init_test, init_tree_preds)"
   ]
  },
  {
   "cell_type": "markdown",
   "metadata": {},
   "source": [
    "This model actually performed worse on the testing data, so it likely overfit to the training data. Recall scores for the decision tree were, on the whole, better, which is good - I'm more concerned about correctly predicting a true value, meaning there there likely will be more overdose deaths, than a false value."
   ]
  },
  {
   "cell_type": "markdown",
   "metadata": {},
   "source": [
    "### And Now: Ensemble Models (Random Forest)\n",
    "\n",
    "Let's move into an ensemble method for modeling, namely testing with a random forest classifer, to do one last test based on model selection. (I'd also run an XGBoosted model, but haven't done any external work to balance our classes just yet, so I'll stick to methods that allow a class_weight option in the model)."
   ]
  },
  {
   "cell_type": "code",
   "execution_count": 25,
   "metadata": {
    "scrolled": false
   },
   "outputs": [
    {
     "name": "stdout",
     "output_type": "stream",
     "text": [
      "Training Accuracy: 0.6639159789947486\n",
      "Testing Accuracy: 0.6157303370786517\n",
      "              precision    recall  f1-score   support\n",
      "\n",
      "           0       0.98      0.61      0.75       422\n",
      "           1       0.10      0.78      0.17        23\n",
      "\n",
      "   micro avg       0.62      0.62      0.62       445\n",
      "   macro avg       0.54      0.69      0.46       445\n",
      "weighted avg       0.94      0.62      0.72       445\n",
      "\n"
     ]
    },
    {
     "data": {
      "image/png": "[encoded data removed]",
      "text/plain": [
       "<Figure size 432x288 with 2 Axes>"
      ]
     },
     "metadata": {
      "needs_background": "light"
     },
     "output_type": "display_data"
    }
   ],
   "source": [
    "# First, let's run a random forest of small decision trees\n",
    "init_ran_forest = RandomForestClassifier(n_estimators=100,\n",
    "                                         max_depth=5,\n",
    "                                         min_samples_split=3,\n",
    "                                         class_weight=\"balanced_subsample\",\n",
    "                                         random_state=113)\n",
    "\n",
    "init_ran_forest.fit(X_init_train, y_init_train)\n",
    "init_ran_for_preds = init_ran_forest.predict(X_init_test)\n",
    "\n",
    "print_scores(init_ran_forest, X_init_train, X_init_test, y_init_train,\n",
    "             y_init_test, init_ran_for_preds)\n",
    "vis_cm(y_init_test, init_ran_for_preds)"
   ]
  },
  {
   "cell_type": "markdown",
   "metadata": {},
   "source": [
    "Better than a single decision tree, including better recall scores."
   ]
  }
 ],
 "metadata": {
  "kernelspec": {
   "display_name": "Python 3",
   "language": "python",
   "name": "python3"
  },
  "language_info": {
   "codemirror_mode": {
    "name": "ipython",
    "version": 3
   },
   "file_extension": ".py",
   "mimetype": "text/x-python",
   "name": "python",
   "nbconvert_exporter": "python",
   "pygments_lexer": "ipython3",
   "version": "3.7.3"
  }
 },
 "nbformat": 4,
 "nbformat_minor": 2
}
