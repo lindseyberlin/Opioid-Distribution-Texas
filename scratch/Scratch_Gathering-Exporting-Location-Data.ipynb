{
 "cells": [
  {
   "cell_type": "code",
   "execution_count": 1,
   "metadata": {},
   "outputs": [],
   "source": [
    "# Imports\n",
    "\n",
    "# Data import and manipulation\n",
    "import pandas as pd\n",
    "# Math\n",
    "import numpy as np\n",
    "# Let's go ahead and seed the notebook, for reproducibility\n",
    "np.random.seed(113)\n",
    "\n",
    "# This library allows us to search for a zipcode and retrieve lat/long data\n",
    "from uszipcode import SearchEngine\n",
    "\n",
    "# And then this library will help fill in the gaps for any nulls\n",
    "import geopy\n",
    "from geopy.geocoders import Nominatim\n",
    "from geopy.extra.rate_limiter import RateLimiter\n",
    "\n",
    "# And this will provide a progress bar\n",
    "from tqdm import tqdm"
   ]
  },
  {
   "cell_type": "code",
   "execution_count": 2,
   "metadata": {},
   "outputs": [],
   "source": [
    "# Specifying dtypes for faster input\n",
    "dtypes = {\n",
    "    \"REPORTER_NAME\": \"object\",\n",
    "    \"REPORTER_ZIP\": \"int64\",\n",
    "    \"BUYER_NAME\": \"object\",\n",
    "    \"BUYER_ZIP\": \"int64\",\n",
    "    \"DRUG_NAME\": \"object\",\n",
    "    \"TRANSACTION_DATE\": \"object\",\n",
    "    \"DOSAGE_UNIT\": \"float64\",\n",
    "}\n",
    "\n",
    "# Reading in only the columns related to the buyer's location\n",
    "data = pd.read_csv(\"data/arcos-tx-statewide-itemized.tsv\",\n",
    "                   sep='\\t',\n",
    "                   usecols=[\"REPORTER_NAME\", \"REPORTER_ZIP\", \"BUYER_NAME\", \n",
    "                            \"BUYER_ZIP\", \"DRUG_NAME\", \"TRANSACTION_DATE\", \n",
    "                            \"DOSAGE_UNIT\"],\n",
    "                   dtype=dtypes)"
   ]
  },
  {
   "cell_type": "code",
   "execution_count": 3,
   "metadata": {
    "scrolled": false
   },
   "outputs": [
    {
     "data": {
      "text/html": [
       "<div>\n",
       "<style scoped>\n",
       "    .dataframe tbody tr th:only-of-type {\n",
       "        vertical-align: middle;\n",
       "    }\n",
       "\n",
       "    .dataframe tbody tr th {\n",
       "        vertical-align: top;\n",
       "    }\n",
       "\n",
       "    .dataframe thead th {\n",
       "        text-align: right;\n",
       "    }\n",
       "</style>\n",
       "<table border=\"1\" class=\"dataframe\">\n",
       "  <thead>\n",
       "    <tr style=\"text-align: right;\">\n",
       "      <th></th>\n",
       "      <th>REPORTER_NAME</th>\n",
       "      <th>REPORTER_ZIP</th>\n",
       "      <th>BUYER_NAME</th>\n",
       "      <th>BUYER_ZIP</th>\n",
       "      <th>DRUG_NAME</th>\n",
       "      <th>TRANSACTION_DATE</th>\n",
       "      <th>DOSAGE_UNIT</th>\n",
       "    </tr>\n",
       "  </thead>\n",
       "  <tbody>\n",
       "    <tr>\n",
       "      <th>0</th>\n",
       "      <td>BELLCO DRUG CORP</td>\n",
       "      <td>11701</td>\n",
       "      <td>LONGHORN DRUG CO</td>\n",
       "      <td>75662</td>\n",
       "      <td>HYDROCODONE</td>\n",
       "      <td>01112006</td>\n",
       "      <td>500.0</td>\n",
       "    </tr>\n",
       "    <tr>\n",
       "      <th>1</th>\n",
       "      <td>BELLCO DRUG CORP</td>\n",
       "      <td>11701</td>\n",
       "      <td>MALLEY'S PHARMACY</td>\n",
       "      <td>77706</td>\n",
       "      <td>HYDROCODONE</td>\n",
       "      <td>01042006</td>\n",
       "      <td>500.0</td>\n",
       "    </tr>\n",
       "    <tr>\n",
       "      <th>2</th>\n",
       "      <td>BELLCO DRUG CORP</td>\n",
       "      <td>11701</td>\n",
       "      <td>MALLEY'S PHARMACY</td>\n",
       "      <td>77706</td>\n",
       "      <td>HYDROCODONE</td>\n",
       "      <td>11022006</td>\n",
       "      <td>400.0</td>\n",
       "    </tr>\n",
       "    <tr>\n",
       "      <th>3</th>\n",
       "      <td>BELLCO DRUG CORP</td>\n",
       "      <td>11701</td>\n",
       "      <td>MALLEY'S PHARMACY</td>\n",
       "      <td>77706</td>\n",
       "      <td>HYDROCODONE</td>\n",
       "      <td>01042007</td>\n",
       "      <td>100.0</td>\n",
       "    </tr>\n",
       "    <tr>\n",
       "      <th>4</th>\n",
       "      <td>BELLCO DRUG CORP</td>\n",
       "      <td>11701</td>\n",
       "      <td>MALLEY'S PHARMACY</td>\n",
       "      <td>77706</td>\n",
       "      <td>HYDROCODONE</td>\n",
       "      <td>02142007</td>\n",
       "      <td>100.0</td>\n",
       "    </tr>\n",
       "  </tbody>\n",
       "</table>\n",
       "</div>"
      ],
      "text/plain": [
       "      REPORTER_NAME  REPORTER_ZIP         BUYER_NAME  BUYER_ZIP    DRUG_NAME  \\\n",
       "0  BELLCO DRUG CORP         11701   LONGHORN DRUG CO      75662  HYDROCODONE   \n",
       "1  BELLCO DRUG CORP         11701  MALLEY'S PHARMACY      77706  HYDROCODONE   \n",
       "2  BELLCO DRUG CORP         11701  MALLEY'S PHARMACY      77706  HYDROCODONE   \n",
       "3  BELLCO DRUG CORP         11701  MALLEY'S PHARMACY      77706  HYDROCODONE   \n",
       "4  BELLCO DRUG CORP         11701  MALLEY'S PHARMACY      77706  HYDROCODONE   \n",
       "\n",
       "  TRANSACTION_DATE  DOSAGE_UNIT  \n",
       "0         01112006        500.0  \n",
       "1         01042006        500.0  \n",
       "2         11022006        400.0  \n",
       "3         01042007        100.0  \n",
       "4         02142007        100.0  "
      ]
     },
     "execution_count": 3,
     "metadata": {},
     "output_type": "execute_result"
    }
   ],
   "source": [
    "data.head()"
   ]
  },
  {
   "cell_type": "code",
   "execution_count": 4,
   "metadata": {},
   "outputs": [
    {
     "data": {
      "text/plain": [
       "(12108468, 7)"
      ]
     },
     "execution_count": 4,
     "metadata": {},
     "output_type": "execute_result"
    }
   ],
   "source": [
    "data.shape"
   ]
  },
  {
   "cell_type": "code",
   "execution_count": 5,
   "metadata": {},
   "outputs": [],
   "source": [
    "# First, let's change the transaction date to a datetime object\n",
    "# Need to fill in the empty leading zeros, for single-digit months\n",
    "data[\"TRANSACTION_DATE\"] = data[\"TRANSACTION_DATE\"].str.zfill(8)"
   ]
  },
  {
   "cell_type": "code",
   "execution_count": 6,
   "metadata": {
    "scrolled": true
   },
   "outputs": [
    {
     "data": {
      "text/plain": [
       "0   2006-01-11\n",
       "1   2006-01-04\n",
       "2   2006-11-02\n",
       "3   2007-01-04\n",
       "4   2007-02-14\n",
       "Name: TRANSACTION_DATE, dtype: datetime64[ns]"
      ]
     },
     "execution_count": 6,
     "metadata": {},
     "output_type": "execute_result"
    }
   ],
   "source": [
    "# And now, changing to datetime\n",
    "data[\"TRANSACTION_DATE\"] = pd.to_datetime(data[\"TRANSACTION_DATE\"], \n",
    "                                          format='%m%d%Y')\n",
    "data[\"TRANSACTION_DATE\"].head()"
   ]
  },
  {
   "cell_type": "markdown",
   "metadata": {},
   "source": [
    "### Getting Zipcode Latitude/Longitude Data"
   ]
  },
  {
   "cell_type": "code",
   "execution_count": 7,
   "metadata": {},
   "outputs": [],
   "source": [
    "# Finding all unique reporter zipcodes\n",
    "reporter_zip_unique = data[\"REPORTER_ZIP\"].unique()"
   ]
  },
  {
   "cell_type": "code",
   "execution_count": 8,
   "metadata": {},
   "outputs": [],
   "source": [
    "# And then all unique buyer zipcodes\n",
    "buyer_zip_unique = data[\"BUYER_ZIP\"].unique()"
   ]
  },
  {
   "cell_type": "code",
   "execution_count": 9,
   "metadata": {},
   "outputs": [],
   "source": [
    "# And then combining the unique zipcodes into a list\n",
    "all_zips = []\n",
    "for r_zipc in reporter_zip_unique:\n",
    "    all_zips.append(r_zipc)\n",
    "for b_zipc in buyer_zip_unique:\n",
    "    all_zips.append(b_zipc)"
   ]
  },
  {
   "cell_type": "code",
   "execution_count": 10,
   "metadata": {},
   "outputs": [],
   "source": [
    "# Then making sure there are only unique zipcodes in our total list\n",
    "unique_zips = set(all_zips)"
   ]
  },
  {
   "cell_type": "code",
   "execution_count": 11,
   "metadata": {
    "scrolled": true
   },
   "outputs": [
    {
     "data": {
      "text/plain": [
       "1375"
      ]
     },
     "execution_count": 11,
     "metadata": {},
     "output_type": "execute_result"
    }
   ],
   "source": [
    "# So we have 1375 total unique zipcodes in our dataset\n",
    "len(unique_zips)"
   ]
  },
  {
   "cell_type": "code",
   "execution_count": 12,
   "metadata": {},
   "outputs": [],
   "source": [
    "# Instantiating the zipcode search engine\n",
    "search = SearchEngine(simple_zipcode=True)"
   ]
  },
  {
   "cell_type": "code",
   "execution_count": 13,
   "metadata": {},
   "outputs": [],
   "source": [
    "# Creating a dictionary and then lists to hold those lat/long values\n",
    "zipcode_dict = {}\n",
    "lats = []\n",
    "longs = []\n",
    "\n",
    "# Appending lat/long values to those lists\n",
    "for zipcode in unique_zips:\n",
    "    zipc = search.by_zipcode(zipcode)\n",
    "    zipcode_dict[zipcode] = [zipc.lat, zipc.lng]\n",
    "    lats.append(zipcode_dict[zipcode][0])\n",
    "    longs.append(zipcode_dict[zipcode][1])"
   ]
  },
  {
   "cell_type": "code",
   "execution_count": 14,
   "metadata": {},
   "outputs": [],
   "source": [
    "all_zips_df = pd.DataFrame.from_dict(zipcode_dict, orient='index', \n",
    "                                     columns=[\"LAT\", \"LONG\"])"
   ]
  },
  {
   "cell_type": "code",
   "execution_count": 15,
   "metadata": {},
   "outputs": [],
   "source": [
    "all_zips_df.reset_index(inplace=True)"
   ]
  },
  {
   "cell_type": "code",
   "execution_count": 16,
   "metadata": {},
   "outputs": [],
   "source": [
    "all_zips_df.rename(columns={\"index\": \"ZIP\"}, inplace=True)"
   ]
  },
  {
   "cell_type": "code",
   "execution_count": 17,
   "metadata": {
    "scrolled": true
   },
   "outputs": [
    {
     "data": {
      "text/html": [
       "<div>\n",
       "<style scoped>\n",
       "    .dataframe tbody tr th:only-of-type {\n",
       "        vertical-align: middle;\n",
       "    }\n",
       "\n",
       "    .dataframe tbody tr th {\n",
       "        vertical-align: top;\n",
       "    }\n",
       "\n",
       "    .dataframe thead th {\n",
       "        text-align: right;\n",
       "    }\n",
       "</style>\n",
       "<table border=\"1\" class=\"dataframe\">\n",
       "  <thead>\n",
       "    <tr style=\"text-align: right;\">\n",
       "      <th></th>\n",
       "      <th>ZIP</th>\n",
       "      <th>LAT</th>\n",
       "      <th>LONG</th>\n",
       "    </tr>\n",
       "  </thead>\n",
       "  <tbody>\n",
       "    <tr>\n",
       "      <th>0</th>\n",
       "      <td>90249</td>\n",
       "      <td>33.90</td>\n",
       "      <td>-118.32</td>\n",
       "    </tr>\n",
       "    <tr>\n",
       "      <th>1</th>\n",
       "      <td>65801</td>\n",
       "      <td>NaN</td>\n",
       "      <td>NaN</td>\n",
       "    </tr>\n",
       "    <tr>\n",
       "      <th>2</th>\n",
       "      <td>33126</td>\n",
       "      <td>25.78</td>\n",
       "      <td>-80.30</td>\n",
       "    </tr>\n",
       "    <tr>\n",
       "      <th>3</th>\n",
       "      <td>33155</td>\n",
       "      <td>25.74</td>\n",
       "      <td>-80.31</td>\n",
       "    </tr>\n",
       "    <tr>\n",
       "      <th>4</th>\n",
       "      <td>74137</td>\n",
       "      <td>36.02</td>\n",
       "      <td>-95.94</td>\n",
       "    </tr>\n",
       "  </tbody>\n",
       "</table>\n",
       "</div>"
      ],
      "text/plain": [
       "     ZIP    LAT    LONG\n",
       "0  90249  33.90 -118.32\n",
       "1  65801    NaN     NaN\n",
       "2  33126  25.78  -80.30\n",
       "3  33155  25.74  -80.31\n",
       "4  74137  36.02  -95.94"
      ]
     },
     "execution_count": 17,
     "metadata": {},
     "output_type": "execute_result"
    }
   ],
   "source": [
    "all_zips_df.head()"
   ]
  },
  {
   "cell_type": "code",
   "execution_count": 53,
   "metadata": {},
   "outputs": [
    {
     "data": {
      "text/plain": [
       "(1375, 3)"
      ]
     },
     "execution_count": 53,
     "metadata": {},
     "output_type": "execute_result"
    }
   ],
   "source": [
    "all_zips_df.shape"
   ]
  },
  {
   "cell_type": "code",
   "execution_count": 18,
   "metadata": {
    "scrolled": true
   },
   "outputs": [],
   "source": [
    "none_zips = all_zips_df.loc[all_zips_df[\"LAT\"].isna() == True]"
   ]
  },
  {
   "cell_type": "code",
   "execution_count": 20,
   "metadata": {
    "scrolled": true
   },
   "outputs": [
    {
     "name": "stderr",
     "output_type": "stream",
     "text": [
      "/anaconda3/lib/python3.7/site-packages/ipykernel_launcher.py:2: DeprecationWarning:\n",
      "\n",
      "`country_bias` argument of the Nominatim.__init__ is deprecated and will be removed in geopy 2.0. Use Nominatim.geocode(country_codes='us') instead.\n",
      "\n"
     ]
    }
   ],
   "source": [
    "# Instantiating our geolocator\n",
    "geolocator = Nominatim(user_agent=\"LB_FIS_capstone\", country_bias=\"us\")\n",
    "\n",
    "# Wrapping our geolocater in a rate limiter, to automatically add delays\n",
    "# between requests - Nominatim (Open Street Maps) requests no more than one\n",
    "# request per second\n",
    "geocode = RateLimiter(geolocator.geocode, min_delay_seconds=1)\n",
    "\n",
    "# Also adding a progress bar, to track\n",
    "tqdm.pandas()\n",
    "\n",
    "# Ignoring the depreciation warning, because we're using a rate limiter"
   ]
  },
  {
   "cell_type": "code",
   "execution_count": 21,
   "metadata": {
    "scrolled": false
   },
   "outputs": [
    {
     "name": "stderr",
     "output_type": "stream",
     "text": [
      "100%|██████████| 56/56 [01:24<00:00,  1.55s/it]\n"
     ]
    }
   ],
   "source": [
    "found_zips = none_zips[\"ZIP\"].progress_apply(geocode)"
   ]
  },
  {
   "cell_type": "code",
   "execution_count": 28,
   "metadata": {
    "scrolled": true
   },
   "outputs": [
    {
     "data": {
      "text/plain": [
       "1       (Springfield, Missouri, 65801, USA, (37.214781...\n",
       "45      (Frisco, Texas, 75033, USA, (33.1640767078435,...\n",
       "169                                                  None\n",
       "170     (Dallas, Texas, 75266, United States of Americ...\n",
       "174                                                  None\n",
       "175                                                  None\n",
       "195     (Mount Pleasant, Texas, 75456, USA, (33.154831...\n",
       "198                                                  None\n",
       "202     (Hopkins County, Texas, 75483, USA, (33.034417...\n",
       "222     (Longview, Gregg County, Texas, 75608, USA, (3...\n",
       "249                                                  None\n",
       "286     (Angelina County, Texas, 75915, USA, (31.23825...\n",
       "326     (Arlington, Texas, 76019, USA, (32.731541, -97...\n",
       "353     (Palo Pinto County, Texas, 76068, USA, (32.863...\n",
       "361                                                  None\n",
       "399     (Denton, Texas, 76203, USA, (33.2095465000939,...\n",
       "411     (Cooke County, Texas, 76241, USA, (33.60580673...\n",
       "532     (Brown County, Texas, 76804, USA, (31.59304491...\n",
       "551     (Tom Green County, Texas, 76902, USA, (31.5831...\n",
       "665     (Houston, Texas, 77204, USA, (29.7214732007996...\n",
       "666                                                  None\n",
       "669                                                  None\n",
       "671     (Escuela Elemental Nueva, Calle Lince, Dos Pin...\n",
       "691                                                  None\n",
       "693     (Montgomery County, Texas, 77353, USA, (30.191...\n",
       "769                                                  None\n",
       "783     (Galveston, Texas, 77555, USA, (29.31154768451...\n",
       "790                                                  None\n",
       "792                                                  None\n",
       "808     (Orange County, Texas, 77626, USA, (30.2016279...\n",
       "813                                                  None\n",
       "834                                                  None\n",
       "840     (Washington County, Texas, 77834, USA, (30.223...\n",
       "843     (Bryan, Texas, 77843, USA, (30.6215876229427, ...\n",
       "904     (Comal County, Texas, 78131, USA, (29.8008432,...\n",
       "975                                                  None\n",
       "977     (San Antonio, Texas, 78288, USA, (29.537367895...\n",
       "980     (Jim Wells County, Texas, 78333, USA, (27.7265...\n",
       "988     (Kleberg County, Texas, 78364, USA, (27.425943...\n",
       "996     (Rockport, Texas, 78381, USA, (28.030076324812...\n",
       "1014                                                 None\n",
       "1021    (Brownsville, Texas, 78522, USA, (25.949204, -...\n",
       "1062    (Trapelo Rd. @ Cherry Ln., Cherry Lane, Waltha...\n",
       "1089    (Travis County, Texas, 78667, USA, (30.4218705...\n",
       "1190                                                 None\n",
       "1193    (Amarillo, Texas, 79120, USA, (35.179347615384...\n",
       "1238    (Lubbock, Texas, 79409, USA, (33.5836035277411...\n",
       "1249    (Lubbock, Texas, 79430, USA, (33.5922096666667...\n",
       "1271    (Abilene, Texas, 79604, USA, (32.4520329730394...\n",
       "1277    (Abilene, Texas, 79698, USA, (32.4755787142857...\n",
       "1282                                                 None\n",
       "1285    (Howard County, Texas, 79721, USA, (32.2683153...\n",
       "1299    (Ector County, Texas, 79769, USA, (31.7545565,...\n",
       "1319    (El Paso, Texas, 79913, USA, (31.9059, -106.55...\n",
       "1331    (El Paso, Texas, 79968, USA, (31.766743297551,...\n",
       "1363                                                 None\n",
       "Name: ZIP, dtype: object"
      ]
     },
     "execution_count": 28,
     "metadata": {},
     "output_type": "execute_result"
    }
   ],
   "source": [
    "found_zips"
   ]
  },
  {
   "cell_type": "code",
   "execution_count": 60,
   "metadata": {},
   "outputs": [],
   "source": [
    "found_df = none_zips.copy()\n",
    "found_df[\"LOC\"] = found_zips"
   ]
  },
  {
   "cell_type": "code",
   "execution_count": 61,
   "metadata": {},
   "outputs": [],
   "source": [
    "# This at least had more success.\n",
    "found_df[\"LAT\"] = found_df[\"LOC\"].apply(\n",
    "    lambda loc: loc.latitude if loc else None)\n",
    "found_df[\"LONG\"] = found_df[\"LOC\"].apply(\n",
    "    lambda loc: loc.longitude if loc else None)"
   ]
  },
  {
   "cell_type": "code",
   "execution_count": 62,
   "metadata": {
    "scrolled": false
   },
   "outputs": [
    {
     "data": {
      "text/plain": [
       "19"
      ]
     },
     "execution_count": 62,
     "metadata": {},
     "output_type": "execute_result"
    }
   ],
   "source": [
    "# Still missing 19, alas\n",
    "len(found_df.loc[found_df[\"LOC\"].isna() == True])"
   ]
  },
  {
   "cell_type": "code",
   "execution_count": 39,
   "metadata": {},
   "outputs": [],
   "source": [
    "still_missing = found_df.loc[found_df[\"LOC\"].isna() == True]"
   ]
  },
  {
   "cell_type": "code",
   "execution_count": 43,
   "metadata": {},
   "outputs": [],
   "source": [
    "# Literally all of these are in Texas, what's up with that\n",
    "# Also I just googled these to fill in this dictionary\n",
    "still_missing_dict = {\n",
    "    75262: [32.7800, -96.8000],\n",
    "    75376: [32.7100, -96.8400],\n",
    "    75382: [32.8644, -96.7439],\n",
    "    75461: [33.6605, -95.5515],\n",
    "    75712: [32.3500, -95.3000],\n",
    "    76097: [32.5393, -97.3292],\n",
    "    77225: [29.6928, -95.4176],\n",
    "    77238: [29.9200, -95.4400],\n",
    "    77347: [30.0000, -95.2500],\n",
    "    77522: [29.7698, -94.9694],\n",
    "    77572: [29.6523, -95.0273],\n",
    "    77574: [29.5100, -95.0900],\n",
    "    77641: [29.8689, -93.9338],\n",
    "    77806: [30.6717, -96.3438],\n",
    "    78278: [29.5614, -98.5613],\n",
    "    78427: [27.6956, -97.4148],\n",
    "    79114: [35.1556, -101.8839],\n",
    "    79710: [32.0632, -102.0376],\n",
    "    73137: [35.4700, -97.5200]\n",
    "}"
   ]
  },
  {
   "cell_type": "code",
   "execution_count": 56,
   "metadata": {},
   "outputs": [],
   "source": [
    "still_missing_df = pd.DataFrame.from_dict(still_missing_dict, orient='index',\n",
    "                                          columns=[\"LAT\", \"LONG\"])\n",
    "still_missing_df.reset_index(inplace=True)\n",
    "still_missing_df.rename(columns={\"index\": \"ZIP\"}, inplace=True)"
   ]
  },
  {
   "cell_type": "code",
   "execution_count": 58,
   "metadata": {},
   "outputs": [
    {
     "data": {
      "text/html": [
       "<div>\n",
       "<style scoped>\n",
       "    .dataframe tbody tr th:only-of-type {\n",
       "        vertical-align: middle;\n",
       "    }\n",
       "\n",
       "    .dataframe tbody tr th {\n",
       "        vertical-align: top;\n",
       "    }\n",
       "\n",
       "    .dataframe thead th {\n",
       "        text-align: right;\n",
       "    }\n",
       "</style>\n",
       "<table border=\"1\" class=\"dataframe\">\n",
       "  <thead>\n",
       "    <tr style=\"text-align: right;\">\n",
       "      <th></th>\n",
       "      <th>ZIP</th>\n",
       "      <th>LAT</th>\n",
       "      <th>LONG</th>\n",
       "    </tr>\n",
       "  </thead>\n",
       "  <tbody>\n",
       "    <tr>\n",
       "      <th>0</th>\n",
       "      <td>75262</td>\n",
       "      <td>32.7800</td>\n",
       "      <td>-96.8000</td>\n",
       "    </tr>\n",
       "    <tr>\n",
       "      <th>1</th>\n",
       "      <td>75376</td>\n",
       "      <td>32.7100</td>\n",
       "      <td>-96.8400</td>\n",
       "    </tr>\n",
       "    <tr>\n",
       "      <th>2</th>\n",
       "      <td>75382</td>\n",
       "      <td>32.8644</td>\n",
       "      <td>-96.7439</td>\n",
       "    </tr>\n",
       "    <tr>\n",
       "      <th>3</th>\n",
       "      <td>75461</td>\n",
       "      <td>33.6605</td>\n",
       "      <td>-95.5515</td>\n",
       "    </tr>\n",
       "    <tr>\n",
       "      <th>4</th>\n",
       "      <td>75712</td>\n",
       "      <td>32.3500</td>\n",
       "      <td>-95.3000</td>\n",
       "    </tr>\n",
       "  </tbody>\n",
       "</table>\n",
       "</div>"
      ],
      "text/plain": [
       "     ZIP      LAT     LONG\n",
       "0  75262  32.7800 -96.8000\n",
       "1  75376  32.7100 -96.8400\n",
       "2  75382  32.8644 -96.7439\n",
       "3  75461  33.6605 -95.5515\n",
       "4  75712  32.3500 -95.3000"
      ]
     },
     "execution_count": 58,
     "metadata": {},
     "output_type": "execute_result"
    }
   ],
   "source": [
    "still_missing_df.head()"
   ]
  },
  {
   "cell_type": "code",
   "execution_count": 54,
   "metadata": {},
   "outputs": [
    {
     "name": "stdout",
     "output_type": "stream",
     "text": [
      "<class 'pandas.core.frame.DataFrame'>\n",
      "RangeIndex: 1375 entries, 0 to 1374\n",
      "Data columns (total 3 columns):\n",
      "ZIP     1375 non-null int64\n",
      "LAT     1319 non-null float64\n",
      "LONG    1319 non-null float64\n",
      "dtypes: float64(2), int64(1)\n",
      "memory usage: 32.3 KB\n"
     ]
    }
   ],
   "source": [
    "all_zips_df.info()"
   ]
  },
  {
   "cell_type": "code",
   "execution_count": 71,
   "metadata": {},
   "outputs": [],
   "source": [
    "found_df.drop(columns=\"LOC\", inplace=True)"
   ]
  },
  {
   "cell_type": "code",
   "execution_count": 72,
   "metadata": {
    "scrolled": false
   },
   "outputs": [
    {
     "name": "stdout",
     "output_type": "stream",
     "text": [
      "<class 'pandas.core.frame.DataFrame'>\n",
      "Int64Index: 56 entries, 1 to 1363\n",
      "Data columns (total 3 columns):\n",
      "ZIP     56 non-null int64\n",
      "LAT     37 non-null float64\n",
      "LONG    37 non-null float64\n",
      "dtypes: float64(2), int64(1)\n",
      "memory usage: 4.2 KB\n"
     ]
    }
   ],
   "source": [
    "found_df.info()"
   ]
  },
  {
   "cell_type": "code",
   "execution_count": 57,
   "metadata": {
    "scrolled": true
   },
   "outputs": [
    {
     "name": "stdout",
     "output_type": "stream",
     "text": [
      "<class 'pandas.core.frame.DataFrame'>\n",
      "RangeIndex: 19 entries, 0 to 18\n",
      "Data columns (total 3 columns):\n",
      "ZIP     19 non-null int64\n",
      "LAT     19 non-null float64\n",
      "LONG    19 non-null float64\n",
      "dtypes: float64(2), int64(1)\n",
      "memory usage: 536.0 bytes\n"
     ]
    }
   ],
   "source": [
    "still_missing_df.info()"
   ]
  },
  {
   "cell_type": "code",
   "execution_count": 75,
   "metadata": {},
   "outputs": [],
   "source": [
    "found_df = found_df.append(still_missing_df, ignore_index=True)"
   ]
  },
  {
   "cell_type": "code",
   "execution_count": 76,
   "metadata": {},
   "outputs": [
    {
     "name": "stdout",
     "output_type": "stream",
     "text": [
      "<class 'pandas.core.frame.DataFrame'>\n",
      "RangeIndex: 75 entries, 0 to 74\n",
      "Data columns (total 3 columns):\n",
      "ZIP     75 non-null int64\n",
      "LAT     56 non-null float64\n",
      "LONG    56 non-null float64\n",
      "dtypes: float64(2), int64(1)\n",
      "memory usage: 1.8 KB\n"
     ]
    }
   ],
   "source": [
    "found_df.info()"
   ]
  },
  {
   "cell_type": "code",
   "execution_count": 78,
   "metadata": {},
   "outputs": [],
   "source": [
    "found_df.dropna(how=\"any\", inplace=True)"
   ]
  },
  {
   "cell_type": "code",
   "execution_count": 79,
   "metadata": {},
   "outputs": [
    {
     "name": "stdout",
     "output_type": "stream",
     "text": [
      "<class 'pandas.core.frame.DataFrame'>\n",
      "Int64Index: 56 entries, 0 to 74\n",
      "Data columns (total 3 columns):\n",
      "ZIP     56 non-null int64\n",
      "LAT     56 non-null float64\n",
      "LONG    56 non-null float64\n",
      "dtypes: float64(2), int64(1)\n",
      "memory usage: 1.8 KB\n"
     ]
    }
   ],
   "source": [
    "found_df.info()"
   ]
  },
  {
   "cell_type": "code",
   "execution_count": 80,
   "metadata": {},
   "outputs": [],
   "source": [
    "all_zips_df = all_zips_df.append(found_df, ignore_index=True)"
   ]
  },
  {
   "cell_type": "code",
   "execution_count": 81,
   "metadata": {},
   "outputs": [
    {
     "name": "stdout",
     "output_type": "stream",
     "text": [
      "<class 'pandas.core.frame.DataFrame'>\n",
      "RangeIndex: 1431 entries, 0 to 1430\n",
      "Data columns (total 3 columns):\n",
      "ZIP     1431 non-null int64\n",
      "LAT     1375 non-null float64\n",
      "LONG    1375 non-null float64\n",
      "dtypes: float64(2), int64(1)\n",
      "memory usage: 33.6 KB\n"
     ]
    }
   ],
   "source": [
    "all_zips_df.info()"
   ]
  },
  {
   "cell_type": "code",
   "execution_count": 82,
   "metadata": {},
   "outputs": [],
   "source": [
    "all_zips_df.dropna(how=\"any\", inplace=True)"
   ]
  },
  {
   "cell_type": "code",
   "execution_count": 83,
   "metadata": {},
   "outputs": [
    {
     "name": "stdout",
     "output_type": "stream",
     "text": [
      "<class 'pandas.core.frame.DataFrame'>\n",
      "Int64Index: 1375 entries, 0 to 1430\n",
      "Data columns (total 3 columns):\n",
      "ZIP     1375 non-null int64\n",
      "LAT     1375 non-null float64\n",
      "LONG    1375 non-null float64\n",
      "dtypes: float64(2), int64(1)\n",
      "memory usage: 43.0 KB\n"
     ]
    }
   ],
   "source": [
    "all_zips_df.info()"
   ]
  },
  {
   "cell_type": "code",
   "execution_count": 84,
   "metadata": {},
   "outputs": [
    {
     "data": {
      "text/html": [
       "<div>\n",
       "<style scoped>\n",
       "    .dataframe tbody tr th:only-of-type {\n",
       "        vertical-align: middle;\n",
       "    }\n",
       "\n",
       "    .dataframe tbody tr th {\n",
       "        vertical-align: top;\n",
       "    }\n",
       "\n",
       "    .dataframe thead th {\n",
       "        text-align: right;\n",
       "    }\n",
       "</style>\n",
       "<table border=\"1\" class=\"dataframe\">\n",
       "  <thead>\n",
       "    <tr style=\"text-align: right;\">\n",
       "      <th></th>\n",
       "      <th>REPORTER_NAME</th>\n",
       "      <th>REPORTER_ZIP</th>\n",
       "      <th>BUYER_NAME</th>\n",
       "      <th>BUYER_ZIP</th>\n",
       "      <th>DRUG_NAME</th>\n",
       "      <th>TRANSACTION_DATE</th>\n",
       "      <th>DOSAGE_UNIT</th>\n",
       "    </tr>\n",
       "  </thead>\n",
       "  <tbody>\n",
       "    <tr>\n",
       "      <th>0</th>\n",
       "      <td>BELLCO DRUG CORP</td>\n",
       "      <td>11701</td>\n",
       "      <td>LONGHORN DRUG CO</td>\n",
       "      <td>75662</td>\n",
       "      <td>HYDROCODONE</td>\n",
       "      <td>2006-01-11</td>\n",
       "      <td>500.0</td>\n",
       "    </tr>\n",
       "    <tr>\n",
       "      <th>1</th>\n",
       "      <td>BELLCO DRUG CORP</td>\n",
       "      <td>11701</td>\n",
       "      <td>MALLEY'S PHARMACY</td>\n",
       "      <td>77706</td>\n",
       "      <td>HYDROCODONE</td>\n",
       "      <td>2006-01-04</td>\n",
       "      <td>500.0</td>\n",
       "    </tr>\n",
       "    <tr>\n",
       "      <th>2</th>\n",
       "      <td>BELLCO DRUG CORP</td>\n",
       "      <td>11701</td>\n",
       "      <td>MALLEY'S PHARMACY</td>\n",
       "      <td>77706</td>\n",
       "      <td>HYDROCODONE</td>\n",
       "      <td>2006-11-02</td>\n",
       "      <td>400.0</td>\n",
       "    </tr>\n",
       "    <tr>\n",
       "      <th>3</th>\n",
       "      <td>BELLCO DRUG CORP</td>\n",
       "      <td>11701</td>\n",
       "      <td>MALLEY'S PHARMACY</td>\n",
       "      <td>77706</td>\n",
       "      <td>HYDROCODONE</td>\n",
       "      <td>2007-01-04</td>\n",
       "      <td>100.0</td>\n",
       "    </tr>\n",
       "    <tr>\n",
       "      <th>4</th>\n",
       "      <td>BELLCO DRUG CORP</td>\n",
       "      <td>11701</td>\n",
       "      <td>MALLEY'S PHARMACY</td>\n",
       "      <td>77706</td>\n",
       "      <td>HYDROCODONE</td>\n",
       "      <td>2007-02-14</td>\n",
       "      <td>100.0</td>\n",
       "    </tr>\n",
       "  </tbody>\n",
       "</table>\n",
       "</div>"
      ],
      "text/plain": [
       "      REPORTER_NAME  REPORTER_ZIP         BUYER_NAME  BUYER_ZIP    DRUG_NAME  \\\n",
       "0  BELLCO DRUG CORP         11701   LONGHORN DRUG CO      75662  HYDROCODONE   \n",
       "1  BELLCO DRUG CORP         11701  MALLEY'S PHARMACY      77706  HYDROCODONE   \n",
       "2  BELLCO DRUG CORP         11701  MALLEY'S PHARMACY      77706  HYDROCODONE   \n",
       "3  BELLCO DRUG CORP         11701  MALLEY'S PHARMACY      77706  HYDROCODONE   \n",
       "4  BELLCO DRUG CORP         11701  MALLEY'S PHARMACY      77706  HYDROCODONE   \n",
       "\n",
       "  TRANSACTION_DATE  DOSAGE_UNIT  \n",
       "0       2006-01-11        500.0  \n",
       "1       2006-01-04        500.0  \n",
       "2       2006-11-02        400.0  \n",
       "3       2007-01-04        100.0  \n",
       "4       2007-02-14        100.0  "
      ]
     },
     "execution_count": 84,
     "metadata": {},
     "output_type": "execute_result"
    }
   ],
   "source": [
    "data.head()"
   ]
  },
  {
   "cell_type": "code",
   "execution_count": 89,
   "metadata": {},
   "outputs": [],
   "source": [
    "data = data.merge(all_zips_df, how=\"left\", left_on=\"REPORTER_ZIP\", right_on=\"ZIP\")"
   ]
  },
  {
   "cell_type": "code",
   "execution_count": 90,
   "metadata": {},
   "outputs": [
    {
     "data": {
      "text/html": [
       "<div>\n",
       "<style scoped>\n",
       "    .dataframe tbody tr th:only-of-type {\n",
       "        vertical-align: middle;\n",
       "    }\n",
       "\n",
       "    .dataframe tbody tr th {\n",
       "        vertical-align: top;\n",
       "    }\n",
       "\n",
       "    .dataframe thead th {\n",
       "        text-align: right;\n",
       "    }\n",
       "</style>\n",
       "<table border=\"1\" class=\"dataframe\">\n",
       "  <thead>\n",
       "    <tr style=\"text-align: right;\">\n",
       "      <th></th>\n",
       "      <th>REPORTER_NAME</th>\n",
       "      <th>REPORTER_ZIP</th>\n",
       "      <th>BUYER_NAME</th>\n",
       "      <th>BUYER_ZIP</th>\n",
       "      <th>DRUG_NAME</th>\n",
       "      <th>TRANSACTION_DATE</th>\n",
       "      <th>DOSAGE_UNIT</th>\n",
       "      <th>ZIP</th>\n",
       "      <th>LAT</th>\n",
       "      <th>LONG</th>\n",
       "    </tr>\n",
       "  </thead>\n",
       "  <tbody>\n",
       "    <tr>\n",
       "      <th>0</th>\n",
       "      <td>BELLCO DRUG CORP</td>\n",
       "      <td>11701</td>\n",
       "      <td>LONGHORN DRUG CO</td>\n",
       "      <td>75662</td>\n",
       "      <td>HYDROCODONE</td>\n",
       "      <td>2006-01-11</td>\n",
       "      <td>500.0</td>\n",
       "      <td>11701</td>\n",
       "      <td>40.69</td>\n",
       "      <td>-73.41</td>\n",
       "    </tr>\n",
       "    <tr>\n",
       "      <th>1</th>\n",
       "      <td>BELLCO DRUG CORP</td>\n",
       "      <td>11701</td>\n",
       "      <td>MALLEY'S PHARMACY</td>\n",
       "      <td>77706</td>\n",
       "      <td>HYDROCODONE</td>\n",
       "      <td>2006-01-04</td>\n",
       "      <td>500.0</td>\n",
       "      <td>11701</td>\n",
       "      <td>40.69</td>\n",
       "      <td>-73.41</td>\n",
       "    </tr>\n",
       "    <tr>\n",
       "      <th>2</th>\n",
       "      <td>BELLCO DRUG CORP</td>\n",
       "      <td>11701</td>\n",
       "      <td>MALLEY'S PHARMACY</td>\n",
       "      <td>77706</td>\n",
       "      <td>HYDROCODONE</td>\n",
       "      <td>2006-11-02</td>\n",
       "      <td>400.0</td>\n",
       "      <td>11701</td>\n",
       "      <td>40.69</td>\n",
       "      <td>-73.41</td>\n",
       "    </tr>\n",
       "    <tr>\n",
       "      <th>3</th>\n",
       "      <td>BELLCO DRUG CORP</td>\n",
       "      <td>11701</td>\n",
       "      <td>MALLEY'S PHARMACY</td>\n",
       "      <td>77706</td>\n",
       "      <td>HYDROCODONE</td>\n",
       "      <td>2007-01-04</td>\n",
       "      <td>100.0</td>\n",
       "      <td>11701</td>\n",
       "      <td>40.69</td>\n",
       "      <td>-73.41</td>\n",
       "    </tr>\n",
       "    <tr>\n",
       "      <th>4</th>\n",
       "      <td>BELLCO DRUG CORP</td>\n",
       "      <td>11701</td>\n",
       "      <td>MALLEY'S PHARMACY</td>\n",
       "      <td>77706</td>\n",
       "      <td>HYDROCODONE</td>\n",
       "      <td>2007-02-14</td>\n",
       "      <td>100.0</td>\n",
       "      <td>11701</td>\n",
       "      <td>40.69</td>\n",
       "      <td>-73.41</td>\n",
       "    </tr>\n",
       "  </tbody>\n",
       "</table>\n",
       "</div>"
      ],
      "text/plain": [
       "      REPORTER_NAME  REPORTER_ZIP         BUYER_NAME  BUYER_ZIP    DRUG_NAME  \\\n",
       "0  BELLCO DRUG CORP         11701   LONGHORN DRUG CO      75662  HYDROCODONE   \n",
       "1  BELLCO DRUG CORP         11701  MALLEY'S PHARMACY      77706  HYDROCODONE   \n",
       "2  BELLCO DRUG CORP         11701  MALLEY'S PHARMACY      77706  HYDROCODONE   \n",
       "3  BELLCO DRUG CORP         11701  MALLEY'S PHARMACY      77706  HYDROCODONE   \n",
       "4  BELLCO DRUG CORP         11701  MALLEY'S PHARMACY      77706  HYDROCODONE   \n",
       "\n",
       "  TRANSACTION_DATE  DOSAGE_UNIT    ZIP    LAT   LONG  \n",
       "0       2006-01-11        500.0  11701  40.69 -73.41  \n",
       "1       2006-01-04        500.0  11701  40.69 -73.41  \n",
       "2       2006-11-02        400.0  11701  40.69 -73.41  \n",
       "3       2007-01-04        100.0  11701  40.69 -73.41  \n",
       "4       2007-02-14        100.0  11701  40.69 -73.41  "
      ]
     },
     "execution_count": 90,
     "metadata": {},
     "output_type": "execute_result"
    }
   ],
   "source": [
    "data.head()"
   ]
  },
  {
   "cell_type": "code",
   "execution_count": 91,
   "metadata": {},
   "outputs": [],
   "source": [
    "data.rename(columns={\"LAT\": \"REPORTER_LAT\", \"LONG\": \"REPORTER_LONG\"}, \n",
    "            inplace=True)\n",
    "data.drop(columns=\"ZIP\", inplace=True)"
   ]
  },
  {
   "cell_type": "code",
   "execution_count": 92,
   "metadata": {},
   "outputs": [
    {
     "data": {
      "text/html": [
       "<div>\n",
       "<style scoped>\n",
       "    .dataframe tbody tr th:only-of-type {\n",
       "        vertical-align: middle;\n",
       "    }\n",
       "\n",
       "    .dataframe tbody tr th {\n",
       "        vertical-align: top;\n",
       "    }\n",
       "\n",
       "    .dataframe thead th {\n",
       "        text-align: right;\n",
       "    }\n",
       "</style>\n",
       "<table border=\"1\" class=\"dataframe\">\n",
       "  <thead>\n",
       "    <tr style=\"text-align: right;\">\n",
       "      <th></th>\n",
       "      <th>REPORTER_NAME</th>\n",
       "      <th>REPORTER_ZIP</th>\n",
       "      <th>BUYER_NAME</th>\n",
       "      <th>BUYER_ZIP</th>\n",
       "      <th>DRUG_NAME</th>\n",
       "      <th>TRANSACTION_DATE</th>\n",
       "      <th>DOSAGE_UNIT</th>\n",
       "      <th>REPORTER_LAT</th>\n",
       "      <th>REPORTER_LONG</th>\n",
       "    </tr>\n",
       "  </thead>\n",
       "  <tbody>\n",
       "    <tr>\n",
       "      <th>0</th>\n",
       "      <td>BELLCO DRUG CORP</td>\n",
       "      <td>11701</td>\n",
       "      <td>LONGHORN DRUG CO</td>\n",
       "      <td>75662</td>\n",
       "      <td>HYDROCODONE</td>\n",
       "      <td>2006-01-11</td>\n",
       "      <td>500.0</td>\n",
       "      <td>40.69</td>\n",
       "      <td>-73.41</td>\n",
       "    </tr>\n",
       "    <tr>\n",
       "      <th>1</th>\n",
       "      <td>BELLCO DRUG CORP</td>\n",
       "      <td>11701</td>\n",
       "      <td>MALLEY'S PHARMACY</td>\n",
       "      <td>77706</td>\n",
       "      <td>HYDROCODONE</td>\n",
       "      <td>2006-01-04</td>\n",
       "      <td>500.0</td>\n",
       "      <td>40.69</td>\n",
       "      <td>-73.41</td>\n",
       "    </tr>\n",
       "    <tr>\n",
       "      <th>2</th>\n",
       "      <td>BELLCO DRUG CORP</td>\n",
       "      <td>11701</td>\n",
       "      <td>MALLEY'S PHARMACY</td>\n",
       "      <td>77706</td>\n",
       "      <td>HYDROCODONE</td>\n",
       "      <td>2006-11-02</td>\n",
       "      <td>400.0</td>\n",
       "      <td>40.69</td>\n",
       "      <td>-73.41</td>\n",
       "    </tr>\n",
       "    <tr>\n",
       "      <th>3</th>\n",
       "      <td>BELLCO DRUG CORP</td>\n",
       "      <td>11701</td>\n",
       "      <td>MALLEY'S PHARMACY</td>\n",
       "      <td>77706</td>\n",
       "      <td>HYDROCODONE</td>\n",
       "      <td>2007-01-04</td>\n",
       "      <td>100.0</td>\n",
       "      <td>40.69</td>\n",
       "      <td>-73.41</td>\n",
       "    </tr>\n",
       "    <tr>\n",
       "      <th>4</th>\n",
       "      <td>BELLCO DRUG CORP</td>\n",
       "      <td>11701</td>\n",
       "      <td>MALLEY'S PHARMACY</td>\n",
       "      <td>77706</td>\n",
       "      <td>HYDROCODONE</td>\n",
       "      <td>2007-02-14</td>\n",
       "      <td>100.0</td>\n",
       "      <td>40.69</td>\n",
       "      <td>-73.41</td>\n",
       "    </tr>\n",
       "  </tbody>\n",
       "</table>\n",
       "</div>"
      ],
      "text/plain": [
       "      REPORTER_NAME  REPORTER_ZIP         BUYER_NAME  BUYER_ZIP    DRUG_NAME  \\\n",
       "0  BELLCO DRUG CORP         11701   LONGHORN DRUG CO      75662  HYDROCODONE   \n",
       "1  BELLCO DRUG CORP         11701  MALLEY'S PHARMACY      77706  HYDROCODONE   \n",
       "2  BELLCO DRUG CORP         11701  MALLEY'S PHARMACY      77706  HYDROCODONE   \n",
       "3  BELLCO DRUG CORP         11701  MALLEY'S PHARMACY      77706  HYDROCODONE   \n",
       "4  BELLCO DRUG CORP         11701  MALLEY'S PHARMACY      77706  HYDROCODONE   \n",
       "\n",
       "  TRANSACTION_DATE  DOSAGE_UNIT  REPORTER_LAT  REPORTER_LONG  \n",
       "0       2006-01-11        500.0         40.69         -73.41  \n",
       "1       2006-01-04        500.0         40.69         -73.41  \n",
       "2       2006-11-02        400.0         40.69         -73.41  \n",
       "3       2007-01-04        100.0         40.69         -73.41  \n",
       "4       2007-02-14        100.0         40.69         -73.41  "
      ]
     },
     "execution_count": 92,
     "metadata": {},
     "output_type": "execute_result"
    }
   ],
   "source": [
    "data.head()"
   ]
  },
  {
   "cell_type": "code",
   "execution_count": 93,
   "metadata": {},
   "outputs": [],
   "source": [
    "data = data.merge(all_zips_df, how=\"left\", left_on=\"BUYER_ZIP\", right_on=\"ZIP\")"
   ]
  },
  {
   "cell_type": "code",
   "execution_count": 94,
   "metadata": {},
   "outputs": [
    {
     "data": {
      "text/html": [
       "<div>\n",
       "<style scoped>\n",
       "    .dataframe tbody tr th:only-of-type {\n",
       "        vertical-align: middle;\n",
       "    }\n",
       "\n",
       "    .dataframe tbody tr th {\n",
       "        vertical-align: top;\n",
       "    }\n",
       "\n",
       "    .dataframe thead th {\n",
       "        text-align: right;\n",
       "    }\n",
       "</style>\n",
       "<table border=\"1\" class=\"dataframe\">\n",
       "  <thead>\n",
       "    <tr style=\"text-align: right;\">\n",
       "      <th></th>\n",
       "      <th>REPORTER_NAME</th>\n",
       "      <th>REPORTER_ZIP</th>\n",
       "      <th>BUYER_NAME</th>\n",
       "      <th>BUYER_ZIP</th>\n",
       "      <th>DRUG_NAME</th>\n",
       "      <th>TRANSACTION_DATE</th>\n",
       "      <th>DOSAGE_UNIT</th>\n",
       "      <th>REPORTER_LAT</th>\n",
       "      <th>REPORTER_LONG</th>\n",
       "      <th>ZIP</th>\n",
       "      <th>LAT</th>\n",
       "      <th>LONG</th>\n",
       "    </tr>\n",
       "  </thead>\n",
       "  <tbody>\n",
       "    <tr>\n",
       "      <th>0</th>\n",
       "      <td>BELLCO DRUG CORP</td>\n",
       "      <td>11701</td>\n",
       "      <td>LONGHORN DRUG CO</td>\n",
       "      <td>75662</td>\n",
       "      <td>HYDROCODONE</td>\n",
       "      <td>2006-01-11</td>\n",
       "      <td>500.0</td>\n",
       "      <td>40.69</td>\n",
       "      <td>-73.41</td>\n",
       "      <td>75662</td>\n",
       "      <td>32.4</td>\n",
       "      <td>-94.90</td>\n",
       "    </tr>\n",
       "    <tr>\n",
       "      <th>1</th>\n",
       "      <td>BELLCO DRUG CORP</td>\n",
       "      <td>11701</td>\n",
       "      <td>MALLEY'S PHARMACY</td>\n",
       "      <td>77706</td>\n",
       "      <td>HYDROCODONE</td>\n",
       "      <td>2006-01-04</td>\n",
       "      <td>500.0</td>\n",
       "      <td>40.69</td>\n",
       "      <td>-73.41</td>\n",
       "      <td>77706</td>\n",
       "      <td>30.1</td>\n",
       "      <td>-94.17</td>\n",
       "    </tr>\n",
       "    <tr>\n",
       "      <th>2</th>\n",
       "      <td>BELLCO DRUG CORP</td>\n",
       "      <td>11701</td>\n",
       "      <td>MALLEY'S PHARMACY</td>\n",
       "      <td>77706</td>\n",
       "      <td>HYDROCODONE</td>\n",
       "      <td>2006-11-02</td>\n",
       "      <td>400.0</td>\n",
       "      <td>40.69</td>\n",
       "      <td>-73.41</td>\n",
       "      <td>77706</td>\n",
       "      <td>30.1</td>\n",
       "      <td>-94.17</td>\n",
       "    </tr>\n",
       "    <tr>\n",
       "      <th>3</th>\n",
       "      <td>BELLCO DRUG CORP</td>\n",
       "      <td>11701</td>\n",
       "      <td>MALLEY'S PHARMACY</td>\n",
       "      <td>77706</td>\n",
       "      <td>HYDROCODONE</td>\n",
       "      <td>2007-01-04</td>\n",
       "      <td>100.0</td>\n",
       "      <td>40.69</td>\n",
       "      <td>-73.41</td>\n",
       "      <td>77706</td>\n",
       "      <td>30.1</td>\n",
       "      <td>-94.17</td>\n",
       "    </tr>\n",
       "    <tr>\n",
       "      <th>4</th>\n",
       "      <td>BELLCO DRUG CORP</td>\n",
       "      <td>11701</td>\n",
       "      <td>MALLEY'S PHARMACY</td>\n",
       "      <td>77706</td>\n",
       "      <td>HYDROCODONE</td>\n",
       "      <td>2007-02-14</td>\n",
       "      <td>100.0</td>\n",
       "      <td>40.69</td>\n",
       "      <td>-73.41</td>\n",
       "      <td>77706</td>\n",
       "      <td>30.1</td>\n",
       "      <td>-94.17</td>\n",
       "    </tr>\n",
       "  </tbody>\n",
       "</table>\n",
       "</div>"
      ],
      "text/plain": [
       "      REPORTER_NAME  REPORTER_ZIP         BUYER_NAME  BUYER_ZIP    DRUG_NAME  \\\n",
       "0  BELLCO DRUG CORP         11701   LONGHORN DRUG CO      75662  HYDROCODONE   \n",
       "1  BELLCO DRUG CORP         11701  MALLEY'S PHARMACY      77706  HYDROCODONE   \n",
       "2  BELLCO DRUG CORP         11701  MALLEY'S PHARMACY      77706  HYDROCODONE   \n",
       "3  BELLCO DRUG CORP         11701  MALLEY'S PHARMACY      77706  HYDROCODONE   \n",
       "4  BELLCO DRUG CORP         11701  MALLEY'S PHARMACY      77706  HYDROCODONE   \n",
       "\n",
       "  TRANSACTION_DATE  DOSAGE_UNIT  REPORTER_LAT  REPORTER_LONG    ZIP   LAT  \\\n",
       "0       2006-01-11        500.0         40.69         -73.41  75662  32.4   \n",
       "1       2006-01-04        500.0         40.69         -73.41  77706  30.1   \n",
       "2       2006-11-02        400.0         40.69         -73.41  77706  30.1   \n",
       "3       2007-01-04        100.0         40.69         -73.41  77706  30.1   \n",
       "4       2007-02-14        100.0         40.69         -73.41  77706  30.1   \n",
       "\n",
       "    LONG  \n",
       "0 -94.90  \n",
       "1 -94.17  \n",
       "2 -94.17  \n",
       "3 -94.17  \n",
       "4 -94.17  "
      ]
     },
     "execution_count": 94,
     "metadata": {},
     "output_type": "execute_result"
    }
   ],
   "source": [
    "data.head()"
   ]
  },
  {
   "cell_type": "code",
   "execution_count": 95,
   "metadata": {},
   "outputs": [],
   "source": [
    "data.rename(columns={\"LAT\": \"BUYER_LAT\", \"LONG\": \"BUYER_LONG\"}, \n",
    "            inplace=True)\n",
    "data.drop(columns=\"ZIP\", inplace=True)"
   ]
  },
  {
   "cell_type": "code",
   "execution_count": 96,
   "metadata": {},
   "outputs": [
    {
     "data": {
      "text/html": [
       "<div>\n",
       "<style scoped>\n",
       "    .dataframe tbody tr th:only-of-type {\n",
       "        vertical-align: middle;\n",
       "    }\n",
       "\n",
       "    .dataframe tbody tr th {\n",
       "        vertical-align: top;\n",
       "    }\n",
       "\n",
       "    .dataframe thead th {\n",
       "        text-align: right;\n",
       "    }\n",
       "</style>\n",
       "<table border=\"1\" class=\"dataframe\">\n",
       "  <thead>\n",
       "    <tr style=\"text-align: right;\">\n",
       "      <th></th>\n",
       "      <th>REPORTER_NAME</th>\n",
       "      <th>REPORTER_ZIP</th>\n",
       "      <th>BUYER_NAME</th>\n",
       "      <th>BUYER_ZIP</th>\n",
       "      <th>DRUG_NAME</th>\n",
       "      <th>TRANSACTION_DATE</th>\n",
       "      <th>DOSAGE_UNIT</th>\n",
       "      <th>REPORTER_LAT</th>\n",
       "      <th>REPORTER_LONG</th>\n",
       "      <th>BUYER_LAT</th>\n",
       "      <th>BUYER_LONG</th>\n",
       "    </tr>\n",
       "  </thead>\n",
       "  <tbody>\n",
       "    <tr>\n",
       "      <th>0</th>\n",
       "      <td>BELLCO DRUG CORP</td>\n",
       "      <td>11701</td>\n",
       "      <td>LONGHORN DRUG CO</td>\n",
       "      <td>75662</td>\n",
       "      <td>HYDROCODONE</td>\n",
       "      <td>2006-01-11</td>\n",
       "      <td>500.0</td>\n",
       "      <td>40.69</td>\n",
       "      <td>-73.41</td>\n",
       "      <td>32.4</td>\n",
       "      <td>-94.90</td>\n",
       "    </tr>\n",
       "    <tr>\n",
       "      <th>1</th>\n",
       "      <td>BELLCO DRUG CORP</td>\n",
       "      <td>11701</td>\n",
       "      <td>MALLEY'S PHARMACY</td>\n",
       "      <td>77706</td>\n",
       "      <td>HYDROCODONE</td>\n",
       "      <td>2006-01-04</td>\n",
       "      <td>500.0</td>\n",
       "      <td>40.69</td>\n",
       "      <td>-73.41</td>\n",
       "      <td>30.1</td>\n",
       "      <td>-94.17</td>\n",
       "    </tr>\n",
       "    <tr>\n",
       "      <th>2</th>\n",
       "      <td>BELLCO DRUG CORP</td>\n",
       "      <td>11701</td>\n",
       "      <td>MALLEY'S PHARMACY</td>\n",
       "      <td>77706</td>\n",
       "      <td>HYDROCODONE</td>\n",
       "      <td>2006-11-02</td>\n",
       "      <td>400.0</td>\n",
       "      <td>40.69</td>\n",
       "      <td>-73.41</td>\n",
       "      <td>30.1</td>\n",
       "      <td>-94.17</td>\n",
       "    </tr>\n",
       "    <tr>\n",
       "      <th>3</th>\n",
       "      <td>BELLCO DRUG CORP</td>\n",
       "      <td>11701</td>\n",
       "      <td>MALLEY'S PHARMACY</td>\n",
       "      <td>77706</td>\n",
       "      <td>HYDROCODONE</td>\n",
       "      <td>2007-01-04</td>\n",
       "      <td>100.0</td>\n",
       "      <td>40.69</td>\n",
       "      <td>-73.41</td>\n",
       "      <td>30.1</td>\n",
       "      <td>-94.17</td>\n",
       "    </tr>\n",
       "    <tr>\n",
       "      <th>4</th>\n",
       "      <td>BELLCO DRUG CORP</td>\n",
       "      <td>11701</td>\n",
       "      <td>MALLEY'S PHARMACY</td>\n",
       "      <td>77706</td>\n",
       "      <td>HYDROCODONE</td>\n",
       "      <td>2007-02-14</td>\n",
       "      <td>100.0</td>\n",
       "      <td>40.69</td>\n",
       "      <td>-73.41</td>\n",
       "      <td>30.1</td>\n",
       "      <td>-94.17</td>\n",
       "    </tr>\n",
       "  </tbody>\n",
       "</table>\n",
       "</div>"
      ],
      "text/plain": [
       "      REPORTER_NAME  REPORTER_ZIP         BUYER_NAME  BUYER_ZIP    DRUG_NAME  \\\n",
       "0  BELLCO DRUG CORP         11701   LONGHORN DRUG CO      75662  HYDROCODONE   \n",
       "1  BELLCO DRUG CORP         11701  MALLEY'S PHARMACY      77706  HYDROCODONE   \n",
       "2  BELLCO DRUG CORP         11701  MALLEY'S PHARMACY      77706  HYDROCODONE   \n",
       "3  BELLCO DRUG CORP         11701  MALLEY'S PHARMACY      77706  HYDROCODONE   \n",
       "4  BELLCO DRUG CORP         11701  MALLEY'S PHARMACY      77706  HYDROCODONE   \n",
       "\n",
       "  TRANSACTION_DATE  DOSAGE_UNIT  REPORTER_LAT  REPORTER_LONG  BUYER_LAT  \\\n",
       "0       2006-01-11        500.0         40.69         -73.41       32.4   \n",
       "1       2006-01-04        500.0         40.69         -73.41       30.1   \n",
       "2       2006-11-02        400.0         40.69         -73.41       30.1   \n",
       "3       2007-01-04        100.0         40.69         -73.41       30.1   \n",
       "4       2007-02-14        100.0         40.69         -73.41       30.1   \n",
       "\n",
       "   BUYER_LONG  \n",
       "0      -94.90  \n",
       "1      -94.17  \n",
       "2      -94.17  \n",
       "3      -94.17  \n",
       "4      -94.17  "
      ]
     },
     "execution_count": 96,
     "metadata": {},
     "output_type": "execute_result"
    }
   ],
   "source": [
    "data.head()"
   ]
  },
  {
   "cell_type": "code",
   "execution_count": 98,
   "metadata": {},
   "outputs": [
    {
     "name": "stdout",
     "output_type": "stream",
     "text": [
      "<class 'pandas.core.frame.DataFrame'>\n",
      "Int64Index: 12108468 entries, 0 to 12108467\n",
      "Data columns (total 11 columns):\n",
      "REPORTER_NAME       12108468 non-null object\n",
      "REPORTER_ZIP        12108468 non-null int64\n",
      "BUYER_NAME          12108468 non-null object\n",
      "BUYER_ZIP           12108468 non-null int64\n",
      "DRUG_NAME           12108468 non-null object\n",
      "TRANSACTION_DATE    12108468 non-null datetime64[ns]\n",
      "DOSAGE_UNIT         12108468 non-null float64\n",
      "REPORTER_LAT        12108468 non-null float64\n",
      "REPORTER_LONG       12108468 non-null float64\n",
      "BUYER_LAT           12108468 non-null float64\n",
      "BUYER_LONG          12108468 non-null float64\n",
      "dtypes: datetime64[ns](1), float64(5), int64(2), object(3)\n",
      "memory usage: 1.1+ GB\n"
     ]
    }
   ],
   "source": [
    "data.info(null_counts=True)"
   ]
  },
  {
   "cell_type": "code",
   "execution_count": 100,
   "metadata": {},
   "outputs": [],
   "source": [
    "# Writing to a csv\n",
    "data.to_csv(r\"data/TX_Buyers_Shipment_Location_Data.csv\", index=False)"
   ]
  },
  {
   "cell_type": "code",
   "execution_count": 101,
   "metadata": {},
   "outputs": [
    {
     "data": {
      "text/html": [
       "<div>\n",
       "<style scoped>\n",
       "    .dataframe tbody tr th:only-of-type {\n",
       "        vertical-align: middle;\n",
       "    }\n",
       "\n",
       "    .dataframe tbody tr th {\n",
       "        vertical-align: top;\n",
       "    }\n",
       "\n",
       "    .dataframe thead th {\n",
       "        text-align: right;\n",
       "    }\n",
       "</style>\n",
       "<table border=\"1\" class=\"dataframe\">\n",
       "  <thead>\n",
       "    <tr style=\"text-align: right;\">\n",
       "      <th></th>\n",
       "      <th>REPORTER_NAME</th>\n",
       "      <th>REPORTER_ZIP</th>\n",
       "      <th>BUYER_NAME</th>\n",
       "      <th>BUYER_ZIP</th>\n",
       "      <th>DRUG_NAME</th>\n",
       "      <th>TRANSACTION_DATE</th>\n",
       "      <th>DOSAGE_UNIT</th>\n",
       "      <th>REPORTER_LAT</th>\n",
       "      <th>REPORTER_LONG</th>\n",
       "      <th>BUYER_LAT</th>\n",
       "      <th>BUYER_LONG</th>\n",
       "    </tr>\n",
       "  </thead>\n",
       "  <tbody>\n",
       "    <tr>\n",
       "      <th>0</th>\n",
       "      <td>BELLCO DRUG CORP</td>\n",
       "      <td>11701</td>\n",
       "      <td>LONGHORN DRUG CO</td>\n",
       "      <td>75662</td>\n",
       "      <td>HYDROCODONE</td>\n",
       "      <td>2006-01-11</td>\n",
       "      <td>500.0</td>\n",
       "      <td>40.69</td>\n",
       "      <td>-73.41</td>\n",
       "      <td>32.4</td>\n",
       "      <td>-94.90</td>\n",
       "    </tr>\n",
       "    <tr>\n",
       "      <th>1</th>\n",
       "      <td>BELLCO DRUG CORP</td>\n",
       "      <td>11701</td>\n",
       "      <td>MALLEY'S PHARMACY</td>\n",
       "      <td>77706</td>\n",
       "      <td>HYDROCODONE</td>\n",
       "      <td>2006-01-04</td>\n",
       "      <td>500.0</td>\n",
       "      <td>40.69</td>\n",
       "      <td>-73.41</td>\n",
       "      <td>30.1</td>\n",
       "      <td>-94.17</td>\n",
       "    </tr>\n",
       "    <tr>\n",
       "      <th>2</th>\n",
       "      <td>BELLCO DRUG CORP</td>\n",
       "      <td>11701</td>\n",
       "      <td>MALLEY'S PHARMACY</td>\n",
       "      <td>77706</td>\n",
       "      <td>HYDROCODONE</td>\n",
       "      <td>2006-11-02</td>\n",
       "      <td>400.0</td>\n",
       "      <td>40.69</td>\n",
       "      <td>-73.41</td>\n",
       "      <td>30.1</td>\n",
       "      <td>-94.17</td>\n",
       "    </tr>\n",
       "    <tr>\n",
       "      <th>3</th>\n",
       "      <td>BELLCO DRUG CORP</td>\n",
       "      <td>11701</td>\n",
       "      <td>MALLEY'S PHARMACY</td>\n",
       "      <td>77706</td>\n",
       "      <td>HYDROCODONE</td>\n",
       "      <td>2007-01-04</td>\n",
       "      <td>100.0</td>\n",
       "      <td>40.69</td>\n",
       "      <td>-73.41</td>\n",
       "      <td>30.1</td>\n",
       "      <td>-94.17</td>\n",
       "    </tr>\n",
       "    <tr>\n",
       "      <th>4</th>\n",
       "      <td>BELLCO DRUG CORP</td>\n",
       "      <td>11701</td>\n",
       "      <td>MALLEY'S PHARMACY</td>\n",
       "      <td>77706</td>\n",
       "      <td>HYDROCODONE</td>\n",
       "      <td>2007-02-14</td>\n",
       "      <td>100.0</td>\n",
       "      <td>40.69</td>\n",
       "      <td>-73.41</td>\n",
       "      <td>30.1</td>\n",
       "      <td>-94.17</td>\n",
       "    </tr>\n",
       "  </tbody>\n",
       "</table>\n",
       "</div>"
      ],
      "text/plain": [
       "      REPORTER_NAME  REPORTER_ZIP         BUYER_NAME  BUYER_ZIP    DRUG_NAME  \\\n",
       "0  BELLCO DRUG CORP         11701   LONGHORN DRUG CO      75662  HYDROCODONE   \n",
       "1  BELLCO DRUG CORP         11701  MALLEY'S PHARMACY      77706  HYDROCODONE   \n",
       "2  BELLCO DRUG CORP         11701  MALLEY'S PHARMACY      77706  HYDROCODONE   \n",
       "3  BELLCO DRUG CORP         11701  MALLEY'S PHARMACY      77706  HYDROCODONE   \n",
       "4  BELLCO DRUG CORP         11701  MALLEY'S PHARMACY      77706  HYDROCODONE   \n",
       "\n",
       "  TRANSACTION_DATE  DOSAGE_UNIT  REPORTER_LAT  REPORTER_LONG  BUYER_LAT  \\\n",
       "0       2006-01-11        500.0         40.69         -73.41       32.4   \n",
       "1       2006-01-04        500.0         40.69         -73.41       30.1   \n",
       "2       2006-11-02        400.0         40.69         -73.41       30.1   \n",
       "3       2007-01-04        100.0         40.69         -73.41       30.1   \n",
       "4       2007-02-14        100.0         40.69         -73.41       30.1   \n",
       "\n",
       "   BUYER_LONG  \n",
       "0      -94.90  \n",
       "1      -94.17  \n",
       "2      -94.17  \n",
       "3      -94.17  \n",
       "4      -94.17  "
      ]
     },
     "execution_count": 101,
     "metadata": {},
     "output_type": "execute_result"
    }
   ],
   "source": [
    "# Sanity check\n",
    "data_test = pd.read_csv(\"data/TX_Buyers_Shipment_Location_Data.csv\")\n",
    "data_test.head()"
   ]
  },
  {
   "cell_type": "code",
   "execution_count": 102,
   "metadata": {},
   "outputs": [
    {
     "name": "stdout",
     "output_type": "stream",
     "text": [
      "<class 'pandas.core.frame.DataFrame'>\n",
      "RangeIndex: 12108468 entries, 0 to 12108467\n",
      "Data columns (total 11 columns):\n",
      "REPORTER_NAME       12108468 non-null object\n",
      "REPORTER_ZIP        12108468 non-null int64\n",
      "BUYER_NAME          12108468 non-null object\n",
      "BUYER_ZIP           12108468 non-null int64\n",
      "DRUG_NAME           12108468 non-null object\n",
      "TRANSACTION_DATE    12108468 non-null object\n",
      "DOSAGE_UNIT         12108468 non-null float64\n",
      "REPORTER_LAT        12108468 non-null float64\n",
      "REPORTER_LONG       12108468 non-null float64\n",
      "BUYER_LAT           12108468 non-null float64\n",
      "BUYER_LONG          12108468 non-null float64\n",
      "dtypes: float64(5), int64(2), object(4)\n",
      "memory usage: 1016.2+ MB\n"
     ]
    }
   ],
   "source": [
    "data_test.info(null_counts=True)"
   ]
  }
 ],
 "metadata": {
  "kernelspec": {
   "display_name": "Python 3",
   "language": "python",
   "name": "python3"
  },
  "language_info": {
   "codemirror_mode": {
    "name": "ipython",
    "version": 3
   },
   "file_extension": ".py",
   "mimetype": "text/x-python",
   "name": "python",
   "nbconvert_exporter": "python",
   "pygments_lexer": "ipython3",
   "version": "3.7.3"
  }
 },
 "nbformat": 4,
 "nbformat_minor": 2
}
