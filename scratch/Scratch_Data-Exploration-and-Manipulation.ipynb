{
 "cells": [
  {
   "cell_type": "markdown",
   "metadata": {},
   "source": [
    "# Overview\n",
    "\n",
    "This is a scratch notebook, where I conducted much of my data exploration - finding column data types, creating sub-sets of the data, combining the Texas Department of State Health Services overdose death data, etc."
   ]
  },
  {
   "cell_type": "markdown",
   "metadata": {},
   "source": [
    "## Washington Post Data\n",
    "\n",
    "Source: [Washington Post DEA Database](https://www.washingtonpost.com/graphics/2019/investigations/dea-pain-pill-database/)"
   ]
  },
  {
   "cell_type": "code",
   "execution_count": null,
   "metadata": {},
   "outputs": [],
   "source": [
    "# Imports\n",
    "\n",
    "# Data import and manipulation\n",
    "import pandas as pd\n",
    "# Math\n",
    "import numpy as np\n",
    "# Let's go ahead and seed the notebook, for reproducibility\n",
    "np.random.seed(113)"
   ]
  },
  {
   "cell_type": "code",
   "execution_count": null,
   "metadata": {
    "scrolled": false
   },
   "outputs": [],
   "source": [
    "# After a brief exploration, these are the datatypes per column of the\n",
    "# Washington Post dataset. Making them explicit for speed here\n",
    "# Note this still takes for-ever to load\n",
    "dtypes = {\n",
    "    \"REPORTER_DEA_NO\" : \"object\",\n",
    "    \"REPORTER_BUS_ACT\" : \"object\",\n",
    "    \"REPORTER_NAME\" : \"object\",\n",
    "    \"REPORTER_ADDL_CO_INFO\" : \"object\",\n",
    "    \"REPORTER_ADDRESS1\" : \"object\",\n",
    "    \"REPORTER_ADDRESS2\" : \"object\",\n",
    "    \"REPORTER_CITY\" : \"object\",\n",
    "    \"REPORTER_STATE\" : \"object\",\n",
    "    \"REPORTER_ZIP\" : \"int64\",\n",
    "    \"REPORTER_COUNTY\" : \"object\",\n",
    "    \"BUYER_DEA_NO\" : \"object\",\n",
    "    \"BUYER_BUS_ACT\" : \"object\",\n",
    "    \"BUYER_NAME\" : \"object\",\n",
    "    \"BUYER_ADDL_CO_INFO\" : \"object\",\n",
    "    \"BUYER_ADDRESS1\" : \"object\",\n",
    "    \"BUYER_ADDRESS2\" : \"object\",\n",
    "    \"BUYER_CITY\" : \"object\",\n",
    "    \"BUYER_STATE\" : \"object\",\n",
    "    \"BUYER_ZIP\" : \"int64\",\n",
    "    \"BUYER_COUNTY\" : \"object\",\n",
    "    \"TRANSACTION_CODE\" : \"object\",\n",
    "    \"DRUG_CODE\" : \"int64\",\n",
    "    \"NDC_NO\" : \"object\",\n",
    "    \"DRUG_NAME\" : \"object\",\n",
    "    \"QUANTITY\" : \"float64\",\n",
    "    \"UNIT\" : \"float64\",\n",
    "    \"ACTION_INDICATOR\" : \"object\",\n",
    "    \"ORDER_FORM_NO\" : \"object\",\n",
    "    \"CORRECTION_NO\" :  \"float64\",\n",
    "    \"STRENGTH\" : \"float64\",\n",
    "    \"TRANSACTION_DATE\" : \"int64\",\n",
    "    \"CALC_BASE_WT_IN_GM\" : \"float64\",\n",
    "    \"DOSAGE_UNIT\" : \"float64\",\n",
    "    \"TRANSACTION_ID\" : \"int64\",\n",
    "    \"Product_Name\" : \"object\",\n",
    "    \"Ingredient_Name\" : \"object\",\n",
    "    \"Measure\" : \"object\",\n",
    "    \"MME_Conversion_Factor\" : \"float64\",\n",
    "    \"Combined_Labeler_Name\" : \"object\",\n",
    "#     \"Revised_Company_Name\" : \"object\", # was in original 2019 data\n",
    "    \"Reporter_family\" : \"object\",\n",
    "    \"dos_str\" : \"float64\",\n",
    "    \"MME\" : \"float64\"\n",
    "}\n",
    "wp_data = pd.read_csv(\"../data/arcos-tx-statewide-itemized_downloadedjune9.csv\", dtype=dtypes)"
   ]
  },
  {
   "cell_type": "markdown",
   "metadata": {},
   "source": [
    "#### Checking for most common values, for nulls, etc:"
   ]
  },
  {
   "cell_type": "code",
   "execution_count": null,
   "metadata": {},
   "outputs": [],
   "source": [
    "wp_data.info(null_counts=True)"
   ]
  },
  {
   "cell_type": "code",
   "execution_count": null,
   "metadata": {
    "scrolled": true
   },
   "outputs": [],
   "source": [
    "wp_data[\"BUYER_NAME\"].value_counts().head()"
   ]
  },
  {
   "cell_type": "code",
   "execution_count": null,
   "metadata": {
    "scrolled": false
   },
   "outputs": [],
   "source": [
    "wp_data[\"ACTION_INDICATOR\"].value_counts()"
   ]
  },
  {
   "cell_type": "code",
   "execution_count": null,
   "metadata": {
    "scrolled": true
   },
   "outputs": [],
   "source": [
    "# Let's try to parse through the time stamp on these transactions\n",
    "wp_data[\"TRANSACTION_DATE\"].head(10)"
   ]
  },
  {
   "cell_type": "code",
   "execution_count": null,
   "metadata": {
    "scrolled": true
   },
   "outputs": [],
   "source": [
    "wp_data[\"TRANSACTION_DATE\"].sort_values().head()"
   ]
  },
  {
   "cell_type": "code",
   "execution_count": null,
   "metadata": {},
   "outputs": [],
   "source": [
    "# Can see that we need to fill in preceeding zeros for months with 1 digit, \n",
    "# so each date has 8 digits\n",
    "# First need to turn that column into strings\n",
    "wp_data[\"TRANSACTION_DATE\"] = wp_data[\"TRANSACTION_DATE\"].astype('str')\n",
    "wp_data[\"TRANSACTION_DATE\"] = wp_data[\"TRANSACTION_DATE\"].str.zfill(8)"
   ]
  },
  {
   "cell_type": "code",
   "execution_count": null,
   "metadata": {},
   "outputs": [],
   "source": [
    "# Much better\n",
    "wp_data[\"TRANSACTION_DATE\"].head()"
   ]
  },
  {
   "cell_type": "code",
   "execution_count": null,
   "metadata": {},
   "outputs": [],
   "source": [
    "# Now turning into a datetime object\n",
    "wp_data[\"TRANSACTION_DATE\"] = pd.to_datetime(wp_data[\"TRANSACTION_DATE\"],\n",
    "                                            format='%m%d%Y')"
   ]
  },
  {
   "cell_type": "code",
   "execution_count": null,
   "metadata": {
    "scrolled": false
   },
   "outputs": [],
   "source": [
    "# Success\n",
    "wp_data[\"TRANSACTION_DATE\"].head(10)"
   ]
  },
  {
   "cell_type": "code",
   "execution_count": null,
   "metadata": {},
   "outputs": [],
   "source": [
    "# WP said they found 5,432,109,643 pills supplied to TX between 2006 and 2012\n",
    "# Can see they arrived at that number using the Dosage Unit column\n",
    "wp_data[\"DOSAGE_UNIT\"].sum()"
   ]
  },
  {
   "cell_type": "markdown",
   "metadata": {},
   "source": [
    "#### Creating smaller subsets of the Washington Post dataset:"
   ]
  },
  {
   "cell_type": "code",
   "execution_count": null,
   "metadata": {},
   "outputs": [],
   "source": [
    "subset = wp_data.drop(columns=[\n",
    "    \"REPORTER_DEA_NO\", \"REPORTER_BUS_ACT\", \"REPORTER_ADDL_CO_INFO\",\n",
    "    \"REPORTER_ADDRESS1\", \"REPORTER_ADDRESS2\", \"REPORTER_CITY\",\n",
    "    \"REPORTER_COUNTY\", \"BUYER_DEA_NO\", \"BUYER_ADDL_CO_INFO\", \"DRUG_CODE\",\n",
    "    \"NDC_NO\", \"UNIT\", \"ACTION_INDICATOR\"])"
   ]
  },
  {
   "cell_type": "code",
   "execution_count": null,
   "metadata": {},
   "outputs": [],
   "source": [
    "wp_data.head()"
   ]
  },
  {
   "cell_type": "code",
   "execution_count": null,
   "metadata": {},
   "outputs": [],
   "source": []
  },
  {
   "cell_type": "markdown",
   "metadata": {},
   "source": [
    "## Opioid Overdose Death Data\n",
    "\n",
    "Source: [Texas Department of State Health Services](http://healthdata.dshs.texas.gov/Opioids/Deaths)"
   ]
  },
  {
   "cell_type": "code",
   "execution_count": null,
   "metadata": {},
   "outputs": [],
   "source": [
    "dshs_2006 = pd.read_csv(\"../data/TXDSHS/2006_Commonly-Prescribed-Opioids_Deaths_by_County_data.csv\")\n",
    "dshs_2007 = pd.read_csv(\"../data/TXDSHS/2007_Commonly-Prescribed-Opioids_Deaths_by_County_data.csv\")\n",
    "dshs_2008 = pd.read_csv(\"../data/TXDSHS/2008_Commonly-Prescribed-Opioids_Deaths_by_County_data.csv\")\n",
    "dshs_2009 = pd.read_csv(\"../data/TXDSHS/2009_Commonly-Prescribed-Opioids_Deaths_by_County_data.csv\")\n",
    "dshs_2010 = pd.read_csv(\"../data/TXDSHS/2010_Commonly-Prescribed-Opioids_Deaths_by_County_data.csv\")\n",
    "dshs_2011 = pd.read_csv(\"../data/TXDSHS/2011_Commonly-Prescribed-Opioids_Deaths_by_County_data.csv\")\n",
    "dshs_2012 = pd.read_csv(\"../data/TXDSHS/2012_Commonly-Prescribed-Opioids_Deaths_by_County_data.csv\")"
   ]
  },
  {
   "cell_type": "code",
   "execution_count": null,
   "metadata": {
    "scrolled": false
   },
   "outputs": [],
   "source": [
    "# Note that '---' isn't a null, it indicates the data was surpressed for \n",
    "# privacy purposes, and there were between 1 and 9 deaths \n",
    "dshs_2006.head()"
   ]
  },
  {
   "cell_type": "code",
   "execution_count": null,
   "metadata": {},
   "outputs": [],
   "source": [
    "dshs_2006.shape"
   ]
  },
  {
   "cell_type": "code",
   "execution_count": null,
   "metadata": {},
   "outputs": [],
   "source": [
    "# First, want to prepare these dataframes for a multi-index for modeling\n",
    "# Creating a list of our yearly dataframes\n",
    "dshs_dfs = [dshs_2006, dshs_2007, dshs_2008, dshs_2009, dshs_2010, \n",
    "            dshs_2011, dshs_2012]\n",
    "# Just stacking them, using concat\n",
    "dshs_all = pd.concat(dshs_dfs)"
   ]
  },
  {
   "cell_type": "code",
   "execution_count": null,
   "metadata": {
    "scrolled": true
   },
   "outputs": [],
   "source": [
    "dshs_all.shape"
   ]
  },
  {
   "cell_type": "code",
   "execution_count": null,
   "metadata": {
    "scrolled": true
   },
   "outputs": [],
   "source": [
    "dshs_all.head()"
   ]
  },
  {
   "cell_type": "code",
   "execution_count": null,
   "metadata": {
    "scrolled": true
   },
   "outputs": [],
   "source": [
    "# Now remember those --- are placeholders. The source gives the total number\n",
    "# of deaths per year, so I can arrive at an average to get a good number\n",
    "# to use in place of --- per year\n",
    "# First, let's see how many of these placeholders we have - 626\n",
    "year_placeholders = {}\n",
    "for year in range(2006, 2013):\n",
    "    year_df = dshs_all.loc[dshs_all[\"Year (copy)\"] == year]\n",
    "    placeholders = year_df.loc[year_df[\"Number of Deaths\"] == \"---\"]\n",
    "    year_placeholders[year] = len(placeholders)"
   ]
  },
  {
   "cell_type": "code",
   "execution_count": null,
   "metadata": {},
   "outputs": [],
   "source": [
    "year_placeholders"
   ]
  },
  {
   "cell_type": "code",
   "execution_count": null,
   "metadata": {},
   "outputs": [],
   "source": [
    "# Now, let's find the number of deaths we have in this database\n",
    "dshs_all[\"Number of Deaths\"].replace(to_replace=\"---\", value=0, inplace=True)"
   ]
  },
  {
   "cell_type": "code",
   "execution_count": null,
   "metadata": {},
   "outputs": [],
   "source": [
    "# Need to set the Number of Deaths column as an integer\n",
    "dshs_all[\"Number of Deaths\"] = dshs_all[\"Number of Deaths\"].astype(\"int64\")"
   ]
  },
  {
   "cell_type": "code",
   "execution_count": null,
   "metadata": {},
   "outputs": [],
   "source": [
    "# Creating an empty dictionary, where we'll have each year as the key and \n",
    "# each yearly sum as the value\n",
    "total_deaths = {}\n",
    "for year in range(2006, 2013):\n",
    "    year_df = dshs_all.loc[dshs_all[\"Year (copy)\"] == year]\n",
    "    year_sum = year_df[\"Number of Deaths\"].sum()\n",
    "    total_deaths[year] = year_sum"
   ]
  },
  {
   "cell_type": "code",
   "execution_count": null,
   "metadata": {},
   "outputs": [],
   "source": [
    "total_deaths"
   ]
  },
  {
   "cell_type": "code",
   "execution_count": null,
   "metadata": {},
   "outputs": [],
   "source": [
    "# These actual counts of the total number of opioid overdose deaths in Texas\n",
    "# comes from the DSHS website\n",
    "actual_deaths = {2006: 788, 2007: 767, 2008: 714, 2009: 717, 2010: 748,\n",
    "                2011: 681, 2012: 649}"
   ]
  },
  {
   "cell_type": "code",
   "execution_count": null,
   "metadata": {},
   "outputs": [],
   "source": [
    "# And now, let's find those annual averages for placeholder counties\n",
    "average_placeholder = {}\n",
    "for year in range(2006, 2013):\n",
    "    death_difference = actual_deaths[year] - total_deaths[year]\n",
    "    death_average = death_difference / year_placeholders[year]\n",
    "    average_placeholder[year] = death_average"
   ]
  },
  {
   "cell_type": "code",
   "execution_count": null,
   "metadata": {
    "scrolled": true
   },
   "outputs": [],
   "source": [
    "average_placeholder"
   ]
  },
  {
   "cell_type": "code",
   "execution_count": null,
   "metadata": {
    "scrolled": true
   },
   "outputs": [],
   "source": [
    "# So now we know that, for all the placeholders in our data, 2.5 would be a \n",
    "# reasonable estimate to use in our analysis - so let's replace them\n",
    "# Previously we replaced those --- with zeros, so need a new df to work with\n",
    "dshs_for_csv = pd.concat(dshs_dfs)\n",
    "dshs_for_csv.head()"
   ]
  },
  {
   "cell_type": "code",
   "execution_count": null,
   "metadata": {},
   "outputs": [],
   "source": [
    "dshs_for_csv[\"Number of Deaths\"].replace(to_replace=\"---\", value=\"2.5\", inplace=True)"
   ]
  },
  {
   "cell_type": "code",
   "execution_count": null,
   "metadata": {
    "scrolled": true
   },
   "outputs": [],
   "source": [
    "dshs_for_csv.head()"
   ]
  },
  {
   "cell_type": "code",
   "execution_count": null,
   "metadata": {},
   "outputs": [],
   "source": [
    "# Writing to a csv\n",
    "dshs_for_csv.to_csv(r\"data/TXDSHS/TXDeaths_by_County_Data_NullsRemoved.csv\",\n",
    "                    index=False)"
   ]
  },
  {
   "cell_type": "code",
   "execution_count": null,
   "metadata": {
    "scrolled": false
   },
   "outputs": [],
   "source": [
    "# Sanity check\n",
    "dshs_test = pd.read_csv(\n",
    "    \"data/TXDSHS/TXDeaths_by_County_Data_NullsRemoved.csv\")\n",
    "dshs_test.head()"
   ]
  },
  {
   "cell_type": "markdown",
   "metadata": {},
   "source": [
    "#### Population Data\n",
    "\n",
    "Source: [Texas State Library and Archives Commission](https://www.tsl.texas.gov/ref/abouttx/population.html), which links to the Census data to download.\n",
    "\n",
    "Note that, per year, I am using the July county population estimates - even in years where there was a census conducted. This is for consistency, because if I need to use July estimates in other years I'd prefer to use it each year, not switching to the April 2010 census count and then back to July 2011 estimates (for example). "
   ]
  },
  {
   "cell_type": "code",
   "execution_count": null,
   "metadata": {},
   "outputs": [],
   "source": [
    "# Loading in the data for the 2000-2010 population estimates\n",
    "# Defining column names and skipping some opening rows/footers because excel\n",
    "pop_2000_2010 = pd.read_excel(\"../data/2000-2010_Population_Estimates_TX.xls\",\n",
    "                              names=[\"COUNTY\", \"APR_2000\", \"JUL_2000\", \n",
    "                                     \"JUL_2001\", \"JUL_2002\", \"JUL_2003\", \n",
    "                                     \"JUL_2004\", \"JUL_2005\", \"JUL_2006\", \n",
    "                                     \"JUL_2007\", \"JUL_2008\", \"JUL_2009\", \n",
    "                                     \"APR_2010\", \"JUL_2010\"],\n",
    "                              skiprows=[0, 1, 2, 3], skipfooter=8)"
   ]
  },
  {
   "cell_type": "code",
   "execution_count": null,
   "metadata": {
    "scrolled": true
   },
   "outputs": [],
   "source": [
    "pop_2000_2010.head()"
   ]
  },
  {
   "cell_type": "code",
   "execution_count": null,
   "metadata": {},
   "outputs": [],
   "source": [
    "pop_2000_2010.tail(5)"
   ]
  },
  {
   "cell_type": "code",
   "execution_count": null,
   "metadata": {},
   "outputs": [],
   "source": [
    "pop_2000_2010.info()"
   ]
  },
  {
   "cell_type": "code",
   "execution_count": null,
   "metadata": {},
   "outputs": [],
   "source": [
    "# All of the counties have a period at the beginning\n",
    "# We want them in the format \"ANDERSON\" not \".Anderson County\"\n",
    "\n",
    "# Removing the dot\n",
    "pop_2000_2010[\"COUNTY\"] = [x.strip('.') for x in pop_2000_2010[\"COUNTY\"]]\n",
    "\n",
    "# Removing \" County\"\n",
    "pop_2000_2010[\"COUNTY\"] = pop_2000_2010[\"COUNTY\"].str.split(' County').str[0]\n",
    "\n",
    "# Changing all to uppercase\n",
    "pop_2000_2010[\"COUNTY\"] = pop_2000_2010[\"COUNTY\"].str.upper()"
   ]
  },
  {
   "cell_type": "code",
   "execution_count": null,
   "metadata": {},
   "outputs": [],
   "source": [
    "# Dropping data from before my dataset, because I won't need it\n",
    "# Also dropping 2010, since I'll use the updated and hopefully more accurate\n",
    "# 2010 estimates from the more recent database\n",
    "pop_2006_2009 = pop_2000_2010[[\n",
    "    \"COUNTY\", \"JUL_2006\", \"JUL_2007\", \"JUL_2008\", \"JUL_2009\"]]"
   ]
  },
  {
   "cell_type": "code",
   "execution_count": null,
   "metadata": {
    "scrolled": false
   },
   "outputs": [],
   "source": [
    "# Much better\n",
    "pop_2006_2009.head()"
   ]
  },
  {
   "cell_type": "code",
   "execution_count": null,
   "metadata": {},
   "outputs": [],
   "source": [
    "# Now loading the data for 2010-2018 population estimates\n",
    "pop_2010_2018 = pd.read_csv(\"../data/2010-2018_Population_Estimates_TX.csv\",\n",
    "                            header=1,\n",
    "                            names=[\"EXT_ID\", \"ID\", \"COUNTY\", \"APR_2010_CEN\",\n",
    "                                   \"APR_2010_BASE\", \"JUL_2010\", \"JUL_2011\",\n",
    "                                   \"JUL_2012\", \"JUL_2013\", \"JUL_2014\",\n",
    "                                   \"JUL_2015\", \"JUL_2016\", \"JUL_2017\", \n",
    "                                   \"JUL_2018\"])"
   ]
  },
  {
   "cell_type": "code",
   "execution_count": null,
   "metadata": {
    "scrolled": true
   },
   "outputs": [],
   "source": [
    "pop_2010_2018.head()"
   ]
  },
  {
   "cell_type": "code",
   "execution_count": null,
   "metadata": {},
   "outputs": [],
   "source": [
    "# Again, need to get the counties to be just the uppercase name\n",
    "\n",
    "# Removing \" County\"\n",
    "pop_2010_2018[\"COUNTY\"] = pop_2010_2018[\"COUNTY\"].str.split(' County').str[0]\n",
    "\n",
    "# Changing all to uppercase\n",
    "pop_2010_2018[\"COUNTY\"] = pop_2010_2018[\"COUNTY\"].str.upper()\n",
    "\n",
    "pop_2010_2018.head()"
   ]
  },
  {
   "cell_type": "code",
   "execution_count": null,
   "metadata": {},
   "outputs": [],
   "source": [
    "pop_2010_2012 = pop_2010_2018[[\"COUNTY\", \"JUL_2010\", \"JUL_2011\", \"JUL_2012\"]]"
   ]
  },
  {
   "cell_type": "code",
   "execution_count": null,
   "metadata": {},
   "outputs": [],
   "source": [
    "pop_2010_2012.head()"
   ]
  },
  {
   "cell_type": "code",
   "execution_count": null,
   "metadata": {},
   "outputs": [],
   "source": [
    "# And now, a dataset of all the relevant population data!\n",
    "pop_data = pop_2006_2009.merge(pop_2010_2012, on=\"COUNTY\")\n",
    "# Renaming columns for ease of use, since now they're all July estimates\n",
    "pop_data.rename(columns={\"JUL_2006\": 2006, \"JUL_2007\": 2007,\n",
    "                         \"JUL_2008\": 2008, \"JUL_2009\": 2009,\n",
    "                         \"JUL_2010\": 2010, \"JUL_2011\": 2011,\n",
    "                         \"JUL_2012\": 2012}, inplace=True)\n",
    "pop_data.head()"
   ]
  },
  {
   "cell_type": "markdown",
   "metadata": {},
   "source": [
    "#### Combining to arrive at a opioid death per capita figure, then deaths per 100k of population"
   ]
  },
  {
   "cell_type": "code",
   "execution_count": null,
   "metadata": {
    "scrolled": false
   },
   "outputs": [],
   "source": [
    "dshs_for_csv.head()"
   ]
  },
  {
   "cell_type": "code",
   "execution_count": null,
   "metadata": {
    "scrolled": false
   },
   "outputs": [],
   "source": [
    "# Some quick cleaning\n",
    "dshs_clean = dshs_for_csv.copy()\n",
    "# Only keeping the columns we want\n",
    "dshs_clean.drop(columns=[\"Type of Death1\", \"Latitude (generated)\", \n",
    "                         \"Longitude (generated)\"], inplace=True)\n",
    "# Renaming the columns\n",
    "dshs_clean.rename(columns={\"County Name\": \"COUNTY\",\n",
    "                           \"Number of Deaths\": \"NUM_DEATHS\", \n",
    "                           \"Year (copy)\": \"YEAR\"}, inplace=True)\n",
    "# Making all the county names uppercase\n",
    "dshs_clean[\"COUNTY\"] = dshs_clean[\"COUNTY\"].str.upper()\n",
    "# Making sure the values in the Number of Deaths column are floats\n",
    "dshs_clean[\"NUM_DEATHS\"] = dshs_clean[\"NUM_DEATHS\"].astype(\"float\")\n",
    "\n",
    "dshs_clean.head()"
   ]
  },
  {
   "cell_type": "code",
   "execution_count": null,
   "metadata": {},
   "outputs": [],
   "source": [
    "# Pivoting the table to make the columns each year\n",
    "dshs_pivot = pd.pivot_table(dshs_clean, index=\"COUNTY\",\n",
    "                          columns=\"YEAR\",\n",
    "                          values=\"NUM_DEATHS\")"
   ]
  },
  {
   "cell_type": "code",
   "execution_count": null,
   "metadata": {},
   "outputs": [],
   "source": [
    "# Removing a weird index name, leftover from the pivot\n",
    "dshs_pivot.rename_axis(None, axis=1, inplace=True)"
   ]
  },
  {
   "cell_type": "code",
   "execution_count": null,
   "metadata": {
    "scrolled": false
   },
   "outputs": [],
   "source": [
    "# Hooray, now it looks just like our population data table\n",
    "dshs_pivot.head()"
   ]
  },
  {
   "cell_type": "code",
   "execution_count": null,
   "metadata": {
    "scrolled": false
   },
   "outputs": [],
   "source": [
    "pop_data.set_index(\"COUNTY\", inplace=True)\n",
    "pop_data.head()"
   ]
  },
  {
   "cell_type": "code",
   "execution_count": null,
   "metadata": {
    "scrolled": true
   },
   "outputs": [],
   "source": [
    "pop_data.loc[pop_data.index == \"TERRELL\"]"
   ]
  },
  {
   "cell_type": "code",
   "execution_count": null,
   "metadata": {},
   "outputs": [],
   "source": [
    "dshs_pivot.loc[dshs_pivot.index == \"TERRELL\"]"
   ]
  },
  {
   "cell_type": "code",
   "execution_count": null,
   "metadata": {},
   "outputs": [],
   "source": [
    "deaths_percapita = dshs_pivot / pop_data"
   ]
  },
  {
   "cell_type": "code",
   "execution_count": null,
   "metadata": {
    "scrolled": true
   },
   "outputs": [],
   "source": [
    "deaths_percapita.describe()"
   ]
  },
  {
   "cell_type": "code",
   "execution_count": null,
   "metadata": {},
   "outputs": [],
   "source": [
    "pop_100k = pop_data / 100000"
   ]
  },
  {
   "cell_type": "code",
   "execution_count": null,
   "metadata": {},
   "outputs": [],
   "source": [
    "deaths_per100k = dshs_pivot / pop_100k"
   ]
  },
  {
   "cell_type": "code",
   "execution_count": null,
   "metadata": {
    "scrolled": false
   },
   "outputs": [],
   "source": [
    "deaths_per100k.describe()"
   ]
  },
  {
   "cell_type": "code",
   "execution_count": null,
   "metadata": {
    "scrolled": false
   },
   "outputs": [],
   "source": [
    "deaths_per100k[2007].sort_values(ascending=False).head()"
   ]
  },
  {
   "cell_type": "code",
   "execution_count": null,
   "metadata": {},
   "outputs": [],
   "source": [
    "wp_data.info()"
   ]
  },
  {
   "cell_type": "code",
   "execution_count": null,
   "metadata": {},
   "outputs": [],
   "source": [
    "pills = wp_data[[\"BUYER_COUNTY\", \"TRANSACTION_DATE\", \"DOSAGE_UNIT\"]].copy()"
   ]
  },
  {
   "cell_type": "code",
   "execution_count": null,
   "metadata": {},
   "outputs": [],
   "source": [
    "pills.head()"
   ]
  },
  {
   "cell_type": "code",
   "execution_count": null,
   "metadata": {},
   "outputs": [],
   "source": [
    "pills[\"YEAR\"] = pills[\"TRANSACTION_DATE\"].dt.year"
   ]
  },
  {
   "cell_type": "code",
   "execution_count": null,
   "metadata": {},
   "outputs": [],
   "source": [
    "pills.drop(columns=\"TRANSACTION_DATE\", inplace=True)\n",
    "pills.rename(columns={\"BUYER_COUNTY\": \"COUNTY\"}, inplace=True)"
   ]
  },
  {
   "cell_type": "code",
   "execution_count": null,
   "metadata": {
    "scrolled": false
   },
   "outputs": [],
   "source": [
    "pills.head()"
   ]
  },
  {
   "cell_type": "code",
   "execution_count": null,
   "metadata": {
    "scrolled": false
   },
   "outputs": [],
   "source": [
    "# Alas, one specific county has a space in this dataframe, while all the \n",
    "# other datasets I have spell it without a space - let's fix that\n",
    "pills[\"COUNTY\"].replace(to_replace=\"DE WITT\", value=\"DEWITT\", inplace=True)"
   ]
  },
  {
   "cell_type": "code",
   "execution_count": null,
   "metadata": {},
   "outputs": [],
   "source": [
    "# Pivoting the table to make the columns each year\n",
    "pills_pivot = pd.pivot_table(pills, index=\"COUNTY\", columns=\"YEAR\",\n",
    "                             values=\"DOSAGE_UNIT\", aggfunc=\"sum\")"
   ]
  },
  {
   "cell_type": "code",
   "execution_count": null,
   "metadata": {
    "scrolled": true
   },
   "outputs": [],
   "source": [
    "pills_pivot = pills_pivot.reindex_like(pop_data)"
   ]
  },
  {
   "cell_type": "code",
   "execution_count": null,
   "metadata": {},
   "outputs": [],
   "source": [
    "# Filling nulls, when no pills were sent to that county\n",
    "pills_pivot.fillna(0, inplace=True)\n",
    "# Removing a weird index name, leftover from the pivot\n",
    "pills_pivot.rename_axis(None, axis=1, inplace=True)"
   ]
  },
  {
   "cell_type": "code",
   "execution_count": null,
   "metadata": {
    "scrolled": true
   },
   "outputs": [],
   "source": [
    "pills_pivot.head()"
   ]
  },
  {
   "cell_type": "code",
   "execution_count": null,
   "metadata": {},
   "outputs": [],
   "source": [
    "pills_percapita = pills_pivot / pop_data"
   ]
  },
  {
   "cell_type": "code",
   "execution_count": null,
   "metadata": {
    "scrolled": false
   },
   "outputs": [],
   "source": [
    "pills_percapita.describe()"
   ]
  },
  {
   "cell_type": "code",
   "execution_count": null,
   "metadata": {
    "scrolled": true
   },
   "outputs": [],
   "source": [
    "pills_percapita.head()"
   ]
  },
  {
   "cell_type": "code",
   "execution_count": null,
   "metadata": {},
   "outputs": [],
   "source": [
    "pills_percapita.shape"
   ]
  },
  {
   "cell_type": "markdown",
   "metadata": {},
   "source": [
    "## Visualizing"
   ]
  },
  {
   "cell_type": "code",
   "execution_count": null,
   "metadata": {},
   "outputs": [],
   "source": [
    "# Need county identification numbers, which are Federal Information Processing\n",
    "# Standard codes - which, luckily, were a part of one of the population csvs\n",
    "county_id = {}\n",
    "for obs in pop_2010_2018.index:\n",
    "    county_id[pop_2010_2018[\"COUNTY\"][obs]] = pop_2010_2018[\"ID\"][obs]"
   ]
  },
  {
   "cell_type": "code",
   "execution_count": null,
   "metadata": {},
   "outputs": [],
   "source": [
    "# Creating a new column for the County IDs\n",
    "pills_percapita[\"COUNTY_ID\"] = county_id.values()"
   ]
  },
  {
   "cell_type": "code",
   "execution_count": null,
   "metadata": {},
   "outputs": [],
   "source": [
    "pills_percapita.head()"
   ]
  },
  {
   "cell_type": "code",
   "execution_count": null,
   "metadata": {
    "scrolled": true
   },
   "outputs": [],
   "source": [
    "pills_percapita.describe()"
   ]
  },
  {
   "cell_type": "code",
   "execution_count": null,
   "metadata": {},
   "outputs": [],
   "source": [
    "pills_percapita.reset_index(inplace=True)"
   ]
  },
  {
   "cell_type": "code",
   "execution_count": null,
   "metadata": {},
   "outputs": [],
   "source": [
    "pills_percapita.head()"
   ]
  },
  {
   "cell_type": "markdown",
   "metadata": {},
   "source": [
    "## Creating a Better Dataframe to Export"
   ]
  },
  {
   "cell_type": "code",
   "execution_count": null,
   "metadata": {},
   "outputs": [],
   "source": [
    "pills_pivot.reset_index(inplace=True)"
   ]
  },
  {
   "cell_type": "code",
   "execution_count": null,
   "metadata": {
    "scrolled": false
   },
   "outputs": [],
   "source": [
    "pills_pivot.head()"
   ]
  },
  {
   "cell_type": "code",
   "execution_count": null,
   "metadata": {},
   "outputs": [],
   "source": [
    "pills_total_melted = pd.melt(pills_pivot, id_vars=[\"COUNTY\"],\n",
    "                           var_name=\"YEAR\", value_name=\"TOTAL_PILLS\")"
   ]
  },
  {
   "cell_type": "code",
   "execution_count": null,
   "metadata": {},
   "outputs": [],
   "source": [
    "pills_total_melted.head()"
   ]
  },
  {
   "cell_type": "code",
   "execution_count": null,
   "metadata": {
    "scrolled": true
   },
   "outputs": [],
   "source": [
    "pop_data.head()"
   ]
  },
  {
   "cell_type": "code",
   "execution_count": null,
   "metadata": {},
   "outputs": [],
   "source": [
    "pop_data.reset_index(inplace=True)\n",
    "pop_melted = pd.melt(pop_data, id_vars=[\"COUNTY\"],\n",
    "                     var_name=\"YEAR\", value_name=\"TOTAL_POPULATION\")"
   ]
  },
  {
   "cell_type": "code",
   "execution_count": null,
   "metadata": {
    "scrolled": true
   },
   "outputs": [],
   "source": [
    "pop_melted.head()"
   ]
  },
  {
   "cell_type": "code",
   "execution_count": null,
   "metadata": {
    "scrolled": true
   },
   "outputs": [],
   "source": [
    "pills_percapita.head()"
   ]
  },
  {
   "cell_type": "code",
   "execution_count": null,
   "metadata": {},
   "outputs": [],
   "source": [
    "pills_pc_melted = pd.melt(pills_percapita, id_vars=[\"COUNTY\", \"COUNTY_ID\"],\n",
    "                          var_name=\"YEAR\", value_name=\"PILLS_PC\")"
   ]
  },
  {
   "cell_type": "code",
   "execution_count": null,
   "metadata": {
    "scrolled": true
   },
   "outputs": [],
   "source": [
    "pills_pc_melted.head()"
   ]
  },
  {
   "cell_type": "code",
   "execution_count": null,
   "metadata": {
    "scrolled": true
   },
   "outputs": [],
   "source": [
    "dshs_pivot.head()"
   ]
  },
  {
   "cell_type": "code",
   "execution_count": null,
   "metadata": {},
   "outputs": [],
   "source": [
    "dshs_pivot.reset_index(inplace=True)\n",
    "deaths_melted = pd.melt(dshs_pivot, id_vars=\"COUNTY\",\n",
    "                        var_name=\"YEAR\", value_name=\"TOTAL_DEATHS\")"
   ]
  },
  {
   "cell_type": "code",
   "execution_count": null,
   "metadata": {},
   "outputs": [],
   "source": [
    "deaths_melted.head()"
   ]
  },
  {
   "cell_type": "code",
   "execution_count": null,
   "metadata": {},
   "outputs": [],
   "source": [
    "deaths_percapita.reset_index(inplace=True)"
   ]
  },
  {
   "cell_type": "code",
   "execution_count": null,
   "metadata": {
    "scrolled": true
   },
   "outputs": [],
   "source": [
    "deaths_percapita.head()"
   ]
  },
  {
   "cell_type": "code",
   "execution_count": null,
   "metadata": {},
   "outputs": [],
   "source": [
    "deaths_pc_melted = pd.melt(deaths_percapita, id_vars=[\"COUNTY\"],\n",
    "                           var_name=\"YEAR\", value_name=\"DEATHS_PC\")"
   ]
  },
  {
   "cell_type": "code",
   "execution_count": null,
   "metadata": {},
   "outputs": [],
   "source": [
    "deaths_pc_melted.head()"
   ]
  },
  {
   "cell_type": "code",
   "execution_count": null,
   "metadata": {
    "scrolled": true
   },
   "outputs": [],
   "source": [
    "deaths_per100k.head()"
   ]
  },
  {
   "cell_type": "code",
   "execution_count": null,
   "metadata": {},
   "outputs": [],
   "source": [
    "deaths_per100k.reset_index(inplace=True)\n",
    "deaths_p100k_melted = pd.melt(deaths_per100k, id_vars=[\"COUNTY\"],\n",
    "                              var_name=\"YEAR\", value_name=\"DEATHS_PER_100K\")"
   ]
  },
  {
   "cell_type": "code",
   "execution_count": null,
   "metadata": {},
   "outputs": [],
   "source": [
    "deaths_p100k_melted.head()"
   ]
  },
  {
   "cell_type": "code",
   "execution_count": null,
   "metadata": {
    "scrolled": false
   },
   "outputs": [],
   "source": [
    "pop_melted.shape"
   ]
  },
  {
   "cell_type": "code",
   "execution_count": null,
   "metadata": {},
   "outputs": [],
   "source": [
    "pills_total_melted.shape"
   ]
  },
  {
   "cell_type": "code",
   "execution_count": null,
   "metadata": {},
   "outputs": [],
   "source": [
    "pills_pc_melted.shape"
   ]
  },
  {
   "cell_type": "code",
   "execution_count": null,
   "metadata": {},
   "outputs": [],
   "source": [
    "deaths_melted.shape"
   ]
  },
  {
   "cell_type": "code",
   "execution_count": null,
   "metadata": {
    "scrolled": true
   },
   "outputs": [],
   "source": [
    "deaths_pc_melted.shape"
   ]
  },
  {
   "cell_type": "code",
   "execution_count": null,
   "metadata": {},
   "outputs": [],
   "source": [
    "deaths_p100k_melted.shape"
   ]
  },
  {
   "cell_type": "code",
   "execution_count": null,
   "metadata": {
    "scrolled": true
   },
   "outputs": [],
   "source": [
    "county_data = pills_pc_melted[[\"COUNTY\", \"COUNTY_ID\", \"YEAR\"]].copy()\n",
    "county_data.head()"
   ]
  },
  {
   "cell_type": "code",
   "execution_count": null,
   "metadata": {},
   "outputs": [],
   "source": [
    "county_data[\"TOTAL_POPULATION\"] = pop_melted[\"TOTAL_POPULATION\"]\n",
    "county_data[\"TOTAL_PILLS\"] = pills_total_melted[\"TOTAL_PILLS\"]\n",
    "county_data[\"PILLS_PER_CAPITA\"] = pills_pc_melted[\"PILLS_PC\"]\n",
    "county_data[\"TOTAL_OVERDOSE_DEATHS\"] = deaths_melted[\"TOTAL_DEATHS\"]\n",
    "county_data[\"DEATHS_PER_CAPITA\"] = deaths_pc_melted[\"DEATHS_PC\"]\n",
    "county_data[\"DEATHS_PER_100K_PEOPLE\"] = deaths_p100k_melted[\"DEATHS_PER_100K\"]"
   ]
  },
  {
   "cell_type": "code",
   "execution_count": null,
   "metadata": {
    "scrolled": true
   },
   "outputs": [],
   "source": [
    "county_data.head()"
   ]
  },
  {
   "cell_type": "markdown",
   "metadata": {},
   "source": [
    "## MORE DATA - Opioid Prescription Rates\n",
    "\n",
    "From the [CDC's U.S. Opioid Prescribing Rate Maps](https://www.cdc.gov/drugoverdose/maps/rxrate-maps.html), which tracks retail opioid prescriptions dispensed per 100 persons per year.\n",
    "\n",
    "My data is available as a [Google sheet](https://docs.google.com/spreadsheets/d/1fJWN3LYSLfiX_vkp4ONo0-dSyhKYmGvoYbmBOrp3PUk/edit?usp=sharing), after copy/pasting from the above source."
   ]
  },
  {
   "cell_type": "code",
   "execution_count": null,
   "metadata": {},
   "outputs": [],
   "source": [
    "prescribe_rate = pd.read_csv(\"../data/TexasCountyOpioidPrescribingRates(per100people)-From CDC.csv\")"
   ]
  },
  {
   "cell_type": "code",
   "execution_count": null,
   "metadata": {},
   "outputs": [],
   "source": [
    "prescribe_rate.rename(columns={\"County\": \"COUNTY\", \n",
    "                               \"Prescribing Rate\": \"PRESCRIBE_RATE\", \n",
    "                               \"Year\": \"YEAR\"}, inplace=True)\n",
    "prescribe_rate[\"COUNTY\"] = prescribe_rate[\"COUNTY\"].str.upper()"
   ]
  },
  {
   "cell_type": "code",
   "execution_count": null,
   "metadata": {
    "scrolled": false
   },
   "outputs": [],
   "source": [
    "prescribe_rate.head()"
   ]
  },
  {
   "cell_type": "code",
   "execution_count": null,
   "metadata": {
    "scrolled": true
   },
   "outputs": [],
   "source": [
    "prescribe_rate.info()"
   ]
  },
  {
   "cell_type": "code",
   "execution_count": null,
   "metadata": {},
   "outputs": [],
   "source": [
    "prescribe_rate.sort_values(by=[\"YEAR\", \"COUNTY\"], inplace=True)"
   ]
  },
  {
   "cell_type": "code",
   "execution_count": null,
   "metadata": {},
   "outputs": [],
   "source": [
    "prescribe_rate.reset_index(drop=True, inplace=True)"
   ]
  },
  {
   "cell_type": "code",
   "execution_count": null,
   "metadata": {},
   "outputs": [],
   "source": [
    "prescribe_rate.head()"
   ]
  },
  {
   "cell_type": "markdown",
   "metadata": {},
   "source": [
    "## And now, Unemployment Rates\n",
    "\n",
    "From the [Bureau of Labor Statistics](https://data.bls.gov/lausmap/showMap.jsp)\n",
    "\n",
    "My data is available in a [Google sheet](https://docs.google.com/spreadsheets/d/1BVljj8YRMTuZMQSyuwyd2LP2Y71-q-ryJSmkHgIgUbc/edit?usp=sharing), after copy/pasting from the above source."
   ]
  },
  {
   "cell_type": "code",
   "execution_count": null,
   "metadata": {},
   "outputs": [],
   "source": [
    "bls_data = pd.read_csv(\"../data/TexasCountyUnemploymentData-FromBLS.csv\")"
   ]
  },
  {
   "cell_type": "code",
   "execution_count": null,
   "metadata": {},
   "outputs": [],
   "source": [
    "bls_data.rename(columns={\"County\": \"COUNTY\", \"July\\n2006\": \"2006\",\n",
    "                         \"July\\n2007\": \"2007\", \"July\\n2008\": \"2008\",\n",
    "                         \"July\\n2009\": \"2009\", \"July\\n2010\": \"2010\",\n",
    "                         \"July\\n2011\": \"2011\", \"July\\n2012\": \"2012\"}, \n",
    "                inplace=True)\n",
    "bls_data[\"COUNTY\"] = bls_data[\"COUNTY\"].str.upper()"
   ]
  },
  {
   "cell_type": "code",
   "execution_count": null,
   "metadata": {},
   "outputs": [],
   "source": [
    "bls_data[\"COUNTY\"] = bls_data[\"COUNTY\"].str.split(' COUNTY').str[0]"
   ]
  },
  {
   "cell_type": "code",
   "execution_count": null,
   "metadata": {},
   "outputs": [],
   "source": [
    "bls_data.head()"
   ]
  },
  {
   "cell_type": "code",
   "execution_count": null,
   "metadata": {},
   "outputs": [],
   "source": [
    "bls_data_melted = pd.melt(bls_data, id_vars=[\"COUNTY\"],\n",
    "                          var_name=\"YEAR\", value_name=\"UNEMPLOYMENT\")"
   ]
  },
  {
   "cell_type": "code",
   "execution_count": null,
   "metadata": {
    "scrolled": true
   },
   "outputs": [],
   "source": [
    "bls_data_melted.head()"
   ]
  },
  {
   "cell_type": "code",
   "execution_count": null,
   "metadata": {},
   "outputs": [],
   "source": [
    "county_data.head()"
   ]
  },
  {
   "cell_type": "code",
   "execution_count": null,
   "metadata": {},
   "outputs": [],
   "source": [
    "county_data[\"PRESCRIPTION_RATE\"] = prescribe_rate[\"PRESCRIBE_RATE\"]\n",
    "county_data[\"UNEMPLOYMENT\"] = bls_data_melted[\"UNEMPLOYMENT\"]"
   ]
  },
  {
   "cell_type": "code",
   "execution_count": null,
   "metadata": {},
   "outputs": [],
   "source": [
    "county_data.head()"
   ]
  },
  {
   "cell_type": "code",
   "execution_count": null,
   "metadata": {},
   "outputs": [],
   "source": [
    "# Writing to CSV\n",
    "# county_data.to_csv(r\"../data/TX_County_By_Year.csv\", index=False)"
   ]
  },
  {
   "cell_type": "code",
   "execution_count": null,
   "metadata": {},
   "outputs": [],
   "source": [
    "# Sanity check\n",
    "county_test = pd.read_csv(\"../data/TX_County_By_Year.csv\")"
   ]
  },
  {
   "cell_type": "code",
   "execution_count": null,
   "metadata": {},
   "outputs": [],
   "source": [
    "county_test.head()"
   ]
  },
  {
   "cell_type": "code",
   "execution_count": null,
   "metadata": {},
   "outputs": [],
   "source": []
  }
 ],
 "metadata": {
  "kernelspec": {
   "display_name": "Python 3",
   "language": "python",
   "name": "python3"
  },
  "language_info": {
   "codemirror_mode": {
    "name": "ipython",
    "version": 3
   },
   "file_extension": ".py",
   "mimetype": "text/x-python",
   "name": "python",
   "nbconvert_exporter": "python",
   "pygments_lexer": "ipython3",
   "version": "3.6.9"
  }
 },
 "nbformat": 4,
 "nbformat_minor": 2
}
