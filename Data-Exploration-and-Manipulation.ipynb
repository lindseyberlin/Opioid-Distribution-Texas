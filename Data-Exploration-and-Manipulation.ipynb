{
 "cells": [
  {
   "cell_type": "markdown",
   "metadata": {},
   "source": [
    "# Overview\n",
    "\n",
    "This is a scratch notebook, where I conducted much of my data exploration - finding column data types, creating sub-sets of the data, combining the Texas Department of State Health Services overdose death data, etc."
   ]
  },
  {
   "cell_type": "code",
   "execution_count": 1,
   "metadata": {},
   "outputs": [],
   "source": [
    "# Imports\n",
    "import pandas as pd"
   ]
  },
  {
   "cell_type": "code",
   "execution_count": 2,
   "metadata": {
    "scrolled": false
   },
   "outputs": [],
   "source": [
    "# After a brief exploration, these are the datatypes per column of the\n",
    "# Washington Post dataset. Making them explicit for speed here\n",
    "dtypes = {\n",
    "    \"REPORTER_DEA_NO\" : \"object\",\n",
    "    \"REPORTER_BUS_ACT\" : \"object\",\n",
    "    \"REPORTER_NAME\" : \"object\",\n",
    "    \"REPORTER_ADDL_CO_INFO\" : \"object\",\n",
    "    \"REPORTER_ADDRESS1\" : \"object\",\n",
    "    \"REPORTER_ADDRESS2\" : \"object\",\n",
    "    \"REPORTER_CITY\" : \"object\",\n",
    "    \"REPORTER_STATE\" : \"object\",\n",
    "    \"REPORTER_ZIP\" : \"int64\",\n",
    "    \"REPORTER_COUNTY\" : \"object\",\n",
    "    \"BUYER_DEA_NO\" : \"object\",\n",
    "    \"BUYER_BUS_ACT\" : \"object\",\n",
    "    \"BUYER_NAME\" : \"object\",\n",
    "    \"BUYER_ADDL_CO_INFO\" : \"object\",\n",
    "    \"BUYER_ADDRESS1\" : \"object\",\n",
    "    \"BUYER_ADDRESS2\" : \"object\",\n",
    "    \"BUYER_CITY\" : \"object\",\n",
    "    \"BUYER_STATE\" : \"object\",\n",
    "    \"BUYER_ZIP\" : \"int64\",\n",
    "    \"BUYER_COUNTY\" : \"object\",\n",
    "    \"TRANSACTION_CODE\" : \"object\",\n",
    "    \"DRUG_CODE\" : \"int64\",\n",
    "    \"NDC_NO\" : \"object\",\n",
    "    \"DRUG_NAME\" : \"object\",\n",
    "    \"QUANTITY\" : \"float64\",\n",
    "    \"UNIT\" : \"float64\",\n",
    "    \"ACTION_INDICATOR\" : \"object\",\n",
    "    \"ORDER_FORM_NO\" : \"object\",\n",
    "    \"CORRECTION_NO\" :  \"float64\",\n",
    "    \"STRENGTH\" : \"float64\",\n",
    "    \"TRANSACTION_DATE\" : \"int64\",\n",
    "    \"CALC_BASE_WT_IN_GM\" : \"float64\",\n",
    "    \"DOSAGE_UNIT\" : \"float64\",\n",
    "    \"TRANSACTION_ID\" : \"int64\",\n",
    "    \"Product_Name\" : \"object\",\n",
    "    \"Ingredient_Name\" : \"object\",\n",
    "    \"Measure\" : \"object\",\n",
    "    \"MME_Conversion_Factor\" : \"float64\",\n",
    "    \"Combined_Labeler_Name\" : \"object\",\n",
    "    \"Revised_Company_Name\" : \"object\",\n",
    "    \"Reporter_family\" : \"object\",\n",
    "    \"dos_str\" : \"float64\"\n",
    "}\n",
    "wp_data = pd.read_csv(\"data/arcos-tx-statewide-itemized.tsv\", sep='\\t', dtype=dtypes)"
   ]
  },
  {
   "cell_type": "code",
   "execution_count": 4,
   "metadata": {
    "scrolled": false
   },
   "outputs": [
    {
     "data": {
      "text/html": [
       "<div>\n",
       "<style scoped>\n",
       "    .dataframe tbody tr th:only-of-type {\n",
       "        vertical-align: middle;\n",
       "    }\n",
       "\n",
       "    .dataframe tbody tr th {\n",
       "        vertical-align: top;\n",
       "    }\n",
       "\n",
       "    .dataframe thead th {\n",
       "        text-align: right;\n",
       "    }\n",
       "</style>\n",
       "<table border=\"1\" class=\"dataframe\">\n",
       "  <thead>\n",
       "    <tr style=\"text-align: right;\">\n",
       "      <th></th>\n",
       "      <th>REPORTER_DEA_NO</th>\n",
       "      <th>REPORTER_BUS_ACT</th>\n",
       "      <th>REPORTER_NAME</th>\n",
       "      <th>REPORTER_ADDL_CO_INFO</th>\n",
       "      <th>REPORTER_ADDRESS1</th>\n",
       "      <th>REPORTER_ADDRESS2</th>\n",
       "      <th>REPORTER_CITY</th>\n",
       "      <th>REPORTER_STATE</th>\n",
       "      <th>REPORTER_ZIP</th>\n",
       "      <th>REPORTER_COUNTY</th>\n",
       "      <th>...</th>\n",
       "      <th>DOSAGE_UNIT</th>\n",
       "      <th>TRANSACTION_ID</th>\n",
       "      <th>Product_Name</th>\n",
       "      <th>Ingredient_Name</th>\n",
       "      <th>Measure</th>\n",
       "      <th>MME_Conversion_Factor</th>\n",
       "      <th>Combined_Labeler_Name</th>\n",
       "      <th>Revised_Company_Name</th>\n",
       "      <th>Reporter_family</th>\n",
       "      <th>dos_str</th>\n",
       "    </tr>\n",
       "  </thead>\n",
       "  <tbody>\n",
       "    <tr>\n",
       "      <th>0</th>\n",
       "      <td>PB0034861</td>\n",
       "      <td>DISTRIBUTOR</td>\n",
       "      <td>BELLCO DRUG CORP</td>\n",
       "      <td>NaN</td>\n",
       "      <td>5500 NEW HORIZONS BLVD</td>\n",
       "      <td>NaN</td>\n",
       "      <td>NORTH AMITYVILLE</td>\n",
       "      <td>NY</td>\n",
       "      <td>11701</td>\n",
       "      <td>SUFFOLK</td>\n",
       "      <td>...</td>\n",
       "      <td>500.0</td>\n",
       "      <td>3156</td>\n",
       "      <td>HYDROCODONE BIT 5MG/ACETAMINOPHEN 50</td>\n",
       "      <td>HYDROCODONE BITARTRATE HEMIPENTAHYDRATE</td>\n",
       "      <td>TAB</td>\n",
       "      <td>1.0</td>\n",
       "      <td>Actavis Pharma, Inc.</td>\n",
       "      <td>Allergan, Inc.</td>\n",
       "      <td>Bellco Drug Corp</td>\n",
       "      <td>5.0</td>\n",
       "    </tr>\n",
       "    <tr>\n",
       "      <th>1</th>\n",
       "      <td>PB0034861</td>\n",
       "      <td>DISTRIBUTOR</td>\n",
       "      <td>BELLCO DRUG CORP</td>\n",
       "      <td>NaN</td>\n",
       "      <td>5500 NEW HORIZONS BLVD</td>\n",
       "      <td>NaN</td>\n",
       "      <td>NORTH AMITYVILLE</td>\n",
       "      <td>NY</td>\n",
       "      <td>11701</td>\n",
       "      <td>SUFFOLK</td>\n",
       "      <td>...</td>\n",
       "      <td>500.0</td>\n",
       "      <td>617</td>\n",
       "      <td>HYDROCODONE BIT 5MG/ACETAMINOPHEN 50</td>\n",
       "      <td>HYDROCODONE BITARTRATE HEMIPENTAHYDRATE</td>\n",
       "      <td>TAB</td>\n",
       "      <td>1.0</td>\n",
       "      <td>Actavis Pharma, Inc.</td>\n",
       "      <td>Allergan, Inc.</td>\n",
       "      <td>Bellco Drug Corp</td>\n",
       "      <td>5.0</td>\n",
       "    </tr>\n",
       "    <tr>\n",
       "      <th>2</th>\n",
       "      <td>PB0034861</td>\n",
       "      <td>DISTRIBUTOR</td>\n",
       "      <td>BELLCO DRUG CORP</td>\n",
       "      <td>NaN</td>\n",
       "      <td>5500 NEW HORIZONS BLVD</td>\n",
       "      <td>NaN</td>\n",
       "      <td>NORTH AMITYVILLE</td>\n",
       "      <td>NY</td>\n",
       "      <td>11701</td>\n",
       "      <td>SUFFOLK</td>\n",
       "      <td>...</td>\n",
       "      <td>400.0</td>\n",
       "      <td>671</td>\n",
       "      <td>HYDROCODONE.BIT./ACET.,10MG &amp; 325MG/</td>\n",
       "      <td>HYDROCODONE BITARTRATE HEMIPENTAHYDRATE</td>\n",
       "      <td>TAB</td>\n",
       "      <td>1.0</td>\n",
       "      <td>Par Pharmaceutical</td>\n",
       "      <td>Endo Pharmaceuticals, Inc.</td>\n",
       "      <td>Bellco Drug Corp</td>\n",
       "      <td>10.0</td>\n",
       "    </tr>\n",
       "    <tr>\n",
       "      <th>3</th>\n",
       "      <td>PB0034861</td>\n",
       "      <td>DISTRIBUTOR</td>\n",
       "      <td>BELLCO DRUG CORP</td>\n",
       "      <td>NaN</td>\n",
       "      <td>5500 NEW HORIZONS BLVD</td>\n",
       "      <td>NaN</td>\n",
       "      <td>NORTH AMITYVILLE</td>\n",
       "      <td>NY</td>\n",
       "      <td>11701</td>\n",
       "      <td>SUFFOLK</td>\n",
       "      <td>...</td>\n",
       "      <td>100.0</td>\n",
       "      <td>1300</td>\n",
       "      <td>HYDROCODONE.BIT./ACET.,10MG &amp; 325MG/</td>\n",
       "      <td>HYDROCODONE BITARTRATE HEMIPENTAHYDRATE</td>\n",
       "      <td>TAB</td>\n",
       "      <td>1.0</td>\n",
       "      <td>Par Pharmaceutical</td>\n",
       "      <td>Endo Pharmaceuticals, Inc.</td>\n",
       "      <td>Bellco Drug Corp</td>\n",
       "      <td>10.0</td>\n",
       "    </tr>\n",
       "    <tr>\n",
       "      <th>4</th>\n",
       "      <td>PB0034861</td>\n",
       "      <td>DISTRIBUTOR</td>\n",
       "      <td>BELLCO DRUG CORP</td>\n",
       "      <td>NaN</td>\n",
       "      <td>5500 NEW HORIZONS BLVD</td>\n",
       "      <td>NaN</td>\n",
       "      <td>NORTH AMITYVILLE</td>\n",
       "      <td>NY</td>\n",
       "      <td>11701</td>\n",
       "      <td>SUFFOLK</td>\n",
       "      <td>...</td>\n",
       "      <td>100.0</td>\n",
       "      <td>4521</td>\n",
       "      <td>HYDROCODONE BIT. 10MG/ACETAMINOPHEN</td>\n",
       "      <td>HYDROCODONE BITARTRATE HEMIPENTAHYDRATE</td>\n",
       "      <td>TAB</td>\n",
       "      <td>1.0</td>\n",
       "      <td>Actavis Pharma, Inc.</td>\n",
       "      <td>Allergan, Inc.</td>\n",
       "      <td>Bellco Drug Corp</td>\n",
       "      <td>10.0</td>\n",
       "    </tr>\n",
       "  </tbody>\n",
       "</table>\n",
       "<p>5 rows × 42 columns</p>\n",
       "</div>"
      ],
      "text/plain": [
       "  REPORTER_DEA_NO REPORTER_BUS_ACT     REPORTER_NAME REPORTER_ADDL_CO_INFO  \\\n",
       "0       PB0034861      DISTRIBUTOR  BELLCO DRUG CORP                   NaN   \n",
       "1       PB0034861      DISTRIBUTOR  BELLCO DRUG CORP                   NaN   \n",
       "2       PB0034861      DISTRIBUTOR  BELLCO DRUG CORP                   NaN   \n",
       "3       PB0034861      DISTRIBUTOR  BELLCO DRUG CORP                   NaN   \n",
       "4       PB0034861      DISTRIBUTOR  BELLCO DRUG CORP                   NaN   \n",
       "\n",
       "        REPORTER_ADDRESS1 REPORTER_ADDRESS2     REPORTER_CITY REPORTER_STATE  \\\n",
       "0  5500 NEW HORIZONS BLVD               NaN  NORTH AMITYVILLE             NY   \n",
       "1  5500 NEW HORIZONS BLVD               NaN  NORTH AMITYVILLE             NY   \n",
       "2  5500 NEW HORIZONS BLVD               NaN  NORTH AMITYVILLE             NY   \n",
       "3  5500 NEW HORIZONS BLVD               NaN  NORTH AMITYVILLE             NY   \n",
       "4  5500 NEW HORIZONS BLVD               NaN  NORTH AMITYVILLE             NY   \n",
       "\n",
       "   REPORTER_ZIP REPORTER_COUNTY  ... DOSAGE_UNIT TRANSACTION_ID  \\\n",
       "0         11701         SUFFOLK  ...       500.0           3156   \n",
       "1         11701         SUFFOLK  ...       500.0            617   \n",
       "2         11701         SUFFOLK  ...       400.0            671   \n",
       "3         11701         SUFFOLK  ...       100.0           1300   \n",
       "4         11701         SUFFOLK  ...       100.0           4521   \n",
       "\n",
       "                           Product_Name  \\\n",
       "0  HYDROCODONE BIT 5MG/ACETAMINOPHEN 50   \n",
       "1  HYDROCODONE BIT 5MG/ACETAMINOPHEN 50   \n",
       "2  HYDROCODONE.BIT./ACET.,10MG & 325MG/   \n",
       "3  HYDROCODONE.BIT./ACET.,10MG & 325MG/   \n",
       "4   HYDROCODONE BIT. 10MG/ACETAMINOPHEN   \n",
       "\n",
       "                           Ingredient_Name Measure MME_Conversion_Factor  \\\n",
       "0  HYDROCODONE BITARTRATE HEMIPENTAHYDRATE     TAB                   1.0   \n",
       "1  HYDROCODONE BITARTRATE HEMIPENTAHYDRATE     TAB                   1.0   \n",
       "2  HYDROCODONE BITARTRATE HEMIPENTAHYDRATE     TAB                   1.0   \n",
       "3  HYDROCODONE BITARTRATE HEMIPENTAHYDRATE     TAB                   1.0   \n",
       "4  HYDROCODONE BITARTRATE HEMIPENTAHYDRATE     TAB                   1.0   \n",
       "\n",
       "  Combined_Labeler_Name        Revised_Company_Name   Reporter_family dos_str  \n",
       "0  Actavis Pharma, Inc.              Allergan, Inc.  Bellco Drug Corp     5.0  \n",
       "1  Actavis Pharma, Inc.              Allergan, Inc.  Bellco Drug Corp     5.0  \n",
       "2    Par Pharmaceutical  Endo Pharmaceuticals, Inc.  Bellco Drug Corp    10.0  \n",
       "3    Par Pharmaceutical  Endo Pharmaceuticals, Inc.  Bellco Drug Corp    10.0  \n",
       "4  Actavis Pharma, Inc.              Allergan, Inc.  Bellco Drug Corp    10.0  \n",
       "\n",
       "[5 rows x 42 columns]"
      ]
     },
     "execution_count": 4,
     "metadata": {},
     "output_type": "execute_result"
    }
   ],
   "source": [
    "wp_data.head()"
   ]
  },
  {
   "cell_type": "markdown",
   "metadata": {},
   "source": [
    "#### Checking for most common values, for nulls, etc:"
   ]
  },
  {
   "cell_type": "code",
   "execution_count": 56,
   "metadata": {},
   "outputs": [
    {
     "name": "stdout",
     "output_type": "stream",
     "text": [
      "<class 'pandas.core.frame.DataFrame'>\n",
      "RangeIndex: 12108468 entries, 0 to 12108467\n",
      "Data columns (total 42 columns):\n",
      "REPORTER_DEA_NO          12108468 non-null object\n",
      "REPORTER_BUS_ACT         12108468 non-null object\n",
      "REPORTER_NAME            12108468 non-null object\n",
      "REPORTER_ADDL_CO_INFO    820991 non-null object\n",
      "REPORTER_ADDRESS1        12108468 non-null object\n",
      "REPORTER_ADDRESS2        1922155 non-null object\n",
      "REPORTER_CITY            12108468 non-null object\n",
      "REPORTER_STATE           12108468 non-null object\n",
      "REPORTER_ZIP             12108468 non-null int64\n",
      "REPORTER_COUNTY          12108468 non-null object\n",
      "BUYER_DEA_NO             12108468 non-null object\n",
      "BUYER_BUS_ACT            12108468 non-null object\n",
      "BUYER_NAME               12108468 non-null object\n",
      "BUYER_ADDL_CO_INFO       4664223 non-null object\n",
      "BUYER_ADDRESS1           12108468 non-null object\n",
      "BUYER_ADDRESS2           1685301 non-null object\n",
      "BUYER_CITY               12108468 non-null object\n",
      "BUYER_STATE              12108468 non-null object\n",
      "BUYER_ZIP                12108468 non-null int64\n",
      "BUYER_COUNTY             12108468 non-null object\n",
      "TRANSACTION_CODE         12108468 non-null object\n",
      "DRUG_CODE                12108468 non-null int64\n",
      "NDC_NO                   12108468 non-null object\n",
      "DRUG_NAME                12108468 non-null object\n",
      "QUANTITY                 12108468 non-null float64\n",
      "UNIT                     0 non-null float64\n",
      "ACTION_INDICATOR         408047 non-null object\n",
      "ORDER_FORM_NO            1538284 non-null object\n",
      "CORRECTION_NO            6652 non-null float64\n",
      "STRENGTH                 2559140 non-null float64\n",
      "TRANSACTION_DATE         12108468 non-null int64\n",
      "CALC_BASE_WT_IN_GM       12108468 non-null float64\n",
      "DOSAGE_UNIT              12108468 non-null float64\n",
      "TRANSACTION_ID           12108468 non-null int64\n",
      "Product_Name             12108468 non-null object\n",
      "Ingredient_Name          12108468 non-null object\n",
      "Measure                  12108468 non-null object\n",
      "MME_Conversion_Factor    12108468 non-null float64\n",
      "Combined_Labeler_Name    12107271 non-null object\n",
      "Revised_Company_Name     12107271 non-null object\n",
      "Reporter_family          12108468 non-null object\n",
      "dos_str                  12097195 non-null float64\n",
      "dtypes: float64(8), int64(5), object(29)\n",
      "memory usage: 3.8+ GB\n"
     ]
    }
   ],
   "source": [
    "wp_data.info(null_counts=True)"
   ]
  },
  {
   "cell_type": "code",
   "execution_count": 5,
   "metadata": {
    "scrolled": true
   },
   "outputs": [
    {
     "data": {
      "text/plain": [
       "WALGREEN CO.                           2386212\n",
       "CVS PHARMACY, INC.                     1222795\n",
       "ALBERTSONS LLC                          260251\n",
       "RANDALLS FOOD AND DRUGS LP              225028\n",
       "TARGET STORES A DIV.OF TARGET CORP.     132679\n",
       "Name: BUYER_NAME, dtype: int64"
      ]
     },
     "execution_count": 5,
     "metadata": {},
     "output_type": "execute_result"
    }
   ],
   "source": [
    "wp_data[\"BUYER_NAME\"].value_counts().head()"
   ]
  },
  {
   "cell_type": "code",
   "execution_count": 6,
   "metadata": {
    "scrolled": false
   },
   "outputs": [
    {
     "data": {
      "text/plain": [
       "I    407325\n",
       "A       722\n",
       "Name: ACTION_INDICATOR, dtype: int64"
      ]
     },
     "execution_count": 6,
     "metadata": {},
     "output_type": "execute_result"
    }
   ],
   "source": [
    "wp_data[\"ACTION_INDICATOR\"].value_counts()"
   ]
  },
  {
   "cell_type": "code",
   "execution_count": 69,
   "metadata": {
    "scrolled": true
   },
   "outputs": [
    {
     "data": {
      "text/plain": [
       "0     1112006\n",
       "1     1042006\n",
       "2    11022006\n",
       "3     1042007\n",
       "4     2142007\n",
       "5     3282007\n",
       "6     4242007\n",
       "7     3122007\n",
       "8     8222006\n",
       "9     7172006\n",
       "Name: TRANSACTION_DATE, dtype: int64"
      ]
     },
     "execution_count": 69,
     "metadata": {},
     "output_type": "execute_result"
    }
   ],
   "source": [
    "# Let's try to parse through the time stamp on these transactions\n",
    "wp_data[\"TRANSACTION_DATE\"].head(10)"
   ]
  },
  {
   "cell_type": "code",
   "execution_count": 71,
   "metadata": {},
   "outputs": [
    {
     "data": {
      "text/plain": [
       "3308482     1012006\n",
       "953863      1012006\n",
       "10072495    1012006\n",
       "8721814     1012006\n",
       "953809      1012006\n",
       "Name: TRANSACTION_DATE, dtype: int64"
      ]
     },
     "execution_count": 71,
     "metadata": {},
     "output_type": "execute_result"
    }
   ],
   "source": [
    "wp_data[\"TRANSACTION_DATE\"].sort_values().head()"
   ]
  },
  {
   "cell_type": "code",
   "execution_count": 74,
   "metadata": {},
   "outputs": [],
   "source": [
    "# Can see that we need to fill in preceeding zeros for months with 1 digit, \n",
    "# so each date has 8 digits\n",
    "# First need to turn that column into strings\n",
    "wp_data[\"TRANSACTION_DATE\"] = wp_data[\"TRANSACTION_DATE\"].astype('str')\n",
    "wp_data[\"TRANSACTION_DATE\"] = wp_data[\"TRANSACTION_DATE\"].str.zfill(8)"
   ]
  },
  {
   "cell_type": "code",
   "execution_count": 75,
   "metadata": {},
   "outputs": [
    {
     "data": {
      "text/plain": [
       "0    01112006\n",
       "1    01042006\n",
       "2    11022006\n",
       "3    01042007\n",
       "4    02142007\n",
       "Name: TRANSACTION_DATE, dtype: object"
      ]
     },
     "execution_count": 75,
     "metadata": {},
     "output_type": "execute_result"
    }
   ],
   "source": [
    "# Much better\n",
    "wp_data[\"TRANSACTION_DATE\"].head()"
   ]
  },
  {
   "cell_type": "code",
   "execution_count": 77,
   "metadata": {},
   "outputs": [],
   "source": [
    "# Now turning into a datetime object\n",
    "wp_data[\"TRANSACTION_DATE\"] = pd.to_datetime(wp_data[\"TRANSACTION_DATE\"],\n",
    "                                            format='%m%d%Y')"
   ]
  },
  {
   "cell_type": "code",
   "execution_count": 78,
   "metadata": {
    "scrolled": false
   },
   "outputs": [
    {
     "data": {
      "text/plain": [
       "0   2006-01-11\n",
       "1   2006-01-04\n",
       "2   2006-11-02\n",
       "3   2007-01-04\n",
       "4   2007-02-14\n",
       "5   2007-03-28\n",
       "6   2007-04-24\n",
       "7   2007-03-12\n",
       "8   2006-08-22\n",
       "9   2006-07-17\n",
       "Name: TRANSACTION_DATE, dtype: datetime64[ns]"
      ]
     },
     "execution_count": 78,
     "metadata": {},
     "output_type": "execute_result"
    }
   ],
   "source": [
    "# Success\n",
    "wp_data[\"TRANSACTION_DATE\"].head(10)"
   ]
  },
  {
   "cell_type": "code",
   "execution_count": 85,
   "metadata": {},
   "outputs": [
    {
     "data": {
      "text/plain": [
       "5432109643.5"
      ]
     },
     "execution_count": 85,
     "metadata": {},
     "output_type": "execute_result"
    }
   ],
   "source": [
    "# WP said they found 5,432,109,643 pills supplied to TX between 2006 and 2012\n",
    "# Can see they arrived at that number using the Dosage Unit column\n",
    "wp_data[\"DOSAGE_UNIT\"].sum()"
   ]
  },
  {
   "cell_type": "markdown",
   "metadata": {},
   "source": [
    "#### Creating smaller subsets of the Washington Post dataset:"
   ]
  },
  {
   "cell_type": "code",
   "execution_count": 8,
   "metadata": {},
   "outputs": [],
   "source": [
    "subset = wp_data.drop(columns=[\n",
    "    \"REPORTER_DEA_NO\", \"REPORTER_BUS_ACT\", \"REPORTER_ADDL_CO_INFO\",\n",
    "    \"REPORTER_ADDRESS1\", \"REPORTER_ADDRESS2\", \"REPORTER_CITY\",\n",
    "    \"REPORTER_COUNTY\", \"BUYER_DEA_NO\", \"BUYER_ADDL_CO_INFO\", \"DRUG_CODE\",\n",
    "    \"NDC_NO\", \"UNIT\", \"ACTION_INDICATOR\"])"
   ]
  },
  {
   "cell_type": "code",
   "execution_count": null,
   "metadata": {},
   "outputs": [],
   "source": []
  },
  {
   "cell_type": "code",
   "execution_count": null,
   "metadata": {},
   "outputs": [],
   "source": []
  },
  {
   "cell_type": "markdown",
   "metadata": {},
   "source": [
    "#### Reading in TX DSHS data to combine"
   ]
  },
  {
   "cell_type": "code",
   "execution_count": 12,
   "metadata": {},
   "outputs": [],
   "source": [
    "dshs_2003 = pd.read_csv(\"data/TXDSHS/2003TXDeaths_by_County_data.csv\")\n",
    "dshs_2004 = pd.read_csv(\"data/TXDSHS/2004TXDeaths_by_County_data.csv\")\n",
    "dshs_2005 = pd.read_csv(\"data/TXDSHS/2005TXDeaths_by_County_data.csv\")\n",
    "dshs_2006 = pd.read_csv(\"data/TXDSHS/2006TXDeaths_by_County_data.csv\")\n",
    "dshs_2007 = pd.read_csv(\"data/TXDSHS/2007TXDeaths_by_County_data.csv\")\n",
    "dshs_2008 = pd.read_csv(\"data/TXDSHS/2008TXDeaths_by_County_data.csv\")\n",
    "dshs_2009 = pd.read_csv(\"data/TXDSHS/2009TXDeaths_by_County_data.csv\")\n",
    "dshs_2010 = pd.read_csv(\"data/TXDSHS/2010TXDeaths_by_County_data.csv\")\n",
    "dshs_2011 = pd.read_csv(\"data/TXDSHS/2011TXDeaths_by_County_data.csv\")\n",
    "dshs_2012 = pd.read_csv(\"data/TXDSHS/2012TXDeaths_by_County_data.csv\")\n",
    "dshs_2013 = pd.read_csv(\"data/TXDSHS/2013TXDeaths_by_County_data.csv\")\n",
    "dshs_2014 = pd.read_csv(\"data/TXDSHS/2014TXDeaths_by_County_data.csv\")\n",
    "dshs_2015 = pd.read_csv(\"data/TXDSHS/2015TXDeaths_by_County_data.csv\")"
   ]
  },
  {
   "cell_type": "code",
   "execution_count": 13,
   "metadata": {},
   "outputs": [
    {
     "data": {
      "text/html": [
       "<div>\n",
       "<style scoped>\n",
       "    .dataframe tbody tr th:only-of-type {\n",
       "        vertical-align: middle;\n",
       "    }\n",
       "\n",
       "    .dataframe tbody tr th {\n",
       "        vertical-align: top;\n",
       "    }\n",
       "\n",
       "    .dataframe thead th {\n",
       "        text-align: right;\n",
       "    }\n",
       "</style>\n",
       "<table border=\"1\" class=\"dataframe\">\n",
       "  <thead>\n",
       "    <tr style=\"text-align: right;\">\n",
       "      <th></th>\n",
       "      <th>County Name</th>\n",
       "      <th>Number of Deaths</th>\n",
       "      <th>Type of Death1</th>\n",
       "      <th>Year (copy)</th>\n",
       "      <th>Latitude (generated)</th>\n",
       "      <th>Longitude (generated)</th>\n",
       "    </tr>\n",
       "  </thead>\n",
       "  <tbody>\n",
       "    <tr>\n",
       "      <th>0</th>\n",
       "      <td>Zavala</td>\n",
       "      <td>0</td>\n",
       "      <td>Accidental Poisoning Deaths where Opioids Were...</td>\n",
       "      <td>2006</td>\n",
       "      <td>28.866</td>\n",
       "      <td>-99.761</td>\n",
       "    </tr>\n",
       "    <tr>\n",
       "      <th>1</th>\n",
       "      <td>Zapata</td>\n",
       "      <td>0</td>\n",
       "      <td>Accidental Poisoning Deaths where Opioids Were...</td>\n",
       "      <td>2006</td>\n",
       "      <td>26.971</td>\n",
       "      <td>-99.203</td>\n",
       "    </tr>\n",
       "    <tr>\n",
       "      <th>2</th>\n",
       "      <td>Young</td>\n",
       "      <td>---</td>\n",
       "      <td>Accidental Poisoning Deaths where Opioids Were...</td>\n",
       "      <td>2006</td>\n",
       "      <td>33.175</td>\n",
       "      <td>-98.687</td>\n",
       "    </tr>\n",
       "    <tr>\n",
       "      <th>3</th>\n",
       "      <td>Yoakum</td>\n",
       "      <td>0</td>\n",
       "      <td>Accidental Poisoning Deaths where Opioids Were...</td>\n",
       "      <td>2006</td>\n",
       "      <td>33.173</td>\n",
       "      <td>-102.829</td>\n",
       "    </tr>\n",
       "    <tr>\n",
       "      <th>4</th>\n",
       "      <td>Wood</td>\n",
       "      <td>---</td>\n",
       "      <td>Accidental Poisoning Deaths where Opioids Were...</td>\n",
       "      <td>2006</td>\n",
       "      <td>32.783</td>\n",
       "      <td>-95.407</td>\n",
       "    </tr>\n",
       "  </tbody>\n",
       "</table>\n",
       "</div>"
      ],
      "text/plain": [
       "  County Name Number of Deaths  \\\n",
       "0      Zavala                0   \n",
       "1      Zapata                0   \n",
       "2       Young              ---   \n",
       "3      Yoakum                0   \n",
       "4        Wood              ---   \n",
       "\n",
       "                                      Type of Death1  Year (copy)  \\\n",
       "0  Accidental Poisoning Deaths where Opioids Were...         2006   \n",
       "1  Accidental Poisoning Deaths where Opioids Were...         2006   \n",
       "2  Accidental Poisoning Deaths where Opioids Were...         2006   \n",
       "3  Accidental Poisoning Deaths where Opioids Were...         2006   \n",
       "4  Accidental Poisoning Deaths where Opioids Were...         2006   \n",
       "\n",
       "   Latitude (generated)  Longitude (generated)  \n",
       "0                28.866                -99.761  \n",
       "1                26.971                -99.203  \n",
       "2                33.175                -98.687  \n",
       "3                33.173               -102.829  \n",
       "4                32.783                -95.407  "
      ]
     },
     "execution_count": 13,
     "metadata": {},
     "output_type": "execute_result"
    }
   ],
   "source": [
    "# Note that '---' isn't a null, it indicates the data was surpressed for \n",
    "# privacy purposes, and there were between 1 and 9 deaths \n",
    "dshs_2006.head()"
   ]
  },
  {
   "cell_type": "code",
   "execution_count": 14,
   "metadata": {
    "scrolled": true
   },
   "outputs": [
    {
     "data": {
      "text/plain": [
       "0      149\n",
       "---     88\n",
       "30       2\n",
       "40       1\n",
       "13       1\n",
       "24       1\n",
       "10       1\n",
       "15       1\n",
       "52       1\n",
       "45       1\n",
       "12       1\n",
       "43       1\n",
       "78       1\n",
       "11       1\n",
       "80       1\n",
       "220      1\n",
       "31       1\n",
       "18       1\n",
       "Name: Number of Deaths, dtype: int64"
      ]
     },
     "execution_count": 14,
     "metadata": {},
     "output_type": "execute_result"
    }
   ],
   "source": [
    "dshs_2006[\"Number of Deaths\"].value_counts()"
   ]
  },
  {
   "cell_type": "code",
   "execution_count": 41,
   "metadata": {},
   "outputs": [
    {
     "data": {
      "text/plain": [
       "(254, 6)"
      ]
     },
     "execution_count": 41,
     "metadata": {},
     "output_type": "execute_result"
    }
   ],
   "source": [
    "dshs_2003.shape"
   ]
  },
  {
   "cell_type": "code",
   "execution_count": 19,
   "metadata": {},
   "outputs": [],
   "source": [
    "# And now, to combine:\n",
    "# Can do it this way since I know each of the dataframes have the same\n",
    "# counties in the same order\n",
    "dshs = pd.DataFrame()\n",
    "dshs[\"County Name\"] = dshs_2012[\"County Name\"]\n",
    "dshs[\"Latitude\"] = dshs_2012[\"Latitude (generated)\"]\n",
    "dshs[\"Longitude\"] = dshs_2012[\"Longitude (generated)\"]\n",
    "dshs[\"Deaths_2003\"] = dshs_2003[\"Number of Deaths\"]\n",
    "dshs[\"Deaths_2004\"] = dshs_2004[\"Number of Deaths\"]\n",
    "dshs[\"Deaths_2005\"] = dshs_2005[\"Number of Deaths\"]\n",
    "dshs[\"Deaths_2006\"] = dshs_2006[\"Number of Deaths\"]\n",
    "dshs[\"Deaths_2007\"] = dshs_2007[\"Number of Deaths\"]\n",
    "dshs[\"Deaths_2008\"] = dshs_2008[\"Number of Deaths\"]\n",
    "dshs[\"Deaths_2009\"] = dshs_2009[\"Number of Deaths\"]\n",
    "dshs[\"Deaths_2010\"] = dshs_2010[\"Number of Deaths\"]\n",
    "dshs[\"Deaths_2011\"] = dshs_2011[\"Number of Deaths\"]\n",
    "dshs[\"Deaths_2012\"] = dshs_2012[\"Number of Deaths\"]\n",
    "dshs[\"Deaths_2013\"] = dshs_2013[\"Number of Deaths\"]\n",
    "dshs[\"Deaths_2014\"] = dshs_2014[\"Number of Deaths\"]\n",
    "dshs[\"Deaths_2015\"] = dshs_2015[\"Number of Deaths\"]"
   ]
  },
  {
   "cell_type": "code",
   "execution_count": 20,
   "metadata": {},
   "outputs": [
    {
     "data": {
      "text/html": [
       "<div>\n",
       "<style scoped>\n",
       "    .dataframe tbody tr th:only-of-type {\n",
       "        vertical-align: middle;\n",
       "    }\n",
       "\n",
       "    .dataframe tbody tr th {\n",
       "        vertical-align: top;\n",
       "    }\n",
       "\n",
       "    .dataframe thead th {\n",
       "        text-align: right;\n",
       "    }\n",
       "</style>\n",
       "<table border=\"1\" class=\"dataframe\">\n",
       "  <thead>\n",
       "    <tr style=\"text-align: right;\">\n",
       "      <th></th>\n",
       "      <th>County Name</th>\n",
       "      <th>Latitude</th>\n",
       "      <th>Longitude</th>\n",
       "      <th>Deaths_2003</th>\n",
       "      <th>Deaths_2004</th>\n",
       "      <th>Deaths_2005</th>\n",
       "      <th>Deaths_2006</th>\n",
       "      <th>Deaths_2007</th>\n",
       "      <th>Deaths_2008</th>\n",
       "      <th>Deaths_2009</th>\n",
       "      <th>Deaths_2010</th>\n",
       "      <th>Deaths_2011</th>\n",
       "      <th>Deaths_2012</th>\n",
       "      <th>Deaths_2013</th>\n",
       "      <th>Deaths_2014</th>\n",
       "      <th>Deaths_2015</th>\n",
       "    </tr>\n",
       "  </thead>\n",
       "  <tbody>\n",
       "    <tr>\n",
       "      <th>0</th>\n",
       "      <td>Zavala</td>\n",
       "      <td>28.866</td>\n",
       "      <td>-99.761</td>\n",
       "      <td>0</td>\n",
       "      <td>0</td>\n",
       "      <td>0</td>\n",
       "      <td>0</td>\n",
       "      <td>0</td>\n",
       "      <td>0</td>\n",
       "      <td>0</td>\n",
       "      <td>0</td>\n",
       "      <td>0</td>\n",
       "      <td>0</td>\n",
       "      <td>0</td>\n",
       "      <td>0</td>\n",
       "      <td>0</td>\n",
       "    </tr>\n",
       "    <tr>\n",
       "      <th>1</th>\n",
       "      <td>Zapata</td>\n",
       "      <td>26.971</td>\n",
       "      <td>-99.203</td>\n",
       "      <td>0</td>\n",
       "      <td>0</td>\n",
       "      <td>0</td>\n",
       "      <td>0</td>\n",
       "      <td>0</td>\n",
       "      <td>---</td>\n",
       "      <td>---</td>\n",
       "      <td>0</td>\n",
       "      <td>---</td>\n",
       "      <td>0</td>\n",
       "      <td>0</td>\n",
       "      <td>0</td>\n",
       "      <td>0</td>\n",
       "    </tr>\n",
       "    <tr>\n",
       "      <th>2</th>\n",
       "      <td>Young</td>\n",
       "      <td>33.175</td>\n",
       "      <td>-98.687</td>\n",
       "      <td>---</td>\n",
       "      <td>---</td>\n",
       "      <td>0</td>\n",
       "      <td>---</td>\n",
       "      <td>---</td>\n",
       "      <td>---</td>\n",
       "      <td>0</td>\n",
       "      <td>---</td>\n",
       "      <td>0</td>\n",
       "      <td>0</td>\n",
       "      <td>---</td>\n",
       "      <td>---</td>\n",
       "      <td>---</td>\n",
       "    </tr>\n",
       "    <tr>\n",
       "      <th>3</th>\n",
       "      <td>Yoakum</td>\n",
       "      <td>33.173</td>\n",
       "      <td>-102.829</td>\n",
       "      <td>0</td>\n",
       "      <td>0</td>\n",
       "      <td>---</td>\n",
       "      <td>0</td>\n",
       "      <td>0</td>\n",
       "      <td>0</td>\n",
       "      <td>0</td>\n",
       "      <td>0</td>\n",
       "      <td>0</td>\n",
       "      <td>0</td>\n",
       "      <td>0</td>\n",
       "      <td>0</td>\n",
       "      <td>0</td>\n",
       "    </tr>\n",
       "    <tr>\n",
       "      <th>4</th>\n",
       "      <td>Wood</td>\n",
       "      <td>32.783</td>\n",
       "      <td>-95.407</td>\n",
       "      <td>---</td>\n",
       "      <td>0</td>\n",
       "      <td>0</td>\n",
       "      <td>---</td>\n",
       "      <td>---</td>\n",
       "      <td>---</td>\n",
       "      <td>---</td>\n",
       "      <td>0</td>\n",
       "      <td>---</td>\n",
       "      <td>---</td>\n",
       "      <td>---</td>\n",
       "      <td>---</td>\n",
       "      <td>---</td>\n",
       "    </tr>\n",
       "  </tbody>\n",
       "</table>\n",
       "</div>"
      ],
      "text/plain": [
       "  County Name  Latitude  Longitude Deaths_2003 Deaths_2004 Deaths_2005  \\\n",
       "0      Zavala    28.866    -99.761           0           0           0   \n",
       "1      Zapata    26.971    -99.203           0           0           0   \n",
       "2       Young    33.175    -98.687         ---         ---           0   \n",
       "3      Yoakum    33.173   -102.829           0           0         ---   \n",
       "4        Wood    32.783    -95.407         ---           0           0   \n",
       "\n",
       "  Deaths_2006 Deaths_2007 Deaths_2008 Deaths_2009 Deaths_2010 Deaths_2011  \\\n",
       "0           0           0           0           0           0           0   \n",
       "1           0           0         ---         ---           0         ---   \n",
       "2         ---         ---         ---           0         ---           0   \n",
       "3           0           0           0           0           0           0   \n",
       "4         ---         ---         ---         ---           0         ---   \n",
       "\n",
       "  Deaths_2012 Deaths_2013 Deaths_2014 Deaths_2015  \n",
       "0           0           0           0           0  \n",
       "1           0           0           0           0  \n",
       "2           0         ---         ---         ---  \n",
       "3           0           0           0           0  \n",
       "4         ---         ---         ---         ---  "
      ]
     },
     "execution_count": 20,
     "metadata": {},
     "output_type": "execute_result"
    }
   ],
   "source": [
    "dshs.head()"
   ]
  },
  {
   "cell_type": "code",
   "execution_count": 52,
   "metadata": {},
   "outputs": [],
   "source": [
    "# Saving as a CSV\n",
    "# dshs.to_csv(r\"data/TXDSHS/Combined_TXDeaths_by_County_Data.csv\",\n",
    "#             index=False)"
   ]
  },
  {
   "cell_type": "code",
   "execution_count": 53,
   "metadata": {},
   "outputs": [],
   "source": [
    "# Sanity check\n",
    "dshs_data = pd.read_csv(\"data/TXDSHS/Combined_TXDeaths_by_County_Data.csv\")"
   ]
  },
  {
   "cell_type": "code",
   "execution_count": 54,
   "metadata": {
    "scrolled": true
   },
   "outputs": [
    {
     "data": {
      "text/html": [
       "<div>\n",
       "<style scoped>\n",
       "    .dataframe tbody tr th:only-of-type {\n",
       "        vertical-align: middle;\n",
       "    }\n",
       "\n",
       "    .dataframe tbody tr th {\n",
       "        vertical-align: top;\n",
       "    }\n",
       "\n",
       "    .dataframe thead th {\n",
       "        text-align: right;\n",
       "    }\n",
       "</style>\n",
       "<table border=\"1\" class=\"dataframe\">\n",
       "  <thead>\n",
       "    <tr style=\"text-align: right;\">\n",
       "      <th></th>\n",
       "      <th>County Name</th>\n",
       "      <th>Latitude</th>\n",
       "      <th>Longitude</th>\n",
       "      <th>Deaths_2003</th>\n",
       "      <th>Deaths_2004</th>\n",
       "      <th>Deaths_2005</th>\n",
       "      <th>Deaths_2006</th>\n",
       "      <th>Deaths_2007</th>\n",
       "      <th>Deaths_2008</th>\n",
       "      <th>Deaths_2009</th>\n",
       "      <th>Deaths_2010</th>\n",
       "      <th>Deaths_2011</th>\n",
       "      <th>Deaths_2012</th>\n",
       "      <th>Deaths_2013</th>\n",
       "      <th>Deaths_2014</th>\n",
       "      <th>Deaths_2015</th>\n",
       "    </tr>\n",
       "  </thead>\n",
       "  <tbody>\n",
       "    <tr>\n",
       "      <th>0</th>\n",
       "      <td>Zavala</td>\n",
       "      <td>28.866</td>\n",
       "      <td>-99.761</td>\n",
       "      <td>0</td>\n",
       "      <td>0</td>\n",
       "      <td>0</td>\n",
       "      <td>0</td>\n",
       "      <td>0</td>\n",
       "      <td>0</td>\n",
       "      <td>0</td>\n",
       "      <td>0</td>\n",
       "      <td>0</td>\n",
       "      <td>0</td>\n",
       "      <td>0</td>\n",
       "      <td>0</td>\n",
       "      <td>0</td>\n",
       "    </tr>\n",
       "    <tr>\n",
       "      <th>1</th>\n",
       "      <td>Zapata</td>\n",
       "      <td>26.971</td>\n",
       "      <td>-99.203</td>\n",
       "      <td>0</td>\n",
       "      <td>0</td>\n",
       "      <td>0</td>\n",
       "      <td>0</td>\n",
       "      <td>0</td>\n",
       "      <td>---</td>\n",
       "      <td>---</td>\n",
       "      <td>0</td>\n",
       "      <td>---</td>\n",
       "      <td>0</td>\n",
       "      <td>0</td>\n",
       "      <td>0</td>\n",
       "      <td>0</td>\n",
       "    </tr>\n",
       "    <tr>\n",
       "      <th>2</th>\n",
       "      <td>Young</td>\n",
       "      <td>33.175</td>\n",
       "      <td>-98.687</td>\n",
       "      <td>---</td>\n",
       "      <td>---</td>\n",
       "      <td>0</td>\n",
       "      <td>---</td>\n",
       "      <td>---</td>\n",
       "      <td>---</td>\n",
       "      <td>0</td>\n",
       "      <td>---</td>\n",
       "      <td>0</td>\n",
       "      <td>0</td>\n",
       "      <td>---</td>\n",
       "      <td>---</td>\n",
       "      <td>---</td>\n",
       "    </tr>\n",
       "    <tr>\n",
       "      <th>3</th>\n",
       "      <td>Yoakum</td>\n",
       "      <td>33.173</td>\n",
       "      <td>-102.829</td>\n",
       "      <td>0</td>\n",
       "      <td>0</td>\n",
       "      <td>---</td>\n",
       "      <td>0</td>\n",
       "      <td>0</td>\n",
       "      <td>0</td>\n",
       "      <td>0</td>\n",
       "      <td>0</td>\n",
       "      <td>0</td>\n",
       "      <td>0</td>\n",
       "      <td>0</td>\n",
       "      <td>0</td>\n",
       "      <td>0</td>\n",
       "    </tr>\n",
       "    <tr>\n",
       "      <th>4</th>\n",
       "      <td>Wood</td>\n",
       "      <td>32.783</td>\n",
       "      <td>-95.407</td>\n",
       "      <td>---</td>\n",
       "      <td>0</td>\n",
       "      <td>0</td>\n",
       "      <td>---</td>\n",
       "      <td>---</td>\n",
       "      <td>---</td>\n",
       "      <td>---</td>\n",
       "      <td>0</td>\n",
       "      <td>---</td>\n",
       "      <td>---</td>\n",
       "      <td>---</td>\n",
       "      <td>---</td>\n",
       "      <td>---</td>\n",
       "    </tr>\n",
       "  </tbody>\n",
       "</table>\n",
       "</div>"
      ],
      "text/plain": [
       "  County Name  Latitude  Longitude Deaths_2003 Deaths_2004 Deaths_2005  \\\n",
       "0      Zavala    28.866    -99.761           0           0           0   \n",
       "1      Zapata    26.971    -99.203           0           0           0   \n",
       "2       Young    33.175    -98.687         ---         ---           0   \n",
       "3      Yoakum    33.173   -102.829           0           0         ---   \n",
       "4        Wood    32.783    -95.407         ---           0           0   \n",
       "\n",
       "  Deaths_2006 Deaths_2007 Deaths_2008 Deaths_2009 Deaths_2010 Deaths_2011  \\\n",
       "0           0           0           0           0           0           0   \n",
       "1           0           0         ---         ---           0         ---   \n",
       "2         ---         ---         ---           0         ---           0   \n",
       "3           0           0           0           0           0           0   \n",
       "4         ---         ---         ---         ---           0         ---   \n",
       "\n",
       "  Deaths_2012 Deaths_2013 Deaths_2014 Deaths_2015  \n",
       "0           0           0           0           0  \n",
       "1           0           0           0           0  \n",
       "2           0         ---         ---         ---  \n",
       "3           0           0           0           0  \n",
       "4         ---         ---         ---         ---  "
      ]
     },
     "execution_count": 54,
     "metadata": {},
     "output_type": "execute_result"
    }
   ],
   "source": [
    "dshs_data.head()"
   ]
  },
  {
   "cell_type": "code",
   "execution_count": 55,
   "metadata": {},
   "outputs": [
    {
     "data": {
      "text/plain": [
       "(254, 16)"
      ]
     },
     "execution_count": 55,
     "metadata": {},
     "output_type": "execute_result"
    }
   ],
   "source": [
    "dshs_data.shape"
   ]
  }
 ],
 "metadata": {
  "kernelspec": {
   "display_name": "Python 3",
   "language": "python",
   "name": "python3"
  },
  "language_info": {
   "codemirror_mode": {
    "name": "ipython",
    "version": 3
   },
   "file_extension": ".py",
   "mimetype": "text/x-python",
   "name": "python",
   "nbconvert_exporter": "python",
   "pygments_lexer": "ipython3",
   "version": "3.7.3"
  }
 },
 "nbformat": 4,
 "nbformat_minor": 2
}
