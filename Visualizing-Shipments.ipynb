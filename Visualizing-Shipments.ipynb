{
 "cells": [
  {
   "cell_type": "code",
   "execution_count": 1,
   "metadata": {},
   "outputs": [],
   "source": [
    "# Imports\n",
    "\n",
    "# Data import and manipulation\n",
    "import pandas as pd\n",
    "# Math\n",
    "import numpy as np\n",
    "# Let's go ahead and seed the notebook, for reproducibility\n",
    "np.random.seed(113)\n",
    "\n",
    "# Visualizing\n",
    "import plotly.graph_objects as go\n",
    "import plotly.express as px\n",
    "import plotly.offline as offline\n",
    "\n",
    "# Interactive widget\n",
    "import ipywidgets as widgets\n",
    "from ipywidgets import interact, interact_manual"
   ]
  },
  {
   "cell_type": "code",
   "execution_count": 2,
   "metadata": {
    "scrolled": true
   },
   "outputs": [
    {
     "ename": "FileNotFoundError",
     "evalue": "[Errno 2] File b'data/TX_Buyers_Shipment_Location_Data.csv' does not exist: b'data/TX_Buyers_Shipment_Location_Data.csv'",
     "output_type": "error",
     "traceback": [
      "\u001b[0;31m---------------------------------------------------------------------------\u001b[0m",
      "\u001b[0;31mFileNotFoundError\u001b[0m                         Traceback (most recent call last)",
      "\u001b[0;32m<ipython-input-2-5831569c283c>\u001b[0m in \u001b[0;36m<module>\u001b[0;34m\u001b[0m\n\u001b[1;32m      2\u001b[0m                  usecols=[\"REPORTER_NAME\", \"REPORTER_LAT\", \"REPORTER_LONG\",\n\u001b[1;32m      3\u001b[0m                           \u001b[0;34m\"BUYER_NAME\"\u001b[0m\u001b[0;34m,\u001b[0m \u001b[0;34m\"BUYER_LAT\"\u001b[0m\u001b[0;34m,\u001b[0m \u001b[0;34m\"BUYER_LONG\"\u001b[0m\u001b[0;34m,\u001b[0m\u001b[0;34m\u001b[0m\u001b[0;34m\u001b[0m\u001b[0m\n\u001b[0;32m----> 4\u001b[0;31m                           \"TRANSACTION_DATE\", \"DOSAGE_UNIT\"])\n\u001b[0m\u001b[1;32m      5\u001b[0m \u001b[0mdf\u001b[0m\u001b[0;34m.\u001b[0m\u001b[0mhead\u001b[0m\u001b[0;34m(\u001b[0m\u001b[0;34m)\u001b[0m\u001b[0;34m\u001b[0m\u001b[0;34m\u001b[0m\u001b[0m\n",
      "\u001b[0;32m/opt/anaconda3/envs/learn-env/lib/python3.6/site-packages/pandas/io/parsers.py\u001b[0m in \u001b[0;36mparser_f\u001b[0;34m(filepath_or_buffer, sep, delimiter, header, names, index_col, usecols, squeeze, prefix, mangle_dupe_cols, dtype, engine, converters, true_values, false_values, skipinitialspace, skiprows, skipfooter, nrows, na_values, keep_default_na, na_filter, verbose, skip_blank_lines, parse_dates, infer_datetime_format, keep_date_col, date_parser, dayfirst, cache_dates, iterator, chunksize, compression, thousands, decimal, lineterminator, quotechar, quoting, doublequote, escapechar, comment, encoding, dialect, error_bad_lines, warn_bad_lines, delim_whitespace, low_memory, memory_map, float_precision)\u001b[0m\n\u001b[1;32m    683\u001b[0m         )\n\u001b[1;32m    684\u001b[0m \u001b[0;34m\u001b[0m\u001b[0m\n\u001b[0;32m--> 685\u001b[0;31m         \u001b[0;32mreturn\u001b[0m \u001b[0m_read\u001b[0m\u001b[0;34m(\u001b[0m\u001b[0mfilepath_or_buffer\u001b[0m\u001b[0;34m,\u001b[0m \u001b[0mkwds\u001b[0m\u001b[0;34m)\u001b[0m\u001b[0;34m\u001b[0m\u001b[0;34m\u001b[0m\u001b[0m\n\u001b[0m\u001b[1;32m    686\u001b[0m \u001b[0;34m\u001b[0m\u001b[0m\n\u001b[1;32m    687\u001b[0m     \u001b[0mparser_f\u001b[0m\u001b[0;34m.\u001b[0m\u001b[0m__name__\u001b[0m \u001b[0;34m=\u001b[0m \u001b[0mname\u001b[0m\u001b[0;34m\u001b[0m\u001b[0;34m\u001b[0m\u001b[0m\n",
      "\u001b[0;32m/opt/anaconda3/envs/learn-env/lib/python3.6/site-packages/pandas/io/parsers.py\u001b[0m in \u001b[0;36m_read\u001b[0;34m(filepath_or_buffer, kwds)\u001b[0m\n\u001b[1;32m    455\u001b[0m \u001b[0;34m\u001b[0m\u001b[0m\n\u001b[1;32m    456\u001b[0m     \u001b[0;31m# Create the parser.\u001b[0m\u001b[0;34m\u001b[0m\u001b[0;34m\u001b[0m\u001b[0;34m\u001b[0m\u001b[0m\n\u001b[0;32m--> 457\u001b[0;31m     \u001b[0mparser\u001b[0m \u001b[0;34m=\u001b[0m \u001b[0mTextFileReader\u001b[0m\u001b[0;34m(\u001b[0m\u001b[0mfp_or_buf\u001b[0m\u001b[0;34m,\u001b[0m \u001b[0;34m**\u001b[0m\u001b[0mkwds\u001b[0m\u001b[0;34m)\u001b[0m\u001b[0;34m\u001b[0m\u001b[0;34m\u001b[0m\u001b[0m\n\u001b[0m\u001b[1;32m    458\u001b[0m \u001b[0;34m\u001b[0m\u001b[0m\n\u001b[1;32m    459\u001b[0m     \u001b[0;32mif\u001b[0m \u001b[0mchunksize\u001b[0m \u001b[0;32mor\u001b[0m \u001b[0miterator\u001b[0m\u001b[0;34m:\u001b[0m\u001b[0;34m\u001b[0m\u001b[0;34m\u001b[0m\u001b[0m\n",
      "\u001b[0;32m/opt/anaconda3/envs/learn-env/lib/python3.6/site-packages/pandas/io/parsers.py\u001b[0m in \u001b[0;36m__init__\u001b[0;34m(self, f, engine, **kwds)\u001b[0m\n\u001b[1;32m    893\u001b[0m             \u001b[0mself\u001b[0m\u001b[0;34m.\u001b[0m\u001b[0moptions\u001b[0m\u001b[0;34m[\u001b[0m\u001b[0;34m\"has_index_names\"\u001b[0m\u001b[0;34m]\u001b[0m \u001b[0;34m=\u001b[0m \u001b[0mkwds\u001b[0m\u001b[0;34m[\u001b[0m\u001b[0;34m\"has_index_names\"\u001b[0m\u001b[0;34m]\u001b[0m\u001b[0;34m\u001b[0m\u001b[0;34m\u001b[0m\u001b[0m\n\u001b[1;32m    894\u001b[0m \u001b[0;34m\u001b[0m\u001b[0m\n\u001b[0;32m--> 895\u001b[0;31m         \u001b[0mself\u001b[0m\u001b[0;34m.\u001b[0m\u001b[0m_make_engine\u001b[0m\u001b[0;34m(\u001b[0m\u001b[0mself\u001b[0m\u001b[0;34m.\u001b[0m\u001b[0mengine\u001b[0m\u001b[0;34m)\u001b[0m\u001b[0;34m\u001b[0m\u001b[0;34m\u001b[0m\u001b[0m\n\u001b[0m\u001b[1;32m    896\u001b[0m \u001b[0;34m\u001b[0m\u001b[0m\n\u001b[1;32m    897\u001b[0m     \u001b[0;32mdef\u001b[0m \u001b[0mclose\u001b[0m\u001b[0;34m(\u001b[0m\u001b[0mself\u001b[0m\u001b[0;34m)\u001b[0m\u001b[0;34m:\u001b[0m\u001b[0;34m\u001b[0m\u001b[0;34m\u001b[0m\u001b[0m\n",
      "\u001b[0;32m/opt/anaconda3/envs/learn-env/lib/python3.6/site-packages/pandas/io/parsers.py\u001b[0m in \u001b[0;36m_make_engine\u001b[0;34m(self, engine)\u001b[0m\n\u001b[1;32m   1133\u001b[0m     \u001b[0;32mdef\u001b[0m \u001b[0m_make_engine\u001b[0m\u001b[0;34m(\u001b[0m\u001b[0mself\u001b[0m\u001b[0;34m,\u001b[0m \u001b[0mengine\u001b[0m\u001b[0;34m=\u001b[0m\u001b[0;34m\"c\"\u001b[0m\u001b[0;34m)\u001b[0m\u001b[0;34m:\u001b[0m\u001b[0;34m\u001b[0m\u001b[0;34m\u001b[0m\u001b[0m\n\u001b[1;32m   1134\u001b[0m         \u001b[0;32mif\u001b[0m \u001b[0mengine\u001b[0m \u001b[0;34m==\u001b[0m \u001b[0;34m\"c\"\u001b[0m\u001b[0;34m:\u001b[0m\u001b[0;34m\u001b[0m\u001b[0;34m\u001b[0m\u001b[0m\n\u001b[0;32m-> 1135\u001b[0;31m             \u001b[0mself\u001b[0m\u001b[0;34m.\u001b[0m\u001b[0m_engine\u001b[0m \u001b[0;34m=\u001b[0m \u001b[0mCParserWrapper\u001b[0m\u001b[0;34m(\u001b[0m\u001b[0mself\u001b[0m\u001b[0;34m.\u001b[0m\u001b[0mf\u001b[0m\u001b[0;34m,\u001b[0m \u001b[0;34m**\u001b[0m\u001b[0mself\u001b[0m\u001b[0;34m.\u001b[0m\u001b[0moptions\u001b[0m\u001b[0;34m)\u001b[0m\u001b[0;34m\u001b[0m\u001b[0;34m\u001b[0m\u001b[0m\n\u001b[0m\u001b[1;32m   1136\u001b[0m         \u001b[0;32melse\u001b[0m\u001b[0;34m:\u001b[0m\u001b[0;34m\u001b[0m\u001b[0;34m\u001b[0m\u001b[0m\n\u001b[1;32m   1137\u001b[0m             \u001b[0;32mif\u001b[0m \u001b[0mengine\u001b[0m \u001b[0;34m==\u001b[0m \u001b[0;34m\"python\"\u001b[0m\u001b[0;34m:\u001b[0m\u001b[0;34m\u001b[0m\u001b[0;34m\u001b[0m\u001b[0m\n",
      "\u001b[0;32m/opt/anaconda3/envs/learn-env/lib/python3.6/site-packages/pandas/io/parsers.py\u001b[0m in \u001b[0;36m__init__\u001b[0;34m(self, src, **kwds)\u001b[0m\n\u001b[1;32m   1915\u001b[0m         \u001b[0mkwds\u001b[0m\u001b[0;34m[\u001b[0m\u001b[0;34m\"usecols\"\u001b[0m\u001b[0;34m]\u001b[0m \u001b[0;34m=\u001b[0m \u001b[0mself\u001b[0m\u001b[0;34m.\u001b[0m\u001b[0musecols\u001b[0m\u001b[0;34m\u001b[0m\u001b[0;34m\u001b[0m\u001b[0m\n\u001b[1;32m   1916\u001b[0m \u001b[0;34m\u001b[0m\u001b[0m\n\u001b[0;32m-> 1917\u001b[0;31m         \u001b[0mself\u001b[0m\u001b[0;34m.\u001b[0m\u001b[0m_reader\u001b[0m \u001b[0;34m=\u001b[0m \u001b[0mparsers\u001b[0m\u001b[0;34m.\u001b[0m\u001b[0mTextReader\u001b[0m\u001b[0;34m(\u001b[0m\u001b[0msrc\u001b[0m\u001b[0;34m,\u001b[0m \u001b[0;34m**\u001b[0m\u001b[0mkwds\u001b[0m\u001b[0;34m)\u001b[0m\u001b[0;34m\u001b[0m\u001b[0;34m\u001b[0m\u001b[0m\n\u001b[0m\u001b[1;32m   1918\u001b[0m         \u001b[0mself\u001b[0m\u001b[0;34m.\u001b[0m\u001b[0munnamed_cols\u001b[0m \u001b[0;34m=\u001b[0m \u001b[0mself\u001b[0m\u001b[0;34m.\u001b[0m\u001b[0m_reader\u001b[0m\u001b[0;34m.\u001b[0m\u001b[0munnamed_cols\u001b[0m\u001b[0;34m\u001b[0m\u001b[0;34m\u001b[0m\u001b[0m\n\u001b[1;32m   1919\u001b[0m \u001b[0;34m\u001b[0m\u001b[0m\n",
      "\u001b[0;32mpandas/_libs/parsers.pyx\u001b[0m in \u001b[0;36mpandas._libs.parsers.TextReader.__cinit__\u001b[0;34m()\u001b[0m\n",
      "\u001b[0;32mpandas/_libs/parsers.pyx\u001b[0m in \u001b[0;36mpandas._libs.parsers.TextReader._setup_parser_source\u001b[0;34m()\u001b[0m\n",
      "\u001b[0;31mFileNotFoundError\u001b[0m: [Errno 2] File b'data/TX_Buyers_Shipment_Location_Data.csv' does not exist: b'data/TX_Buyers_Shipment_Location_Data.csv'"
     ]
    }
   ],
   "source": [
    "df = pd.read_csv(\"data/TX_Buyers_Shipment_Location_Data.csv\",\n",
    "                 usecols=[\"REPORTER_NAME\", \"REPORTER_LAT\", \"REPORTER_LONG\",\n",
    "                          \"BUYER_NAME\", \"BUYER_LAT\", \"BUYER_LONG\",\n",
    "                          \"TRANSACTION_DATE\", \"DOSAGE_UNIT\"])\n",
    "df.head()"
   ]
  },
  {
   "cell_type": "code",
   "execution_count": 3,
   "metadata": {},
   "outputs": [],
   "source": [
    "df[\"TRANSACTION_DATE\"] = pd.to_datetime(df[\"TRANSACTION_DATE\"],\n",
    "                                          format='%Y-%m-%d')"
   ]
  },
  {
   "cell_type": "code",
   "execution_count": 4,
   "metadata": {},
   "outputs": [],
   "source": [
    "df[\"TRANSACTION_YEAR\"] = df[\"TRANSACTION_DATE\"].dt.year"
   ]
  },
  {
   "cell_type": "code",
   "execution_count": 5,
   "metadata": {},
   "outputs": [],
   "source": [
    "df.drop(columns=\"TRANSACTION_DATE\", inplace=True)"
   ]
  },
  {
   "cell_type": "code",
   "execution_count": 6,
   "metadata": {},
   "outputs": [],
   "source": [
    "data_agg = df.groupby([\"REPORTER_NAME\", \"REPORTER_LAT\", \"REPORTER_LONG\",\n",
    "                       \"BUYER_NAME\", \"BUYER_LAT\", \"BUYER_LONG\",\n",
    "                       \"TRANSACTION_YEAR\"]).agg({\"DOSAGE_UNIT\": \"sum\"}).reset_index()"
   ]
  },
  {
   "cell_type": "code",
   "execution_count": 7,
   "metadata": {
    "scrolled": true
   },
   "outputs": [
    {
     "data": {
      "text/html": [
       "<div>\n",
       "<style scoped>\n",
       "    .dataframe tbody tr th:only-of-type {\n",
       "        vertical-align: middle;\n",
       "    }\n",
       "\n",
       "    .dataframe tbody tr th {\n",
       "        vertical-align: top;\n",
       "    }\n",
       "\n",
       "    .dataframe thead th {\n",
       "        text-align: right;\n",
       "    }\n",
       "</style>\n",
       "<table border=\"1\" class=\"dataframe\">\n",
       "  <thead>\n",
       "    <tr style=\"text-align: right;\">\n",
       "      <th></th>\n",
       "      <th>REPORTER_NAME</th>\n",
       "      <th>REPORTER_LAT</th>\n",
       "      <th>REPORTER_LONG</th>\n",
       "      <th>BUYER_NAME</th>\n",
       "      <th>BUYER_LAT</th>\n",
       "      <th>BUYER_LONG</th>\n",
       "      <th>TRANSACTION_YEAR</th>\n",
       "      <th>DOSAGE_UNIT</th>\n",
       "    </tr>\n",
       "  </thead>\n",
       "  <tbody>\n",
       "    <tr>\n",
       "      <th>0</th>\n",
       "      <td>A F HAUSER, INC</td>\n",
       "      <td>41.5</td>\n",
       "      <td>-87.0</td>\n",
       "      <td>ADAMS, NATHALIA C (DVM)</td>\n",
       "      <td>33.23</td>\n",
       "      <td>-97.11</td>\n",
       "      <td>2006</td>\n",
       "      <td>5000.0</td>\n",
       "    </tr>\n",
       "    <tr>\n",
       "      <th>1</th>\n",
       "      <td>A F HAUSER, INC</td>\n",
       "      <td>41.5</td>\n",
       "      <td>-87.0</td>\n",
       "      <td>ALLRED, JOHN A</td>\n",
       "      <td>29.70</td>\n",
       "      <td>-98.10</td>\n",
       "      <td>2006</td>\n",
       "      <td>1900.0</td>\n",
       "    </tr>\n",
       "    <tr>\n",
       "      <th>2</th>\n",
       "      <td>A F HAUSER, INC</td>\n",
       "      <td>41.5</td>\n",
       "      <td>-87.0</td>\n",
       "      <td>BOBECHKO, WALTER P MD</td>\n",
       "      <td>32.90</td>\n",
       "      <td>-96.79</td>\n",
       "      <td>2006</td>\n",
       "      <td>1500.0</td>\n",
       "    </tr>\n",
       "    <tr>\n",
       "      <th>3</th>\n",
       "      <td>A F HAUSER, INC</td>\n",
       "      <td>41.5</td>\n",
       "      <td>-87.0</td>\n",
       "      <td>BRANTLEY, GARY C DVM</td>\n",
       "      <td>32.97</td>\n",
       "      <td>-96.74</td>\n",
       "      <td>2009</td>\n",
       "      <td>700.0</td>\n",
       "    </tr>\n",
       "    <tr>\n",
       "      <th>4</th>\n",
       "      <td>A F HAUSER, INC</td>\n",
       "      <td>41.5</td>\n",
       "      <td>-87.0</td>\n",
       "      <td>BRANTLEY, GARY C DVM</td>\n",
       "      <td>32.97</td>\n",
       "      <td>-96.74</td>\n",
       "      <td>2010</td>\n",
       "      <td>200.0</td>\n",
       "    </tr>\n",
       "  </tbody>\n",
       "</table>\n",
       "</div>"
      ],
      "text/plain": [
       "     REPORTER_NAME  REPORTER_LAT  REPORTER_LONG               BUYER_NAME  \\\n",
       "0  A F HAUSER, INC          41.5          -87.0  ADAMS, NATHALIA C (DVM)   \n",
       "1  A F HAUSER, INC          41.5          -87.0           ALLRED, JOHN A   \n",
       "2  A F HAUSER, INC          41.5          -87.0    BOBECHKO, WALTER P MD   \n",
       "3  A F HAUSER, INC          41.5          -87.0     BRANTLEY, GARY C DVM   \n",
       "4  A F HAUSER, INC          41.5          -87.0     BRANTLEY, GARY C DVM   \n",
       "\n",
       "   BUYER_LAT  BUYER_LONG  TRANSACTION_YEAR  DOSAGE_UNIT  \n",
       "0      33.23      -97.11              2006       5000.0  \n",
       "1      29.70      -98.10              2006       1900.0  \n",
       "2      32.90      -96.79              2006       1500.0  \n",
       "3      32.97      -96.74              2009        700.0  \n",
       "4      32.97      -96.74              2010        200.0  "
      ]
     },
     "execution_count": 7,
     "metadata": {},
     "output_type": "execute_result"
    }
   ],
   "source": [
    "data_agg.head()"
   ]
  },
  {
   "cell_type": "code",
   "execution_count": 8,
   "metadata": {
    "scrolled": true
   },
   "outputs": [
    {
     "data": {
      "text/plain": [
       "(85658, 8)"
      ]
     },
     "execution_count": 8,
     "metadata": {},
     "output_type": "execute_result"
    }
   ],
   "source": [
    "data_agg.shape"
   ]
  },
  {
   "cell_type": "code",
   "execution_count": 9,
   "metadata": {
    "scrolled": true
   },
   "outputs": [
    {
     "data": {
      "text/plain": [
       "count    8.565800e+04\n",
       "mean     6.341626e+04\n",
       "std      1.285731e+05\n",
       "min      1.000000e+00\n",
       "25%      1.400000e+03\n",
       "50%      1.046000e+04\n",
       "75%      7.013000e+04\n",
       "max      3.830800e+06\n",
       "Name: DOSAGE_UNIT, dtype: float64"
      ]
     },
     "execution_count": 9,
     "metadata": {},
     "output_type": "execute_result"
    }
   ],
   "source": [
    "data_agg[\"DOSAGE_UNIT\"].describe()"
   ]
  },
  {
   "cell_type": "code",
   "execution_count": 24,
   "metadata": {},
   "outputs": [],
   "source": [
    "data_agg['TEXT'] = data_agg['BUYER_NAME'] + '<br>Total Pills ' + (data_agg['DOSAGE_UNIT']).astype(str)"
   ]
  },
  {
   "cell_type": "code",
   "execution_count": 26,
   "metadata": {},
   "outputs": [],
   "source": [
    "# data_agg.to_csv(\"data/TX_County_Buyer_Data_Aggregated.csv\", index=False)"
   ]
  },
  {
   "cell_type": "code",
   "execution_count": 10,
   "metadata": {
    "scrolled": true
   },
   "outputs": [
    {
     "data": {
      "text/plain": [
       "[2006, 2007, 2008, 2009, 2010, 2011, 2012]"
      ]
     },
     "execution_count": 10,
     "metadata": {},
     "output_type": "execute_result"
    }
   ],
   "source": [
    "years = list(range(2006,2013))\n",
    "years"
   ]
  },
  {
   "cell_type": "code",
   "execution_count": 11,
   "metadata": {},
   "outputs": [
    {
     "data": {
      "application/vnd.jupyter.widget-view+json": {
       "model_id": "ccc6c611c94040498fe3b8190866f525",
       "version_major": 2,
       "version_minor": 0
      },
      "text/plain": [
       "interactive(children=(Dropdown(description='year', options=(2006, 2007, 2008, 2009, 2010, 2011, 2012), value=2…"
      ]
     },
     "metadata": {},
     "output_type": "display_data"
    }
   ],
   "source": [
    "# Using the ipywidgets\n",
    "@interact\n",
    "# Defining our visualization function\n",
    "# Here, the init values in the function define the dropdown menus\n",
    "def track_shipments(year=years):\n",
    "\n",
    "    # Creating a dataframe based on the year chosen\n",
    "    df = data_agg.loc[data_agg[\"TRANSACTION_YEAR\"] == year]\n",
    "\n",
    "    fig = go.Figure()\n",
    "\n",
    "    fig.add_trace(go.Scattergeo(\n",
    "        locationmode='USA-states',\n",
    "        lon=df['BUYER_LONG'],\n",
    "        lat=df['BUYER_LAT'],\n",
    "        text=df['BUYER_NAME'],\n",
    "        hoverinfo='text',\n",
    "        mode='markers',\n",
    "        marker=dict(\n",
    "            size=df[\"DOSAGE_UNIT\"] / 100000,\n",
    "            color=df[\"DOSAGE_UNIT\"],\n",
    "            colorscale=\"Viridis\",\n",
    "            line=dict(\n",
    "                width=3,\n",
    "                color='rgba(68, 68, 68, 0)'\n",
    "            )\n",
    "        )))\n",
    "\n",
    "    fig.update_layout(\n",
    "        title_text=\"Received Opioid Shipments in Texas, \" + str(year),\n",
    "        showlegend=False,\n",
    "        geo=go.layout.Geo(\n",
    "            scope='usa',\n",
    "            projection=go.layout.geo.Projection(\n",
    "                type='albers usa',\n",
    "                scale=2.3\n",
    "            ),\n",
    "            center={'lat': 31.9686, 'lon': -99.9018},\n",
    "            showland=True,\n",
    "            landcolor='rgb(243, 243, 243)',\n",
    "            countrycolor='rgb(204, 204, 204)',\n",
    "\n",
    "        )\n",
    "    )\n",
    "\n",
    "    fig.show()\n",
    "    \n",
    "#     offline.plot(fig, filename='opioids_received_TX'+'.html') "
   ]
  },
  {
   "cell_type": "code",
   "execution_count": 12,
   "metadata": {},
   "outputs": [],
   "source": [
    "import dash\n",
    "import dash_core_components as dcc\n",
    "import dash_html_components as html\n",
    "from dash.dependencies import Input, Output "
   ]
  },
  {
   "cell_type": "code",
   "execution_count": 13,
   "metadata": {},
   "outputs": [],
   "source": [
    "external_stylesheets = ['https://codepen.io/chriddyp/pen/bWLwgP.css']\n",
    "app = dash.Dash(\"Opioid_Data_Visualizing_Buyer_Locations\",\n",
    "                external_stylesheets=external_stylesheets)\n",
    "\n",
    "app.layout = html.Div([\n",
    "    dcc.Graph(id='graph-with-slider'),\n",
    "    dcc.Slider(\n",
    "        id='year-slider',\n",
    "        min=data_agg[\"TRANSACTION_YEAR\"].min(),\n",
    "        max=data_agg[\"TRANSACTION_YEAR\"].max(),\n",
    "        value=data_agg[\"TRANSACTION_YEAR\"].min(),\n",
    "        marks={str(year): str(year)\n",
    "               for year in data_agg[\"TRANSACTION_YEAR\"].unique()},\n",
    "        step=None\n",
    "    )\n",
    "])\n",
    "\n",
    "\n",
    "@app.callback(\n",
    "    Output('graph-with-slider', 'figure'),\n",
    "    [Input('year-slider', 'value')])\n",
    "def update_figure(selected_year):\n",
    "    filtered_df = data_agg.loc[data_agg[\"TRANSACTION_YEAR\"] == selected_year]\n",
    "    traces = go.Scattergeo(\n",
    "        locationmode='USA-states',\n",
    "        lon=df['BUYER_LONG'],\n",
    "        lat=df['BUYER_LAT'],\n",
    "        text=df['BUYER_NAME'],\n",
    "        hoverinfo='text',\n",
    "        mode='markers',\n",
    "        marker=dict(\n",
    "            size=df[\"DOSAGE_UNIT\"] / 100000,\n",
    "            color=df[\"DOSAGE_UNIT\"],\n",
    "            colorscale=\"Viridis\",\n",
    "            line=dict(\n",
    "                width=3,\n",
    "                color='rgba(68, 68, 68, 0)'\n",
    "            )\n",
    "        ))\n",
    "\n",
    "    return {\n",
    "        'data': traces,\n",
    "        'layout': go.Layout(\n",
    "            title_text=\"Received Opioid Shipments in Texas, \" + str(year),\n",
    "            showlegend=False,\n",
    "            geo=go.layout.Geo(\n",
    "                scope='usa',\n",
    "                projection=go.layout.geo.Projection(\n",
    "                    type='albers usa',\n",
    "                    scale=2.3\n",
    "                ),\n",
    "                center={'lat': 31.9686, 'lon': -99.9018},\n",
    "                showland=True,\n",
    "                landcolor='rgb(243, 243, 243)',\n",
    "                countrycolor='rgb(204, 204, 204)',\n",
    "            )\n",
    "        )\n",
    "    }"
   ]
  },
  {
   "cell_type": "code",
   "execution_count": 18,
   "metadata": {},
   "outputs": [],
   "source": [
    "external_stylesheets = ['https://codepen.io/chriddyp/pen/bWLwgP.css']\n",
    "app = dash.Dash(\"Opioid_Data_Visualizing_Buyer_Locations\",\n",
    "                external_stylesheets=external_stylesheets)\n",
    "\n",
    "datamap = go.Data([go.Scattergeo(\n",
    "    lat = ['38.91427', '38.91538', '38.91458',\n",
    "        '38.92239', '38.93222', '38.90842',\n",
    "        '38.91931', '38.93260', '38.91368',\n",
    "        '38.88516', '38.921894', '38.93206',\n",
    "        '38.91275'\n",
    "    ],\n",
    "    lon = ['-77.02827', '-77.02013', '-77.03155',\n",
    "        '-77.04227', '-77.02854', '-77.02419',\n",
    "        '-77.02518', '-77.03304', '-77.04509',\n",
    "        '-76.99656', '-77.042438', '-77.02821',\n",
    "        '-77.01239'\n",
    "    ],\n",
    "    mode = 'markers+lines',\n",
    "    line = dict(width = 2),\n",
    "    marker = go.Marker(\n",
    "        size = 11\n",
    "      )\n",
    "    )])\n",
    "\n",
    "layoutmap = go.Layout(\n",
    "    height = 700,\n",
    "    autosize = True,\n",
    "    showlegend = False,\n",
    "    hovermode = 'closest',\n",
    "    geo = dict(\n",
    "        projection = dict(type = \"equirectangular\"),\n",
    "        ),\n",
    "    mapbox = dict(\n",
    "        bearing = 1,\n",
    "        center = dict(\n",
    "            lat = 38.92,\n",
    "            lon = -77.07\n",
    "            ),\n",
    "        pitch = 0,\n",
    "        zoom = 5,\n",
    "    ),\n",
    ")\n",
    "\n",
    "fig = dict( data=datamap, layout=layoutmap )  \n",
    "\n",
    "\n",
    "app.layout = html.Div([dcc.Graph(id='graph', figure=fig)])"
   ]
  },
  {
   "cell_type": "code",
   "execution_count": null,
   "metadata": {},
   "outputs": [],
   "source": []
  }
 ],
 "metadata": {
  "kernelspec": {
   "display_name": "Python 3",
   "language": "python",
   "name": "python3"
  },
  "language_info": {
   "codemirror_mode": {
    "name": "ipython",
    "version": 3
   },
   "file_extension": ".py",
   "mimetype": "text/x-python",
   "name": "python",
   "nbconvert_exporter": "python",
   "pygments_lexer": "ipython3",
   "version": "3.6.9"
  }
 },
 "nbformat": 4,
 "nbformat_minor": 2
}
