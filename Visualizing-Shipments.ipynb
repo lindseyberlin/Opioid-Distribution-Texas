{
 "cells": [
  {
   "cell_type": "code",
   "execution_count": 62,
   "metadata": {},
   "outputs": [],
   "source": [
    "# Imports\n",
    "\n",
    "# Data import and manipulation\n",
    "import pandas as pd\n",
    "# Math\n",
    "import numpy as np\n",
    "# Let's go ahead and seed the notebook, for reproducibility\n",
    "np.random.seed(113)\n",
    "\n",
    "# Visualizing\n",
    "import plotly.graph_objects as go\n",
    "import plotly.express as px\n",
    "import plotly.offline as offline\n",
    "\n",
    "from viz_utils import *\n",
    "\n",
    "# Interactive widget\n",
    "import ipywidgets as widgets\n",
    "from ipywidgets import interact, interact_manual"
   ]
  },
  {
   "cell_type": "code",
   "execution_count": 2,
   "metadata": {
    "scrolled": true
   },
   "outputs": [
    {
     "data": {
      "text/html": [
       "<div>\n",
       "<style scoped>\n",
       "    .dataframe tbody tr th:only-of-type {\n",
       "        vertical-align: middle;\n",
       "    }\n",
       "\n",
       "    .dataframe tbody tr th {\n",
       "        vertical-align: top;\n",
       "    }\n",
       "\n",
       "    .dataframe thead th {\n",
       "        text-align: right;\n",
       "    }\n",
       "</style>\n",
       "<table border=\"1\" class=\"dataframe\">\n",
       "  <thead>\n",
       "    <tr style=\"text-align: right;\">\n",
       "      <th></th>\n",
       "      <th>REPORTER_NAME</th>\n",
       "      <th>BUYER_NAME</th>\n",
       "      <th>TRANSACTION_DATE</th>\n",
       "      <th>DOSAGE_UNIT</th>\n",
       "      <th>REPORTER_LAT</th>\n",
       "      <th>REPORTER_LONG</th>\n",
       "      <th>BUYER_LAT</th>\n",
       "      <th>BUYER_LONG</th>\n",
       "    </tr>\n",
       "  </thead>\n",
       "  <tbody>\n",
       "    <tr>\n",
       "      <th>0</th>\n",
       "      <td>BELLCO DRUG CORP</td>\n",
       "      <td>LONGHORN DRUG CO</td>\n",
       "      <td>2006-01-11</td>\n",
       "      <td>500.0</td>\n",
       "      <td>40.69</td>\n",
       "      <td>-73.41</td>\n",
       "      <td>32.4</td>\n",
       "      <td>-94.90</td>\n",
       "    </tr>\n",
       "    <tr>\n",
       "      <th>1</th>\n",
       "      <td>BELLCO DRUG CORP</td>\n",
       "      <td>MALLEY'S PHARMACY</td>\n",
       "      <td>2006-01-04</td>\n",
       "      <td>500.0</td>\n",
       "      <td>40.69</td>\n",
       "      <td>-73.41</td>\n",
       "      <td>30.1</td>\n",
       "      <td>-94.17</td>\n",
       "    </tr>\n",
       "    <tr>\n",
       "      <th>2</th>\n",
       "      <td>BELLCO DRUG CORP</td>\n",
       "      <td>MALLEY'S PHARMACY</td>\n",
       "      <td>2006-11-02</td>\n",
       "      <td>400.0</td>\n",
       "      <td>40.69</td>\n",
       "      <td>-73.41</td>\n",
       "      <td>30.1</td>\n",
       "      <td>-94.17</td>\n",
       "    </tr>\n",
       "    <tr>\n",
       "      <th>3</th>\n",
       "      <td>BELLCO DRUG CORP</td>\n",
       "      <td>MALLEY'S PHARMACY</td>\n",
       "      <td>2007-01-04</td>\n",
       "      <td>100.0</td>\n",
       "      <td>40.69</td>\n",
       "      <td>-73.41</td>\n",
       "      <td>30.1</td>\n",
       "      <td>-94.17</td>\n",
       "    </tr>\n",
       "    <tr>\n",
       "      <th>4</th>\n",
       "      <td>BELLCO DRUG CORP</td>\n",
       "      <td>MALLEY'S PHARMACY</td>\n",
       "      <td>2007-02-14</td>\n",
       "      <td>100.0</td>\n",
       "      <td>40.69</td>\n",
       "      <td>-73.41</td>\n",
       "      <td>30.1</td>\n",
       "      <td>-94.17</td>\n",
       "    </tr>\n",
       "  </tbody>\n",
       "</table>\n",
       "</div>"
      ],
      "text/plain": [
       "      REPORTER_NAME         BUYER_NAME TRANSACTION_DATE  DOSAGE_UNIT  \\\n",
       "0  BELLCO DRUG CORP   LONGHORN DRUG CO       2006-01-11        500.0   \n",
       "1  BELLCO DRUG CORP  MALLEY'S PHARMACY       2006-01-04        500.0   \n",
       "2  BELLCO DRUG CORP  MALLEY'S PHARMACY       2006-11-02        400.0   \n",
       "3  BELLCO DRUG CORP  MALLEY'S PHARMACY       2007-01-04        100.0   \n",
       "4  BELLCO DRUG CORP  MALLEY'S PHARMACY       2007-02-14        100.0   \n",
       "\n",
       "   REPORTER_LAT  REPORTER_LONG  BUYER_LAT  BUYER_LONG  \n",
       "0         40.69         -73.41       32.4      -94.90  \n",
       "1         40.69         -73.41       30.1      -94.17  \n",
       "2         40.69         -73.41       30.1      -94.17  \n",
       "3         40.69         -73.41       30.1      -94.17  \n",
       "4         40.69         -73.41       30.1      -94.17  "
      ]
     },
     "execution_count": 2,
     "metadata": {},
     "output_type": "execute_result"
    }
   ],
   "source": [
    "df = pd.read_csv(\"data/TX_Buyers_Shipment_Location_Data.csv\",\n",
    "                 usecols=[\"REPORTER_NAME\", \"REPORTER_LAT\", \"REPORTER_LONG\",\n",
    "                          \"BUYER_NAME\", \"BUYER_LAT\", \"BUYER_LONG\",\n",
    "                          \"TRANSACTION_DATE\", \"DOSAGE_UNIT\"])\n",
    "df.head()"
   ]
  },
  {
   "cell_type": "code",
   "execution_count": 3,
   "metadata": {},
   "outputs": [],
   "source": [
    "df[\"TRANSACTION_DATE\"] = pd.to_datetime(df[\"TRANSACTION_DATE\"],\n",
    "                                          format='%Y-%m-%d')"
   ]
  },
  {
   "cell_type": "code",
   "execution_count": 4,
   "metadata": {},
   "outputs": [],
   "source": [
    "df[\"TRANSACTION_YEAR\"] = df[\"TRANSACTION_DATE\"].dt.year"
   ]
  },
  {
   "cell_type": "code",
   "execution_count": 5,
   "metadata": {},
   "outputs": [],
   "source": [
    "df.drop(columns=\"TRANSACTION_DATE\", inplace=True)"
   ]
  },
  {
   "cell_type": "code",
   "execution_count": 6,
   "metadata": {},
   "outputs": [],
   "source": [
    "data_agg = df.groupby([\"REPORTER_NAME\", \"REPORTER_LAT\", \"REPORTER_LONG\",\n",
    "                       \"BUYER_NAME\", \"BUYER_LAT\", \"BUYER_LONG\",\n",
    "                       \"TRANSACTION_YEAR\"]).agg({\"DOSAGE_UNIT\": \"sum\"}).reset_index()"
   ]
  },
  {
   "cell_type": "code",
   "execution_count": 7,
   "metadata": {
    "scrolled": true
   },
   "outputs": [
    {
     "data": {
      "text/html": [
       "<div>\n",
       "<style scoped>\n",
       "    .dataframe tbody tr th:only-of-type {\n",
       "        vertical-align: middle;\n",
       "    }\n",
       "\n",
       "    .dataframe tbody tr th {\n",
       "        vertical-align: top;\n",
       "    }\n",
       "\n",
       "    .dataframe thead th {\n",
       "        text-align: right;\n",
       "    }\n",
       "</style>\n",
       "<table border=\"1\" class=\"dataframe\">\n",
       "  <thead>\n",
       "    <tr style=\"text-align: right;\">\n",
       "      <th></th>\n",
       "      <th>REPORTER_NAME</th>\n",
       "      <th>REPORTER_LAT</th>\n",
       "      <th>REPORTER_LONG</th>\n",
       "      <th>BUYER_NAME</th>\n",
       "      <th>BUYER_LAT</th>\n",
       "      <th>BUYER_LONG</th>\n",
       "      <th>TRANSACTION_YEAR</th>\n",
       "      <th>DOSAGE_UNIT</th>\n",
       "    </tr>\n",
       "  </thead>\n",
       "  <tbody>\n",
       "    <tr>\n",
       "      <th>0</th>\n",
       "      <td>A F HAUSER, INC</td>\n",
       "      <td>41.5</td>\n",
       "      <td>-87.0</td>\n",
       "      <td>ADAMS, NATHALIA C (DVM)</td>\n",
       "      <td>33.23</td>\n",
       "      <td>-97.11</td>\n",
       "      <td>2006</td>\n",
       "      <td>5000.0</td>\n",
       "    </tr>\n",
       "    <tr>\n",
       "      <th>1</th>\n",
       "      <td>A F HAUSER, INC</td>\n",
       "      <td>41.5</td>\n",
       "      <td>-87.0</td>\n",
       "      <td>ALLRED, JOHN A</td>\n",
       "      <td>29.70</td>\n",
       "      <td>-98.10</td>\n",
       "      <td>2006</td>\n",
       "      <td>1900.0</td>\n",
       "    </tr>\n",
       "    <tr>\n",
       "      <th>2</th>\n",
       "      <td>A F HAUSER, INC</td>\n",
       "      <td>41.5</td>\n",
       "      <td>-87.0</td>\n",
       "      <td>BOBECHKO, WALTER P MD</td>\n",
       "      <td>32.90</td>\n",
       "      <td>-96.79</td>\n",
       "      <td>2006</td>\n",
       "      <td>1500.0</td>\n",
       "    </tr>\n",
       "    <tr>\n",
       "      <th>3</th>\n",
       "      <td>A F HAUSER, INC</td>\n",
       "      <td>41.5</td>\n",
       "      <td>-87.0</td>\n",
       "      <td>BRANTLEY, GARY C DVM</td>\n",
       "      <td>32.97</td>\n",
       "      <td>-96.74</td>\n",
       "      <td>2009</td>\n",
       "      <td>700.0</td>\n",
       "    </tr>\n",
       "    <tr>\n",
       "      <th>4</th>\n",
       "      <td>A F HAUSER, INC</td>\n",
       "      <td>41.5</td>\n",
       "      <td>-87.0</td>\n",
       "      <td>BRANTLEY, GARY C DVM</td>\n",
       "      <td>32.97</td>\n",
       "      <td>-96.74</td>\n",
       "      <td>2010</td>\n",
       "      <td>200.0</td>\n",
       "    </tr>\n",
       "  </tbody>\n",
       "</table>\n",
       "</div>"
      ],
      "text/plain": [
       "     REPORTER_NAME  REPORTER_LAT  REPORTER_LONG               BUYER_NAME  \\\n",
       "0  A F HAUSER, INC          41.5          -87.0  ADAMS, NATHALIA C (DVM)   \n",
       "1  A F HAUSER, INC          41.5          -87.0           ALLRED, JOHN A   \n",
       "2  A F HAUSER, INC          41.5          -87.0    BOBECHKO, WALTER P MD   \n",
       "3  A F HAUSER, INC          41.5          -87.0     BRANTLEY, GARY C DVM   \n",
       "4  A F HAUSER, INC          41.5          -87.0     BRANTLEY, GARY C DVM   \n",
       "\n",
       "   BUYER_LAT  BUYER_LONG  TRANSACTION_YEAR  DOSAGE_UNIT  \n",
       "0      33.23      -97.11              2006       5000.0  \n",
       "1      29.70      -98.10              2006       1900.0  \n",
       "2      32.90      -96.79              2006       1500.0  \n",
       "3      32.97      -96.74              2009        700.0  \n",
       "4      32.97      -96.74              2010        200.0  "
      ]
     },
     "execution_count": 7,
     "metadata": {},
     "output_type": "execute_result"
    }
   ],
   "source": [
    "data_agg.head()"
   ]
  },
  {
   "cell_type": "code",
   "execution_count": 8,
   "metadata": {
    "scrolled": true
   },
   "outputs": [
    {
     "data": {
      "text/plain": [
       "(85658, 8)"
      ]
     },
     "execution_count": 8,
     "metadata": {},
     "output_type": "execute_result"
    }
   ],
   "source": [
    "data_agg.shape"
   ]
  },
  {
   "cell_type": "code",
   "execution_count": 39,
   "metadata": {},
   "outputs": [
    {
     "data": {
      "text/plain": [
       "count    8.565800e+04\n",
       "mean     6.341626e+04\n",
       "std      1.285731e+05\n",
       "min      1.000000e+00\n",
       "25%      1.400000e+03\n",
       "50%      1.046000e+04\n",
       "75%      7.013000e+04\n",
       "max      3.830800e+06\n",
       "Name: DOSAGE_UNIT, dtype: float64"
      ]
     },
     "execution_count": 39,
     "metadata": {},
     "output_type": "execute_result"
    }
   ],
   "source": [
    "data_agg[\"DOSAGE_UNIT\"].describe()\n"
   ]
  },
  {
   "cell_type": "code",
   "execution_count": 9,
   "metadata": {
    "scrolled": true
   },
   "outputs": [
    {
     "data": {
      "text/plain": [
       "[2006, 2007, 2008, 2009, 2010, 2011, 2012]"
      ]
     },
     "execution_count": 9,
     "metadata": {},
     "output_type": "execute_result"
    }
   ],
   "source": [
    "years = list(range(2006,2013))\n",
    "years"
   ]
  },
  {
   "cell_type": "code",
   "execution_count": 10,
   "metadata": {},
   "outputs": [],
   "source": [
    "# def grab_year_lat_long_weight(df):\n",
    "#     max_weight = df[\"DOSAGE_UNIT\"].max()\n",
    "    \n",
    "#     year_dict = {}\n",
    "#     for year in years:\n",
    "#         year_df = df.loc[df[\"TRANSACTION_YEAR\"] == year]\n",
    "        \n",
    "#         year_lat_list = []\n",
    "#         year_lon_list = []\n",
    "#         year_weight_list = []\n",
    "        \n",
    "#         for i in year_df.index:\n",
    "#             i_lat_list = [year_df[\"REPORTER_LAT\"][i], year_df[\"BUYER_LAT\"][i]]\n",
    "#             year_lat_list.append(i_lat_list)\n",
    "            \n",
    "#             i_lon_list = [year_df[\"REPORTER_LONG\"][i], year_df[\"BUYER_LONG\"][i]]\n",
    "#             year_lon_list.append(i_lon_list)\n",
    "            \n",
    "#             i_weight = year_df[\"DOSAGE_UNIT\"][i] / max_weight\n",
    "#             year_weight_list.append(i_weight)\n",
    "        \n",
    "#         year_dict[year] = [year_lat_list, year_lon_list, year_weight_list]\n",
    "            \n",
    "#     return year_dict"
   ]
  },
  {
   "cell_type": "code",
   "execution_count": 11,
   "metadata": {
    "scrolled": false
   },
   "outputs": [],
   "source": [
    "# lat_long_weight_dict = grab_year_lat_long_weight(data_agg)"
   ]
  },
  {
   "cell_type": "code",
   "execution_count": 12,
   "metadata": {},
   "outputs": [],
   "source": [
    "# from plotly.graph_objs import *"
   ]
  },
  {
   "cell_type": "code",
   "execution_count": 13,
   "metadata": {},
   "outputs": [],
   "source": [
    "# fig_dict = {\n",
    "#     \"data\": [],\n",
    "#     \"layout\": {},\n",
    "#     \"frames\": []\n",
    "# }\n",
    "\n",
    "# fig_dict[\"layout\"][\"sliders\"] = {\n",
    "#     \"args\": [\n",
    "#         \"transition\", {\n",
    "#             \"duration\": 400,\n",
    "#             \"easing\": \"cubic-in-out\"\n",
    "#         }\n",
    "#     ],\n",
    "#     \"initialValue\": \"2006\",\n",
    "#     \"plotlycommand\": \"animate\",\n",
    "#     \"values\": years,\n",
    "#     \"visible\": True\n",
    "# }\n",
    "\n",
    "# sliders_dict = {\n",
    "#     \"active\": 0,\n",
    "#     \"yanchor\": \"top\",\n",
    "#     \"xanchor\": \"left\",\n",
    "#     \"currentvalue\": {\n",
    "#         \"font\": {\"size\": 20},\n",
    "#         \"prefix\": \"Year:\",\n",
    "#         \"visible\": True,\n",
    "#         \"xanchor\": \"right\"\n",
    "#     },\n",
    "#     \"transition\": {\"duration\": 300, \"easing\": \"cubic-in-out\"},\n",
    "#     \"pad\": {\"b\": 10, \"t\": 50},\n",
    "#     \"len\": 0.9,\n",
    "#     \"x\": 0.1,\n",
    "#     \"y\": 0,\n",
    "#     \"steps\": []\n",
    "# }\n",
    "\n",
    "# first_year = 2006\n",
    "# first_data_dict = {\n",
    "#     \"type\": \"line_geo\",\n",
    "#     \"lat\": lat_long_weight_dict[first_year][0],\n",
    "#     \"lon\": lat_long_weight_dict[first_year][1],\n",
    "#     \"mode\": \"lines\",\n",
    "#     \"locationmode\": \"USA-states\",\n",
    "#     \"line\": dict(width=1, color=\"red\"),\n",
    "#     \"opacity\": lat_long_weight_dict[first_year][2]\n",
    "# }\n",
    "\n",
    "# for year in years:\n",
    "#     frame = {\"data\": [], \"name\": str(year)}\n",
    "\n",
    "#     data_dict = {\n",
    "#         \"type\": \"line_geo\",\n",
    "#         \"lat\": lat_long_weight_dict[year][0],\n",
    "#         \"lon\": lat_long_weight_dict[year][1],\n",
    "#         \"mode\": \"lines\",\n",
    "#         \"locationmode\": \"USA-states\",\n",
    "#         \"line\": dict(width=1, color=\"red\"),\n",
    "#         \"opacity\": lat_long_weight_dict[year][2]\n",
    "#     }\n",
    "\n",
    "#     frame[\"data\"].append(data_dict)\n",
    "#     fig_dict[\"frames\"].append(frame)\n",
    "#     slider_step = {\"args\": [\n",
    "#         [year],\n",
    "#         {\"frame\": {\"duration\": 300, \"redraw\": False},\n",
    "#          \"mode\": \"immediate\",\n",
    "#          \"transition\": {\"duration\": 300}}\n",
    "#     ],\n",
    "#         \"label\": year,\n",
    "#         \"method\": \"animate\"}\n",
    "    \n",
    "#     sliders_dict[\"steps\"].append(slider_step)\n",
    "\n",
    "# fig_dict[\"layout\"][\"sliders\"] = [sliders_dict]\n",
    "\n",
    "# fig_test = go.Figure(fig_dict)\n",
    "\n",
    "# fig_test.update_layout(\n",
    "#     title_text = 'TESTING',\n",
    "#     showlegend = False,\n",
    "#     geo = go.layout.Geo(\n",
    "#         scope = 'north america',\n",
    "#         projection_type = 'azimuthal equal area',\n",
    "#         showland = True,\n",
    "#         landcolor = 'rgb(243, 243, 243)',\n",
    "#         countrycolor = 'rgb(204, 204, 204)',\n",
    "#     ),\n",
    "# )\n",
    "# fig_test.show()"
   ]
  },
  {
   "cell_type": "code",
   "execution_count": null,
   "metadata": {},
   "outputs": [],
   "source": []
  },
  {
   "cell_type": "code",
   "execution_count": null,
   "metadata": {},
   "outputs": [],
   "source": []
  },
  {
   "cell_type": "code",
   "execution_count": 14,
   "metadata": {},
   "outputs": [],
   "source": [
    "# fig_ex = px.line_geo(data, lat=\"BUYER_LAT\", lon=\"BUYER_LONG\",\n",
    "#                      animation_frame=\"TRANSACTION_YEAR\", hover_name=\"BUYER_NAME\",\n",
    "#                      projection=\"azimuthal equal area\", scope=\"usa\",\n",
    "#                      title=\"Testing...\")\n",
    "# fig_ex.show()"
   ]
  },
  {
   "cell_type": "code",
   "execution_count": 15,
   "metadata": {},
   "outputs": [],
   "source": [
    "# no_date = data[[\"REPORTER_NAME\", \"REPORTER_LAT\", \"REPORTER_LONG\",\n",
    "#                 \"BUYER_NAME\", \"BUYER_LAT\", \"BUYER_LONG\", \"DOSAGE_UNIT\"]]"
   ]
  },
  {
   "cell_type": "code",
   "execution_count": 16,
   "metadata": {
    "scrolled": true
   },
   "outputs": [],
   "source": [
    "# no_date.head()"
   ]
  },
  {
   "cell_type": "code",
   "execution_count": 17,
   "metadata": {},
   "outputs": [],
   "source": [
    "# no_date.shape"
   ]
  },
  {
   "cell_type": "code",
   "execution_count": 18,
   "metadata": {},
   "outputs": [],
   "source": [
    "# data_agg = no_date.groupby([\"REPORTER_NAME\", \"REPORTER_LAT\", \"REPORTER_LONG\",\n",
    "#                             \"BUYER_NAME\", \"BUYER_LAT\", \"BUYER_LONG\"]).agg({\n",
    "#                                 \"DOSAGE_UNIT\": \"sum\"}).reset_index()"
   ]
  },
  {
   "cell_type": "code",
   "execution_count": 19,
   "metadata": {
    "scrolled": true
   },
   "outputs": [],
   "source": [
    "# data_agg.head()"
   ]
  },
  {
   "cell_type": "code",
   "execution_count": 20,
   "metadata": {},
   "outputs": [],
   "source": [
    "# data_agg[\"DOSAGE_UNIT\"].describe()"
   ]
  },
  {
   "cell_type": "code",
   "execution_count": 21,
   "metadata": {},
   "outputs": [],
   "source": [
    "# data_agg[\"DOSAGE_UNIT\"].sum()"
   ]
  },
  {
   "cell_type": "code",
   "execution_count": 22,
   "metadata": {},
   "outputs": [],
   "source": [
    "test_123 = data_agg.head(100)"
   ]
  },
  {
   "cell_type": "code",
   "execution_count": 26,
   "metadata": {},
   "outputs": [
    {
     "data": {
      "text/html": [
       "<div>\n",
       "<style scoped>\n",
       "    .dataframe tbody tr th:only-of-type {\n",
       "        vertical-align: middle;\n",
       "    }\n",
       "\n",
       "    .dataframe tbody tr th {\n",
       "        vertical-align: top;\n",
       "    }\n",
       "\n",
       "    .dataframe thead th {\n",
       "        text-align: right;\n",
       "    }\n",
       "</style>\n",
       "<table border=\"1\" class=\"dataframe\">\n",
       "  <thead>\n",
       "    <tr style=\"text-align: right;\">\n",
       "      <th></th>\n",
       "      <th>REPORTER_NAME</th>\n",
       "      <th>REPORTER_LAT</th>\n",
       "      <th>REPORTER_LONG</th>\n",
       "      <th>BUYER_NAME</th>\n",
       "      <th>BUYER_LAT</th>\n",
       "      <th>BUYER_LONG</th>\n",
       "      <th>TRANSACTION_YEAR</th>\n",
       "      <th>DOSAGE_UNIT</th>\n",
       "    </tr>\n",
       "  </thead>\n",
       "  <tbody>\n",
       "    <tr>\n",
       "      <th>0</th>\n",
       "      <td>A F HAUSER, INC</td>\n",
       "      <td>41.5</td>\n",
       "      <td>-87.0</td>\n",
       "      <td>ADAMS, NATHALIA C (DVM)</td>\n",
       "      <td>33.23</td>\n",
       "      <td>-97.11</td>\n",
       "      <td>2006</td>\n",
       "      <td>5000.0</td>\n",
       "    </tr>\n",
       "    <tr>\n",
       "      <th>1</th>\n",
       "      <td>A F HAUSER, INC</td>\n",
       "      <td>41.5</td>\n",
       "      <td>-87.0</td>\n",
       "      <td>ALLRED, JOHN A</td>\n",
       "      <td>29.70</td>\n",
       "      <td>-98.10</td>\n",
       "      <td>2006</td>\n",
       "      <td>1900.0</td>\n",
       "    </tr>\n",
       "    <tr>\n",
       "      <th>2</th>\n",
       "      <td>A F HAUSER, INC</td>\n",
       "      <td>41.5</td>\n",
       "      <td>-87.0</td>\n",
       "      <td>BOBECHKO, WALTER P MD</td>\n",
       "      <td>32.90</td>\n",
       "      <td>-96.79</td>\n",
       "      <td>2006</td>\n",
       "      <td>1500.0</td>\n",
       "    </tr>\n",
       "    <tr>\n",
       "      <th>3</th>\n",
       "      <td>A F HAUSER, INC</td>\n",
       "      <td>41.5</td>\n",
       "      <td>-87.0</td>\n",
       "      <td>BRANTLEY, GARY C DVM</td>\n",
       "      <td>32.97</td>\n",
       "      <td>-96.74</td>\n",
       "      <td>2009</td>\n",
       "      <td>700.0</td>\n",
       "    </tr>\n",
       "    <tr>\n",
       "      <th>4</th>\n",
       "      <td>A F HAUSER, INC</td>\n",
       "      <td>41.5</td>\n",
       "      <td>-87.0</td>\n",
       "      <td>BRANTLEY, GARY C DVM</td>\n",
       "      <td>32.97</td>\n",
       "      <td>-96.74</td>\n",
       "      <td>2010</td>\n",
       "      <td>200.0</td>\n",
       "    </tr>\n",
       "  </tbody>\n",
       "</table>\n",
       "</div>"
      ],
      "text/plain": [
       "     REPORTER_NAME  REPORTER_LAT  REPORTER_LONG               BUYER_NAME  \\\n",
       "0  A F HAUSER, INC          41.5          -87.0  ADAMS, NATHALIA C (DVM)   \n",
       "1  A F HAUSER, INC          41.5          -87.0           ALLRED, JOHN A   \n",
       "2  A F HAUSER, INC          41.5          -87.0    BOBECHKO, WALTER P MD   \n",
       "3  A F HAUSER, INC          41.5          -87.0     BRANTLEY, GARY C DVM   \n",
       "4  A F HAUSER, INC          41.5          -87.0     BRANTLEY, GARY C DVM   \n",
       "\n",
       "   BUYER_LAT  BUYER_LONG  TRANSACTION_YEAR  DOSAGE_UNIT  \n",
       "0      33.23      -97.11              2006       5000.0  \n",
       "1      29.70      -98.10              2006       1900.0  \n",
       "2      32.90      -96.79              2006       1500.0  \n",
       "3      32.97      -96.74              2009        700.0  \n",
       "4      32.97      -96.74              2010        200.0  "
      ]
     },
     "execution_count": 26,
     "metadata": {},
     "output_type": "execute_result"
    }
   ],
   "source": [
    "test_123.head()"
   ]
  },
  {
   "cell_type": "code",
   "execution_count": 28,
   "metadata": {},
   "outputs": [
    {
     "data": {
      "text/plain": [
       "[2006, 2007, 2008, 2009, 2010, 2011, 2012]"
      ]
     },
     "execution_count": 28,
     "metadata": {},
     "output_type": "execute_result"
    }
   ],
   "source": [
    "years"
   ]
  },
  {
   "cell_type": "code",
   "execution_count": 65,
   "metadata": {},
   "outputs": [
    {
     "data": {
      "application/vnd.jupyter.widget-view+json": {
       "model_id": "ceba5d56793642a88b9544a521dc2351",
       "version_major": 2,
       "version_minor": 0
      },
      "text/plain": [
       "interactive(children=(Dropdown(description='year', options=(2006, 2007, 2008, 2009, 2010, 2011, 2012), value=2…"
      ]
     },
     "metadata": {},
     "output_type": "display_data"
    }
   ],
   "source": [
    "# Using the ipywidgets\n",
    "@interact\n",
    "# Defining our visualization function\n",
    "# Here, the init values in the function define the dropdown menus\n",
    "def track_shipments(year=years):\n",
    "\n",
    "    # Creating a dataframe based on the year chosen\n",
    "    df = data_agg.loc[data_agg[\"TRANSACTION_YEAR\"] == year]\n",
    "\n",
    "    fig = go.Figure()\n",
    "\n",
    "    fig.add_trace(go.Scattergeo(\n",
    "        locationmode='USA-states',\n",
    "        lon=df['BUYER_LONG'],\n",
    "        lat=df['BUYER_LAT'],\n",
    "        text=df['BUYER_NAME'],\n",
    "        hoverinfo='text',\n",
    "        mode='markers',\n",
    "        marker=dict(\n",
    "            size=df[\"DOSAGE_UNIT\"] / 100000,\n",
    "            color=df[\"DOSAGE_UNIT\"],\n",
    "            colorscale=\"Viridis\",\n",
    "            line=dict(\n",
    "                width=3,\n",
    "                color='rgba(68, 68, 68, 0)'\n",
    "            )\n",
    "        )))\n",
    "\n",
    "    fig.update_layout(\n",
    "        title_text=\"Received Opioid Shipments in Texas, \" + str(year),\n",
    "        showlegend=False,\n",
    "        geo=go.layout.Geo(\n",
    "            scope='usa',\n",
    "            projection=go.layout.geo.Projection(\n",
    "                type='albers usa',\n",
    "                scale=2.3\n",
    "            ),\n",
    "            center={'lat': 31.9686, 'lon': -99.9018},\n",
    "            showland=True,\n",
    "            landcolor='rgb(243, 243, 243)',\n",
    "            countrycolor='rgb(204, 204, 204)',\n",
    "\n",
    "        )\n",
    "    )\n",
    "\n",
    "    fig.show()\n",
    "    \n",
    "    offline.plot(fig, filename='opioids_received_TX'+'.html') "
   ]
  },
  {
   "cell_type": "code",
   "execution_count": null,
   "metadata": {},
   "outputs": [],
   "source": []
  }
 ],
 "metadata": {
  "kernelspec": {
   "display_name": "Python 3",
   "language": "python",
   "name": "python3"
  },
  "language_info": {
   "codemirror_mode": {
    "name": "ipython",
    "version": 3
   },
   "file_extension": ".py",
   "mimetype": "text/x-python",
   "name": "python",
   "nbconvert_exporter": "python",
   "pygments_lexer": "ipython3",
   "version": "3.7.3"
  }
 },
 "nbformat": 4,
 "nbformat_minor": 2
}
